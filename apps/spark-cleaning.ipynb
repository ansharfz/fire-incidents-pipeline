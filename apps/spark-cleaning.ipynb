{
 "cells": [
  {
   "cell_type": "markdown",
   "id": "829995a0-acd1-4855-a309-62cc6d25170d",
   "metadata": {},
   "source": [
    "# Fire Incident Pipeline"
   ]
  },
  {
   "cell_type": "code",
   "execution_count": 1,
   "id": "ff4256a5-202c-40f0-9dc0-795648372ca7",
   "metadata": {},
   "outputs": [
    {
     "data": {
      "text/html": [
       "<style>pre{white-space: pre !important;}</style>"
      ],
      "text/plain": [
       "<IPython.core.display.HTML object>"
      ]
     },
     "metadata": {},
     "output_type": "display_data"
    }
   ],
   "source": [
    "from IPython.display import display, HTML\n",
    "display(HTML(\"<style>pre{white-space: pre !important;}</style>\"))"
   ]
  },
  {
   "cell_type": "code",
   "execution_count": 2,
   "id": "dbbecedb-a8df-4e2e-b3bd-f503a576a083",
   "metadata": {},
   "outputs": [],
   "source": [
    "import findspark\n",
    "import socket\n",
    "import pyspark.sql.functions as F\n",
    "\n",
    "from pyspark.sql import SparkSession\n",
    "from pyspark.sql.types import StructType, StructField, StringType, IntegerType, TimestampType, DateType"
   ]
  },
  {
   "cell_type": "code",
   "execution_count": 3,
   "id": "95b26d8a-dc12-46f9-b31a-3e3792c7623b",
   "metadata": {},
   "outputs": [],
   "source": [
    "findspark.init()"
   ]
  },
  {
   "cell_type": "code",
   "execution_count": 4,
   "id": "3b93a631-8d1a-4d0c-bf34-6c253f5f01d4",
   "metadata": {},
   "outputs": [
    {
     "name": "stderr",
     "output_type": "stream",
     "text": [
      "Setting default log level to \"WARN\".\n",
      "To adjust logging level use sc.setLogLevel(newLevel). For SparkR, use setLogLevel(newLevel).\n",
      "24/07/23 03:46:46 WARN NativeCodeLoader: Unable to load native-hadoop library for your platform... using builtin-java classes where applicable\n"
     ]
    }
   ],
   "source": [
    "spark = SparkSession.builder \\\n",
    "    .appName(\"Fire Incident\") \\\n",
    "    .master(\"local[1]\") \\\n",
    "    .config(\"spark.driver.host\", \"host.docker.internal\") \\\n",
    "    .config(\"spark.driver.bindAddress\", \"0.0.0.0\") \\\n",
    "    .config(\"spark.dynamicAllocation.enabled\", \"false\") \\\n",
    "    .config(\"spark.network.timeout\", \"600s\") \\\n",
    "    .config(\"spark.executor.heartbeatInterval\", \"120s\") \\\n",
    "    .config(\"spark.executor.instances\", \"1\") \\\n",
    "    .config(\"spark.cores.max\", \"1\") \\\n",
    "    .config(\"spark.executor.cores\", \"1\") \\\n",
    "    .config(\"spark.executor.memory\", \"512m\") \\\n",
    "    .config(\"spark.driver.memory\", \"512m\") \\\n",
    "    .config('spark.executor.extraClassPath', '../jars/postgresql-42.7.3.jar') \\\n",
    "    .getOrCreate()"
   ]
  },
  {
   "cell_type": "code",
   "execution_count": 5,
   "id": "89160bac-53bf-48b2-a2a7-48e821a9fc95",
   "metadata": {},
   "outputs": [],
   "source": [
    "schema = StructType([\n",
    "    StructField(\"Incident Number\", IntegerType(), True),\n",
    "    StructField(\"Exposure Number\", IntegerType(), True),\n",
    "    StructField(\"ID\", StringType(), True),\n",
    "    StructField(\"Address\", StringType(), True),\n",
    "    StructField(\"Incident Date\", DateType(), True),\n",
    "    StructField(\"Call Number\", IntegerType(), True),\n",
    "    StructField(\"Alarm DtTm\", TimestampType(), True),\n",
    "    StructField(\"Arrival DtTm\", TimestampType(), True),\n",
    "    StructField(\"Close DtTm\", TimestampType(), True),\n",
    "    StructField(\"City\", StringType(), True),\n",
    "    StructField(\"zipcode\", StringType(), True),\n",
    "    StructField(\"Battalion\", StringType(), True),\n",
    "    StructField(\"Station Area\", StringType(), True),\n",
    "    StructField(\"Box\", StringType(), True),\n",
    "    StructField(\"Suppression Units\", IntegerType(), True),\n",
    "    StructField(\"Suppression Personnel\", IntegerType(), True),\n",
    "    StructField(\"EMS Units\", IntegerType(), True),\n",
    "    StructField(\"EMS Personnel\", IntegerType(), True),\n",
    "    StructField(\"Other Units\", IntegerType(), True),\n",
    "    StructField(\"Other Personnel\", IntegerType(), True),\n",
    "    StructField(\"First Unit On Scene\", StringType(), True),\n",
    "    StructField(\"Estimated Property Loss\", IntegerType(), True),\n",
    "    StructField(\"Estimated Contents Loss\", IntegerType(), True),\n",
    "    StructField(\"Fire Fatalities\", IntegerType(), True),\n",
    "    StructField(\"Fire Injuries\", IntegerType(), True),\n",
    "    StructField(\"Civilian Fatalities\", IntegerType(), True),\n",
    "    StructField(\"Civilian Injuries\", IntegerType(), True),\n",
    "    StructField(\"Number of Alarms\", IntegerType(), True),\n",
    "    StructField(\"Primary Situation\", StringType(), True),\n",
    "    StructField(\"Mutual Aid\", StringType(), True),\n",
    "    StructField(\"Action Taken Primary\", StringType(), True),\n",
    "    StructField(\"Action Taken Secondary\", StringType(), True),\n",
    "    StructField(\"Action Taken Other\", StringType(), True),\n",
    "    StructField(\"Detector Alerted Occupants\", StringType(), True),\n",
    "    StructField(\"Property Use\", StringType(), True),\n",
    "    StructField(\"Area of Fire Origin\", StringType(), True),\n",
    "    StructField(\"Ignition Cause\", StringType(), True),\n",
    "    StructField(\"Ignition Factor Primary\", StringType(), True),\n",
    "    StructField(\"Ignition Factor Secondary\", StringType(), True),\n",
    "    StructField(\"Heat Source\", StringType(), True),\n",
    "    StructField(\"Item First Ignited\", StringType(), True),\n",
    "    StructField(\"Human Factors Associated with Ignition\", StringType(), True),\n",
    "    StructField(\"Structure Type\", StringType(), True),\n",
    "    StructField(\"Structure Status\", StringType(), True),\n",
    "    StructField(\"Floor of Fire Origin\", IntegerType(), True),\n",
    "    StructField(\"Fire Spread\", StringType(), True),\n",
    "    StructField(\"No Flame Spread\", StringType(), True),\n",
    "    StructField(\"Number of floors with minimum damage\", IntegerType(), True),\n",
    "    StructField(\"Number of floors with significant damage\", IntegerType(), True),\n",
    "    StructField(\"Number of floors with heavy damage\", IntegerType(), True),\n",
    "    StructField(\"Number of floors with extreme damage\", IntegerType(), True),\n",
    "    StructField(\"Detectors Present\", StringType(), True),\n",
    "    StructField(\"Detector Type\", StringType(), True),\n",
    "    StructField(\"Detector Operation\", StringType(), True),\n",
    "    StructField(\"Detector Effectiveness\", StringType(), True),\n",
    "    StructField(\"Detector Failure Reason\", StringType(), True),\n",
    "    StructField(\"Automatic Extinguishing System Present\", StringType(), True),\n",
    "    StructField(\"Automatic Extinguishing Sytem Type\", StringType(), True),\n",
    "    StructField(\"Automatic Extinguishing Sytem Perfomance\", StringType(), True),\n",
    "    StructField(\"Automatic Extinguishing Sytem Failure Reason\", StringType(), True),\n",
    "    StructField(\"Number of Sprinkler Heads Operating\", IntegerType(), True),\n",
    "    StructField(\"Supervisor District\", IntegerType(), True),\n",
    "    StructField(\"neighborhood_district\", StringType(), True),\n",
    "    StructField(\"point\", StringType(), True),\n",
    "    StructField(\"data_as_of\", TimestampType(), True),\n",
    "    StructField(\"data_loaded_at\", TimestampType(), True)\n",
    "])"
   ]
  },
  {
   "cell_type": "code",
   "execution_count": 6,
   "id": "3128d5d0-8a3f-40de-8c38-445f4ed25a4d",
   "metadata": {},
   "outputs": [
    {
     "name": "stderr",
     "output_type": "stream",
     "text": [
      "24/07/23 03:46:50 WARN package: Truncated the string representation of a plan since it was too large. This behavior can be adjusted by setting 'spark.sql.debug.maxToStringFields'.\n"
     ]
    },
    {
     "name": "stdout",
     "output_type": "stream",
     "text": [
      "+---------------+---------------+---------+--------------------------+-------------+-----------+-------------------+-------------------+-------------------+-------------+-------+---------+------------+----+-----------------+---------------------+---------+-------------+-----------+---------------+-------------------+-----------------------+-----------------------+---------------+-------------+-------------------+-----------------+----------------+----------------------------------------------------+----------+-------------------------------------------+----------------------+------------------+----------------------------+----------------------------------------------------+-------------------+--------------+-----------------------+-------------------------+-----------+------------------+--------------------------------------+--------------+----------------+--------------------+-----------+---------------+------------------------------------+----------------------------------------+----------------------------------+------------------------------------+-----------------+-------------+------------------+----------------------+-----------------------+--------------------------------------+----------------------------------+----------------------------------------+--------------------------------------------+-----------------------------------+-------------------+---------------------+-----------------------------+-------------------+-------------------+\n",
      "|Incident Number|Exposure Number|ID       |Address                   |Incident Date|Call Number|Alarm DtTm         |Arrival DtTm       |Close DtTm         |City         |zipcode|Battalion|Station Area|Box |Suppression Units|Suppression Personnel|EMS Units|EMS Personnel|Other Units|Other Personnel|First Unit On Scene|Estimated Property Loss|Estimated Contents Loss|Fire Fatalities|Fire Injuries|Civilian Fatalities|Civilian Injuries|Number of Alarms|Primary Situation                                   |Mutual Aid|Action Taken Primary                       |Action Taken Secondary|Action Taken Other|Detector Alerted Occupants  |Property Use                                        |Area of Fire Origin|Ignition Cause|Ignition Factor Primary|Ignition Factor Secondary|Heat Source|Item First Ignited|Human Factors Associated with Ignition|Structure Type|Structure Status|Floor of Fire Origin|Fire Spread|No Flame Spread|Number of floors with minimum damage|Number of floors with significant damage|Number of floors with heavy damage|Number of floors with extreme damage|Detectors Present|Detector Type|Detector Operation|Detector Effectiveness|Detector Failure Reason|Automatic Extinguishing System Present|Automatic Extinguishing Sytem Type|Automatic Extinguishing Sytem Perfomance|Automatic Extinguishing Sytem Failure Reason|Number of Sprinkler Heads Operating|Supervisor District|neighborhood_district|point                        |data_as_of         |data_loaded_at     |\n",
      "+---------------+---------------+---------+--------------------------+-------------+-----------+-------------------+-------------------+-------------------+-------------+-------+---------+------------+----+-----------------+---------------------+---------+-------------+-----------+---------------+-------------------+-----------------------+-----------------------+---------------+-------------+-------------------+-----------------+----------------+----------------------------------------------------+----------+-------------------------------------------+----------------------+------------------+----------------------------+----------------------------------------------------+-------------------+--------------+-----------------------+-------------------------+-----------+------------------+--------------------------------------+--------------+----------------+--------------------+-----------+---------------+------------------------------------+----------------------------------------+----------------------------------+------------------------------------+-----------------+-------------+------------------+----------------------+-----------------------+--------------------------------------+----------------------------------+----------------------------------------+--------------------------------------------+-----------------------------------+-------------------+---------------------+-----------------------------+-------------------+-------------------+\n",
      "|17047393       |0              |170473930|0 BARNEVELD AVENUE        |2017-04-21   |171111861  |2017-04-21 12:09:04|2017-04-21 12:09:04|2017-04-21 12:17:35|San Francisco|94124  |B10      |42          |6362|1                |5                    |0        |0            |0          |0              |null               |5                      |5                      |0              |0            |0                  |0                |1               |118 Trash or rubbish fire, contained                |N None    |11 Extinguishment by fire service personnel|null                  |null              |U Unknown                   |963 Street or road in commercial area               |null               |null          |null                   |null                     |null       |null              |null                                  |null          |null            |null                |null       |NA             |null                                |null                                    |null                              |null                                |null             |null         |null              |null                  |null                   |null                                  |null                              |null                                    |null                                        |null                               |9                  |Portola              |POINT (-122.406574 37.732143)|2017-04-21 12:17:35|2024-05-15 02:26:57|\n",
      "|17047397       |0              |170473970|940 SUTTER STREET         |2017-04-21   |171111879  |2017-04-21 12:13:00|2017-04-21 12:18:37|2017-04-21 12:23:16|San Francisco|94109  |B04      |03          |1557|1                |4                    |0        |0            |0          |0              |null               |null                   |null                   |0              |0            |0                  |0                |1               |735 Alarm system sounded due to malfunction         |N None    |86 Investigate                             |null                  |null              |null                        |400 Residential, other                              |null               |null          |null                   |null                     |null       |null              |null                                  |null          |null            |null                |null       |NA             |null                                |null                                    |null                              |null                                |null             |null         |null              |null                  |null                   |null                                  |null                              |null                                    |null                                        |null                               |3                  |Nob Hill             |POINT (-122.415928 37.788576)|2017-04-21 12:23:16|2024-05-15 02:26:57|\n",
      "|17047411       |0              |170474110|61 TURNER TRAIL           |2017-04-21   |171112031  |2017-04-21 12:45:05|2017-04-21 12:46:55|2017-04-21 13:05:22|San Francisco|94107  |B10      |37          |2542|1                |4                    |0        |0            |0          |0              |null               |null                   |null                   |0              |0            |0                  |0                |1               |440 Electrical  wiring/equipment problem, other     |N None    |86 Investigate                             |null                  |null              |null                        |429 Multifamily dwelling                            |null               |null          |null                   |null                     |null       |null              |null                                  |null          |null            |null                |null       |NA             |null                                |null                                    |null                              |null                                |null             |null         |null              |null                  |null                   |null                                  |null                              |null                                    |null                                        |null                               |10                 |Potrero Hill         |POINT (-122.395021 37.756551)|2017-04-21 13:05:22|2024-05-15 02:26:57|\n",
      "|17047413       |0              |170474130|0 AMAZON AVENUE           |2017-04-21   |171112045  |2017-04-21 12:48:10|2017-04-21 12:55:50|2017-04-21 14:30:36|San Francisco|94112  |B09      |43          |6174|1                |4                    |1        |2            |0          |0              |null               |null                   |null                   |0              |0            |0                  |0                |1               |322 Motor vehicle accident with injuries            |N None    |32 Provide basic life support (BLS)        |null                  |null              |null                        |962 Residential street, road or residential driveway|null               |null          |null                   |null                     |null       |null              |null                                  |null          |null            |null                |null       |NA             |null                                |null                                    |null                              |null                                |null             |null         |null              |null                  |null                   |null                                  |null                              |null                                    |null                                        |null                               |11                 |Excelsior            |POINT (-122.437047 37.716007)|2017-04-21 14:30:36|2024-05-15 02:26:57|\n",
      "|17047421       |0              |170474210|1801 GREEN STREET         |2017-04-21   |171112147  |2017-04-21 13:09:58|2017-04-21 13:13:38|2017-04-21 13:22:06|San Francisco|94123  |B04      |16          |3354|3                |10                   |0        |0            |0          |0              |null               |null                   |null                   |0              |0            |0                  |0                |1               |730 System malfunction, other                       |N None    |63 Restore fire alarm system               |null                  |null              |null                        |151 Library                                         |null               |null          |null                   |null                     |null       |null              |null                                  |null          |null            |null                |null       |NA             |null                                |null                                    |null                              |null                                |null             |null         |null              |null                  |null                   |null                                  |null                              |null                                    |null                                        |null                               |2                  |Marina               |POINT (-122.429023 37.796789)|2017-04-21 13:22:06|2024-05-15 02:26:57|\n",
      "|17047426       |0              |170474260|2201 SACRAMENTO STREET    |2017-04-21   |171112182  |2017-04-21 13:17:45|2017-04-21 13:25:03|2017-04-21 13:30:27|San Francisco|94115  |B04      |38          |3435|1                |4                    |0        |0            |0          |0              |null               |null                   |null                   |0              |0            |0                  |0                |1               |735 Alarm system sounded due to malfunction         |N None    |86 Investigate                             |null                  |null              |null                        |400 Residential, other                              |null               |null          |null                   |null                     |null       |null              |null                                  |null          |null            |null                |null       |NA             |null                                |null                                    |null                              |null                                |null             |null         |null              |null                  |null                   |null                                  |null                              |null                                    |null                                        |null                               |2                  |Pacific Heights      |POINT (-122.429168 37.79038) |2017-04-21 13:30:27|2024-05-15 02:26:57|\n",
      "|17047433       |0              |170474330|382 TEXAS STREET          |2017-04-21   |171112209  |2017-04-21 13:24:50|2017-04-21 13:31:44|2017-04-21 13:33:16|San Francisco|94107  |B03      |37          |2462|1                |4                    |0        |0            |0          |0              |null               |null                   |null                   |0              |0            |0                  |0                |1               |740 Unintentional transmission of alarm, other      |N None    |86 Investigate                             |null                  |null              |null                        |419 1 or 2 family dwelling                          |null               |null          |null                   |null                     |null       |null              |null                                  |null          |null            |null                |null       |NA             |null                                |null                                    |null                              |null                                |null             |null         |null              |null                  |null                   |null                                  |null                              |null                                    |null                                        |null                               |10                 |Potrero Hill         |POINT (-122.395553 37.76161) |2017-04-21 13:33:16|2024-05-15 02:26:57|\n",
      "|17047439       |0              |170474390|530 SANSOME STREET        |2017-04-21   |171112259  |2017-04-21 13:36:16|2017-04-21 13:36:16|2017-04-21 14:24:21|San Francisco|94111  |B01      |13          |1211|1                |5                    |0        |0            |0          |0              |null               |null                   |null                   |0              |0            |0                  |0                |1               |571 Cover assignment, standby, moveup               |N None    |47 Decontaminate occupancy or area         |null                  |null              |null                        |150 Public or government, other                     |null               |null          |null                   |null                     |null       |null              |null                                  |null          |null            |null                |null       |NA             |null                                |null                                    |null                              |null                                |null             |null         |null              |null                  |null                   |null                                  |null                              |null                                    |null                                        |null                               |3                  |Chinatown            |POINT (-122.40135 37.795518) |2017-04-21 14:24:21|2024-05-15 02:26:57|\n",
      "|17047441       |0              |170474410|0 GEARY STREET            |2017-04-21   |171112304  |2017-04-21 13:45:52|2017-04-21 13:45:52|2017-04-21 15:34:29|San Francisco|94102  |B01      |03          |1462|1                |4                    |1        |2            |0          |0              |null               |null                   |null                   |0              |0            |0                  |0                |1               |322 Motor vehicle accident with injuries            |N None    |30 Emergency medical services, other       |null                  |null              |null                        |962 Residential street, road or residential driveway|null               |null          |null                   |null                     |null       |null              |null                                  |null          |null            |null                |null       |NA             |null                                |null                                    |null                              |null                                |null             |null         |null              |null                  |null                   |null                                  |null                              |null                                    |null                                        |null                               |5                  |Tenderloin           |POINT (-122.41481 37.786519) |2017-04-21 15:34:29|2024-05-15 02:26:57|\n",
      "|17047445       |0              |170474450|479 NATOMA STREET         |2017-04-21   |171112378  |2017-04-21 14:04:57|2017-04-21 14:09:30|2017-04-21 14:21:15|San Francisco|94103  |B03      |01          |2252|1                |4                    |0        |0            |0          |0              |null               |null                   |null                   |0              |0            |0                  |0                |1               |700 False alarm or false call, other                |N None    |86 Investigate                             |null                  |null              |null                        |429 Multifamily dwelling                            |null               |null          |null                   |null                     |null       |null              |null                                  |null          |null            |null                |null       |NA             |null                                |null                                    |null                              |null                                |null             |null         |null              |null                  |null                   |null                                  |null                              |null                                    |null                                        |null                               |6                  |South of Market      |POINT (-122.407145 37.7805)  |2017-04-21 14:21:15|2024-05-15 02:26:57|\n",
      "|17047451       |0              |170474510|2600 ARELIOUS WALKER DRIVE|2017-04-21   |171112458  |2017-04-21 14:20:02|2017-04-21 14:26:14|2017-04-21 14:38:52|San Francisco|94124  |B10      |17          |6615|1                |4                    |0        |0            |0          |0              |null               |null                   |null                   |0              |0            |0                  |0                |1               |745 Alarm system activation, no fire - unintentional|N None    |00 Action taken, other                     |null                  |null              |null                        |400 Residential, other                              |null               |null          |null                   |null                     |null       |null              |null                                  |null          |null            |null                |null       |NA             |null                                |null                                    |null                              |null                                |null             |null         |null              |null                  |null                   |null                                  |null                              |null                                    |null                                        |null                               |10                 |Bayview Hunters Point|POINT (-122.38468 37.719095) |2017-04-21 14:38:52|2024-05-15 02:26:57|\n",
      "|17047452       |0              |170474520|0 SKYLINE BL              |2017-04-21   |171112468  |2017-04-21 14:24:03|2017-04-21 14:31:02|2017-04-21 14:32:54|San Francisco|94132  |B08      |19          |8772|1                |4                    |1        |2            |0          |0              |null               |null                   |null                   |0              |0            |0                  |0                |1               |324 Motor vehicle accident with no injuries.        |N None    |86 Investigate                             |null                  |null              |null                        |NNN None                                            |null               |null          |null                   |null                     |null       |null              |null                                  |null          |null            |null                |null       |NA             |null                                |null                                    |null                              |null                                |null             |null         |null              |null                  |null                   |null                                  |null                              |null                                    |null                                        |null                               |7                  |Lakeshore            |POINT (-122.498036 37.709984)|2017-04-21 14:32:54|2024-05-15 02:26:57|\n",
      "|17047453       |0              |170474530|865 MARKET STREET         |2017-04-21   |171112476  |2017-04-21 14:25:22|2017-04-21 14:29:53|2017-04-21 14:31:53|San Francisco|94103  |B01      |01          |2247|1                |4                    |0        |0            |0          |0              |null               |null                   |null                   |0              |0            |0                  |0                |1               |700 False alarm or false call, other                |N None    |86 Investigate                             |null                  |null              |null                        |500 Mercantile, business, other                     |null               |null          |null                   |null                     |null       |null              |null                                  |null          |null            |null                |null       |NA             |null                                |null                                    |null                              |null                                |null             |null         |null              |null                  |null                   |null                                  |null                              |null                                    |null                                        |null                               |6                  |South of Market      |POINT (-122.407158 37.783947)|2017-04-21 14:31:53|2024-05-15 02:26:57|\n",
      "|17047454       |0              |170474540|0 14TH AVENUE             |2017-04-21   |171112478  |2017-04-21 14:25:40|2017-04-21 14:30:09|2017-04-21 14:32:21|San Francisco|94116  |B08      |40          |7362|1                |4                    |0        |0            |0          |0              |null               |null                   |null                   |0              |0            |0                  |0                |1               |554 Assist invalid                                  |N None    |71 Assist physically disabled              |null                  |null              |null                        |419 1 or 2 family dwelling                          |null               |null          |null                   |null                     |null       |null              |null                                  |null          |null            |null                |null       |NA             |null                                |null                                    |null                              |null                                |null             |null         |null              |null                  |null                   |null                                  |null                              |null                                    |null                                        |null                               |7                  |West of Twin Peaks   |POINT (-122.470596 37.748868)|2017-04-21 14:32:21|2024-05-15 02:26:57|\n",
      "|17047456       |0              |170474560|684 ELLIS STREET          |2017-04-21   |171112490  |2017-04-21 14:28:25|2017-04-21 14:32:04|2017-04-21 16:09:39|San Francisco|94109  |B02      |03          |1555|2                |9                    |1        |2            |0          |0              |null               |null                   |null                   |0              |0            |0                  |0                |1               |500 Service Call, other                             |N None    |00 Action taken, other                     |null                  |null              |null                        |429 Multifamily dwelling                            |null               |null          |null                   |null                     |null       |null              |null                                  |null          |null            |null                |null       |NA             |null                                |null                                    |null                              |null                                |null             |null         |null              |null                  |null                   |null                                  |null                              |null                                    |null                                        |null                               |5                  |Tenderloin           |POINT (-122.417507 37.784395)|2017-04-21 16:09:39|2024-05-15 02:26:57|\n",
      "|17047457       |0              |170474570|1035 GILMAN AVENUE        |2017-04-21   |171112497  |2017-04-21 14:29:23|2017-04-21 14:35:55|2017-04-21 14:41:03|San Francisco|94124  |B10      |17          |6611|1                |5                    |0        |0            |0          |0              |null               |null                   |null                   |0              |0            |0                  |0                |1               |700 False alarm or false call, other                |N None    |00 Action taken, other                     |null                  |null              |null                        |213 Elementary school, including kindergarten       |null               |null          |null                   |null                     |null       |null              |null                                  |null          |null            |null                |null       |NA             |null                                |null                                    |null                              |null                                |null             |null         |null              |null                  |null                   |null                                  |null                              |null                                    |null                                        |null                               |10                 |Bayview Hunters Point|POINT (-122.388948 37.717956)|2017-04-21 14:41:03|2024-05-15 02:26:57|\n",
      "|17047459       |0              |170474590|933 GRANT AVENUE          |2017-04-21   |171112530  |2017-04-21 14:35:43|2017-04-21 14:38:29|2017-04-21 14:47:10|San Francisco|94133  |B01      |02          |1312|1                |4                    |0        |0            |0          |0              |null               |null                   |null                   |0              |0            |0                  |0                |1               |745 Alarm system activation, no fire - unintentional|N None    |63 Restore fire alarm system               |null                  |null              |null                        |429 Multifamily dwelling                            |null               |null          |null                   |null                     |null       |null              |null                                  |null          |null            |null                |null       |NA             |null                                |null                                    |null                              |null                                |null             |null         |null              |null                  |null                   |null                                  |null                              |null                                    |null                                        |null                               |3                  |Chinatown            |POINT (-122.406628 37.795445)|2017-04-21 14:47:10|2024-05-15 02:26:57|\n",
      "|17047460       |0              |170474600|643 OAK STREET            |2017-04-21   |171112537  |2017-04-21 14:37:03|2017-04-21 14:38:55|2017-04-21 14:59:45|San Francisco|94117  |B02      |05          |3523|9                |33                   |1        |2            |1          |2              |null               |null                   |null                   |0              |0            |0                  |0                |1               |113 Cooking fire, confined to container             |N None    |86 Investigate                             |null                  |null              |1 Detector alerted occupants|429 Multifamily dwelling                            |null               |null          |null                   |null                     |null       |null              |null                                  |null          |null            |null                |null       |NA             |null                                |null                                    |null                              |null                                |null             |null         |null              |null                  |null                   |null                                  |null                              |null                                    |null                                        |null                               |5                  |Hayes Valley         |POINT (-122.429884 37.774023)|2017-04-21 14:59:45|2024-05-15 02:26:57|\n",
      "|17047463       |0              |170474630|0 PINE STREET             |2017-04-21   |171112544  |2017-04-21 14:38:55|2017-04-21 14:42:17|2017-04-21 15:15:29|San Francisco|94109  |B04      |38          |3325|1                |4                    |0        |0            |0          |0              |null               |null                   |null                   |0              |0            |0                  |0                |1               |322 Motor vehicle accident with injuries            |N None    |30 Emergency medical services, other       |null                  |null              |null                        |962 Residential street, road or residential driveway|null               |null          |null                   |null                     |null       |null              |null                                  |null          |null            |null                |null       |NA             |null                                |null                                    |null                              |null                                |null             |null         |null              |null                  |null                   |null                                  |null                              |null                                    |null                                        |null                               |5                  |Pacific Heights      |POINT (-122.428715 37.788575)|2017-04-21 15:15:29|2024-05-15 02:26:57|\n",
      "|17047468       |0              |170474680|421 LEAVENWORTH STREET    |2017-04-21   |171112591  |2017-04-21 14:47:13|2017-04-21 14:52:30|2017-04-21 14:55:23|San Francisco|94102  |B04      |03          |1544|1                |4                    |0        |0            |0          |0              |null               |null                   |null                   |0              |0            |0                  |0                |1               |745 Alarm system activation, no fire - unintentional|N None    |86 Investigate                             |null                  |null              |null                        |400 Residential, other                              |null               |null          |null                   |null                     |null       |null              |null                                  |null          |null            |null                |null       |NA             |null                                |null                                    |null                              |null                                |null             |null         |null              |null                  |null                   |null                                  |null                              |null                                    |null                                        |null                               |5                  |Tenderloin           |POINT (-122.414754 37.784991)|2017-04-21 14:55:23|2024-05-15 02:26:57|\n",
      "+---------------+---------------+---------+--------------------------+-------------+-----------+-------------------+-------------------+-------------------+-------------+-------+---------+------------+----+-----------------+---------------------+---------+-------------+-----------+---------------+-------------------+-----------------------+-----------------------+---------------+-------------+-------------------+-----------------+----------------+----------------------------------------------------+----------+-------------------------------------------+----------------------+------------------+----------------------------+----------------------------------------------------+-------------------+--------------+-----------------------+-------------------------+-----------+------------------+--------------------------------------+--------------+----------------+--------------------+-----------+---------------+------------------------------------+----------------------------------------+----------------------------------+------------------------------------+-----------------+-------------+------------------+----------------------+-----------------------+--------------------------------------+----------------------------------+----------------------------------------+--------------------------------------------+-----------------------------------+-------------------+---------------------+-----------------------------+-------------------+-------------------+\n",
      "only showing top 20 rows\n",
      "\n"
     ]
    }
   ],
   "source": [
    "df = spark.read \\\n",
    "        .schema(schema) \\\n",
    "        .format('csv') \\\n",
    "        .option('header', 'True') \\\n",
    "        .option('dateFormat', 'yyyy/MM/dd') \\\n",
    "        .option('timestampFormat', 'yyyy/MM/dd hh:mm:ss a') \\\n",
    "        .load('../data/raw/Fire_Incidents_20240516.csv')\n",
    "df.show(truncate=False)"
   ]
  },
  {
   "cell_type": "markdown",
   "id": "64623dba-8528-44c4-a8eb-fd7bde4a9ab3",
   "metadata": {},
   "source": [
    "## Rename Column"
   ]
  },
  {
   "cell_type": "code",
   "execution_count": 7,
   "id": "55639755-621b-43b4-9ac1-8c484425ec1f",
   "metadata": {},
   "outputs": [],
   "source": [
    "# Change all column to be lowercase and replacing space with underscore (_)\n",
    "df = df.select([F.col(c).alias(c.lower().replace(' ', '_')) for c in df.columns])"
   ]
  },
  {
   "cell_type": "code",
   "execution_count": 8,
   "id": "e73f394f-c13e-4a8c-afca-f64299386abe",
   "metadata": {},
   "outputs": [],
   "source": [
    "# Rename misnamed columns\n",
    "df = df.withColumnRenamed(\"automatic_extinguishing_sytem_type\", \"automatic_extinguishing_system_type\") \\\n",
    "       .withColumnRenamed(\"automatic_extinguishing_sytem_failure_reason\", \"automatic_extinguishing_system_failure_reason\") \\\n",
    "       .withColumnRenamed(\"automatic_extinguishing_sytem_perfomance\", \"automatic_extinguishing_system_performance\")"
   ]
  },
  {
   "cell_type": "code",
   "execution_count": 9,
   "id": "cf08d4ae-f93f-45c3-b90a-ee104a466eca",
   "metadata": {},
   "outputs": [
    {
     "name": "stdout",
     "output_type": "stream",
     "text": [
      "+---------------+---------------+---------+--------------------+-------------+-----------+-------------------+-------------------+-------------------+-------------+-------+---------+------------+----+-----------------+---------------------+---------+-------------+-----------+---------------+-------------------+-----------------------+-----------------------+---------------+-------------+-------------------+-----------------+----------------+--------------------+----------+--------------------+----------------------+------------------+--------------------------+--------------------+-------------------+--------------+-----------------------+-------------------------+-----------+------------------+--------------------------------------+--------------+----------------+--------------------+-----------+---------------+------------------------------------+----------------------------------------+----------------------------------+------------------------------------+-----------------+-------------+------------------+----------------------+-----------------------+--------------------------------------+-----------------------------------+------------------------------------------+---------------------------------------------+-----------------------------------+-------------------+---------------------+--------------------+-------------------+-------------------+\n",
      "|incident_number|exposure_number|       id|             address|incident_date|call_number|         alarm_dttm|       arrival_dttm|         close_dttm|         city|zipcode|battalion|station_area| box|suppression_units|suppression_personnel|ems_units|ems_personnel|other_units|other_personnel|first_unit_on_scene|estimated_property_loss|estimated_contents_loss|fire_fatalities|fire_injuries|civilian_fatalities|civilian_injuries|number_of_alarms|   primary_situation|mutual_aid|action_taken_primary|action_taken_secondary|action_taken_other|detector_alerted_occupants|        property_use|area_of_fire_origin|ignition_cause|ignition_factor_primary|ignition_factor_secondary|heat_source|item_first_ignited|human_factors_associated_with_ignition|structure_type|structure_status|floor_of_fire_origin|fire_spread|no_flame_spread|number_of_floors_with_minimum_damage|number_of_floors_with_significant_damage|number_of_floors_with_heavy_damage|number_of_floors_with_extreme_damage|detectors_present|detector_type|detector_operation|detector_effectiveness|detector_failure_reason|automatic_extinguishing_system_present|automatic_extinguishing_system_type|automatic_extinguishing_system_performance|automatic_extinguishing_system_failure_reason|number_of_sprinkler_heads_operating|supervisor_district|neighborhood_district|               point|         data_as_of|     data_loaded_at|\n",
      "+---------------+---------------+---------+--------------------+-------------+-----------+-------------------+-------------------+-------------------+-------------+-------+---------+------------+----+-----------------+---------------------+---------+-------------+-----------+---------------+-------------------+-----------------------+-----------------------+---------------+-------------+-------------------+-----------------+----------------+--------------------+----------+--------------------+----------------------+------------------+--------------------------+--------------------+-------------------+--------------+-----------------------+-------------------------+-----------+------------------+--------------------------------------+--------------+----------------+--------------------+-----------+---------------+------------------------------------+----------------------------------------+----------------------------------+------------------------------------+-----------------+-------------+------------------+----------------------+-----------------------+--------------------------------------+-----------------------------------+------------------------------------------+---------------------------------------------+-----------------------------------+-------------------+---------------------+--------------------+-------------------+-------------------+\n",
      "|       17047393|              0|170473930|  0 BARNEVELD AVENUE|   2017-04-21|  171111861|2017-04-21 12:09:04|2017-04-21 12:09:04|2017-04-21 12:17:35|San Francisco|  94124|      B10|          42|6362|                1|                    5|        0|            0|          0|              0|               null|                      5|                      5|              0|            0|                  0|                0|               1|118 Trash or rubb...|    N None|11 Extinguishment...|                  null|              null|                 U Unknown|963 Street or roa...|               null|          null|                   null|                     null|       null|              null|                                  null|          null|            null|                null|       null|             NA|                                null|                                    null|                              null|                                null|             null|         null|              null|                  null|                   null|                                  null|                               null|                                      null|                                         null|                               null|                  9|              Portola|POINT (-122.40657...|2017-04-21 12:17:35|2024-05-15 02:26:57|\n",
      "|       17047397|              0|170473970|   940 SUTTER STREET|   2017-04-21|  171111879|2017-04-21 12:13:00|2017-04-21 12:18:37|2017-04-21 12:23:16|San Francisco|  94109|      B04|          03|1557|                1|                    4|        0|            0|          0|              0|               null|                   null|                   null|              0|            0|                  0|                0|               1|735 Alarm system ...|    N None|      86 Investigate|                  null|              null|                      null|400 Residential, ...|               null|          null|                   null|                     null|       null|              null|                                  null|          null|            null|                null|       null|             NA|                                null|                                    null|                              null|                                null|             null|         null|              null|                  null|                   null|                                  null|                               null|                                      null|                                         null|                               null|                  3|             Nob Hill|POINT (-122.41592...|2017-04-21 12:23:16|2024-05-15 02:26:57|\n",
      "|       17047411|              0|170474110|     61 TURNER TRAIL|   2017-04-21|  171112031|2017-04-21 12:45:05|2017-04-21 12:46:55|2017-04-21 13:05:22|San Francisco|  94107|      B10|          37|2542|                1|                    4|        0|            0|          0|              0|               null|                   null|                   null|              0|            0|                  0|                0|               1|440 Electrical  w...|    N None|      86 Investigate|                  null|              null|                      null|429 Multifamily d...|               null|          null|                   null|                     null|       null|              null|                                  null|          null|            null|                null|       null|             NA|                                null|                                    null|                              null|                                null|             null|         null|              null|                  null|                   null|                                  null|                               null|                                      null|                                         null|                               null|                 10|         Potrero Hill|POINT (-122.39502...|2017-04-21 13:05:22|2024-05-15 02:26:57|\n",
      "|       17047413|              0|170474130|     0 AMAZON AVENUE|   2017-04-21|  171112045|2017-04-21 12:48:10|2017-04-21 12:55:50|2017-04-21 14:30:36|San Francisco|  94112|      B09|          43|6174|                1|                    4|        1|            2|          0|              0|               null|                   null|                   null|              0|            0|                  0|                0|               1|322 Motor vehicle...|    N None|32 Provide basic ...|                  null|              null|                      null|962 Residential s...|               null|          null|                   null|                     null|       null|              null|                                  null|          null|            null|                null|       null|             NA|                                null|                                    null|                              null|                                null|             null|         null|              null|                  null|                   null|                                  null|                               null|                                      null|                                         null|                               null|                 11|            Excelsior|POINT (-122.43704...|2017-04-21 14:30:36|2024-05-15 02:26:57|\n",
      "|       17047421|              0|170474210|   1801 GREEN STREET|   2017-04-21|  171112147|2017-04-21 13:09:58|2017-04-21 13:13:38|2017-04-21 13:22:06|San Francisco|  94123|      B04|          16|3354|                3|                   10|        0|            0|          0|              0|               null|                   null|                   null|              0|            0|                  0|                0|               1|730 System malfun...|    N None|63 Restore fire a...|                  null|              null|                      null|         151 Library|               null|          null|                   null|                     null|       null|              null|                                  null|          null|            null|                null|       null|             NA|                                null|                                    null|                              null|                                null|             null|         null|              null|                  null|                   null|                                  null|                               null|                                      null|                                         null|                               null|                  2|               Marina|POINT (-122.42902...|2017-04-21 13:22:06|2024-05-15 02:26:57|\n",
      "|       17047426|              0|170474260|2201 SACRAMENTO S...|   2017-04-21|  171112182|2017-04-21 13:17:45|2017-04-21 13:25:03|2017-04-21 13:30:27|San Francisco|  94115|      B04|          38|3435|                1|                    4|        0|            0|          0|              0|               null|                   null|                   null|              0|            0|                  0|                0|               1|735 Alarm system ...|    N None|      86 Investigate|                  null|              null|                      null|400 Residential, ...|               null|          null|                   null|                     null|       null|              null|                                  null|          null|            null|                null|       null|             NA|                                null|                                    null|                              null|                                null|             null|         null|              null|                  null|                   null|                                  null|                               null|                                      null|                                         null|                               null|                  2|      Pacific Heights|POINT (-122.42916...|2017-04-21 13:30:27|2024-05-15 02:26:57|\n",
      "|       17047433|              0|170474330|    382 TEXAS STREET|   2017-04-21|  171112209|2017-04-21 13:24:50|2017-04-21 13:31:44|2017-04-21 13:33:16|San Francisco|  94107|      B03|          37|2462|                1|                    4|        0|            0|          0|              0|               null|                   null|                   null|              0|            0|                  0|                0|               1|740 Unintentional...|    N None|      86 Investigate|                  null|              null|                      null|419 1 or 2 family...|               null|          null|                   null|                     null|       null|              null|                                  null|          null|            null|                null|       null|             NA|                                null|                                    null|                              null|                                null|             null|         null|              null|                  null|                   null|                                  null|                               null|                                      null|                                         null|                               null|                 10|         Potrero Hill|POINT (-122.39555...|2017-04-21 13:33:16|2024-05-15 02:26:57|\n",
      "|       17047439|              0|170474390|  530 SANSOME STREET|   2017-04-21|  171112259|2017-04-21 13:36:16|2017-04-21 13:36:16|2017-04-21 14:24:21|San Francisco|  94111|      B01|          13|1211|                1|                    5|        0|            0|          0|              0|               null|                   null|                   null|              0|            0|                  0|                0|               1|571 Cover assignm...|    N None|47 Decontaminate ...|                  null|              null|                      null|150 Public or gov...|               null|          null|                   null|                     null|       null|              null|                                  null|          null|            null|                null|       null|             NA|                                null|                                    null|                              null|                                null|             null|         null|              null|                  null|                   null|                                  null|                               null|                                      null|                                         null|                               null|                  3|            Chinatown|POINT (-122.40135...|2017-04-21 14:24:21|2024-05-15 02:26:57|\n",
      "|       17047441|              0|170474410|      0 GEARY STREET|   2017-04-21|  171112304|2017-04-21 13:45:52|2017-04-21 13:45:52|2017-04-21 15:34:29|San Francisco|  94102|      B01|          03|1462|                1|                    4|        1|            2|          0|              0|               null|                   null|                   null|              0|            0|                  0|                0|               1|322 Motor vehicle...|    N None|30 Emergency medi...|                  null|              null|                      null|962 Residential s...|               null|          null|                   null|                     null|       null|              null|                                  null|          null|            null|                null|       null|             NA|                                null|                                    null|                              null|                                null|             null|         null|              null|                  null|                   null|                                  null|                               null|                                      null|                                         null|                               null|                  5|           Tenderloin|POINT (-122.41481...|2017-04-21 15:34:29|2024-05-15 02:26:57|\n",
      "|       17047445|              0|170474450|   479 NATOMA STREET|   2017-04-21|  171112378|2017-04-21 14:04:57|2017-04-21 14:09:30|2017-04-21 14:21:15|San Francisco|  94103|      B03|          01|2252|                1|                    4|        0|            0|          0|              0|               null|                   null|                   null|              0|            0|                  0|                0|               1|700 False alarm o...|    N None|      86 Investigate|                  null|              null|                      null|429 Multifamily d...|               null|          null|                   null|                     null|       null|              null|                                  null|          null|            null|                null|       null|             NA|                                null|                                    null|                              null|                                null|             null|         null|              null|                  null|                   null|                                  null|                               null|                                      null|                                         null|                               null|                  6|      South of Market|POINT (-122.40714...|2017-04-21 14:21:15|2024-05-15 02:26:57|\n",
      "|       17047451|              0|170474510|2600 ARELIOUS WAL...|   2017-04-21|  171112458|2017-04-21 14:20:02|2017-04-21 14:26:14|2017-04-21 14:38:52|San Francisco|  94124|      B10|          17|6615|                1|                    4|        0|            0|          0|              0|               null|                   null|                   null|              0|            0|                  0|                0|               1|745 Alarm system ...|    N None|00 Action taken, ...|                  null|              null|                      null|400 Residential, ...|               null|          null|                   null|                     null|       null|              null|                                  null|          null|            null|                null|       null|             NA|                                null|                                    null|                              null|                                null|             null|         null|              null|                  null|                   null|                                  null|                               null|                                      null|                                         null|                               null|                 10| Bayview Hunters P...|POINT (-122.38468...|2017-04-21 14:38:52|2024-05-15 02:26:57|\n",
      "|       17047452|              0|170474520|        0 SKYLINE BL|   2017-04-21|  171112468|2017-04-21 14:24:03|2017-04-21 14:31:02|2017-04-21 14:32:54|San Francisco|  94132|      B08|          19|8772|                1|                    4|        1|            2|          0|              0|               null|                   null|                   null|              0|            0|                  0|                0|               1|324 Motor vehicle...|    N None|      86 Investigate|                  null|              null|                      null|            NNN None|               null|          null|                   null|                     null|       null|              null|                                  null|          null|            null|                null|       null|             NA|                                null|                                    null|                              null|                                null|             null|         null|              null|                  null|                   null|                                  null|                               null|                                      null|                                         null|                               null|                  7|            Lakeshore|POINT (-122.49803...|2017-04-21 14:32:54|2024-05-15 02:26:57|\n",
      "|       17047453|              0|170474530|   865 MARKET STREET|   2017-04-21|  171112476|2017-04-21 14:25:22|2017-04-21 14:29:53|2017-04-21 14:31:53|San Francisco|  94103|      B01|          01|2247|                1|                    4|        0|            0|          0|              0|               null|                   null|                   null|              0|            0|                  0|                0|               1|700 False alarm o...|    N None|      86 Investigate|                  null|              null|                      null|500 Mercantile, b...|               null|          null|                   null|                     null|       null|              null|                                  null|          null|            null|                null|       null|             NA|                                null|                                    null|                              null|                                null|             null|         null|              null|                  null|                   null|                                  null|                               null|                                      null|                                         null|                               null|                  6|      South of Market|POINT (-122.40715...|2017-04-21 14:31:53|2024-05-15 02:26:57|\n",
      "|       17047454|              0|170474540|       0 14TH AVENUE|   2017-04-21|  171112478|2017-04-21 14:25:40|2017-04-21 14:30:09|2017-04-21 14:32:21|San Francisco|  94116|      B08|          40|7362|                1|                    4|        0|            0|          0|              0|               null|                   null|                   null|              0|            0|                  0|                0|               1|  554 Assist invalid|    N None|71 Assist physica...|                  null|              null|                      null|419 1 or 2 family...|               null|          null|                   null|                     null|       null|              null|                                  null|          null|            null|                null|       null|             NA|                                null|                                    null|                              null|                                null|             null|         null|              null|                  null|                   null|                                  null|                               null|                                      null|                                         null|                               null|                  7|   West of Twin Peaks|POINT (-122.47059...|2017-04-21 14:32:21|2024-05-15 02:26:57|\n",
      "|       17047456|              0|170474560|    684 ELLIS STREET|   2017-04-21|  171112490|2017-04-21 14:28:25|2017-04-21 14:32:04|2017-04-21 16:09:39|San Francisco|  94109|      B02|          03|1555|                2|                    9|        1|            2|          0|              0|               null|                   null|                   null|              0|            0|                  0|                0|               1|500 Service Call,...|    N None|00 Action taken, ...|                  null|              null|                      null|429 Multifamily d...|               null|          null|                   null|                     null|       null|              null|                                  null|          null|            null|                null|       null|             NA|                                null|                                    null|                              null|                                null|             null|         null|              null|                  null|                   null|                                  null|                               null|                                      null|                                         null|                               null|                  5|           Tenderloin|POINT (-122.41750...|2017-04-21 16:09:39|2024-05-15 02:26:57|\n",
      "|       17047457|              0|170474570|  1035 GILMAN AVENUE|   2017-04-21|  171112497|2017-04-21 14:29:23|2017-04-21 14:35:55|2017-04-21 14:41:03|San Francisco|  94124|      B10|          17|6611|                1|                    5|        0|            0|          0|              0|               null|                   null|                   null|              0|            0|                  0|                0|               1|700 False alarm o...|    N None|00 Action taken, ...|                  null|              null|                      null|213 Elementary sc...|               null|          null|                   null|                     null|       null|              null|                                  null|          null|            null|                null|       null|             NA|                                null|                                    null|                              null|                                null|             null|         null|              null|                  null|                   null|                                  null|                               null|                                      null|                                         null|                               null|                 10| Bayview Hunters P...|POINT (-122.38894...|2017-04-21 14:41:03|2024-05-15 02:26:57|\n",
      "|       17047459|              0|170474590|    933 GRANT AVENUE|   2017-04-21|  171112530|2017-04-21 14:35:43|2017-04-21 14:38:29|2017-04-21 14:47:10|San Francisco|  94133|      B01|          02|1312|                1|                    4|        0|            0|          0|              0|               null|                   null|                   null|              0|            0|                  0|                0|               1|745 Alarm system ...|    N None|63 Restore fire a...|                  null|              null|                      null|429 Multifamily d...|               null|          null|                   null|                     null|       null|              null|                                  null|          null|            null|                null|       null|             NA|                                null|                                    null|                              null|                                null|             null|         null|              null|                  null|                   null|                                  null|                               null|                                      null|                                         null|                               null|                  3|            Chinatown|POINT (-122.40662...|2017-04-21 14:47:10|2024-05-15 02:26:57|\n",
      "|       17047460|              0|170474600|      643 OAK STREET|   2017-04-21|  171112537|2017-04-21 14:37:03|2017-04-21 14:38:55|2017-04-21 14:59:45|San Francisco|  94117|      B02|          05|3523|                9|                   33|        1|            2|          1|              2|               null|                   null|                   null|              0|            0|                  0|                0|               1|113 Cooking fire,...|    N None|      86 Investigate|                  null|              null|      1 Detector alerte...|429 Multifamily d...|               null|          null|                   null|                     null|       null|              null|                                  null|          null|            null|                null|       null|             NA|                                null|                                    null|                              null|                                null|             null|         null|              null|                  null|                   null|                                  null|                               null|                                      null|                                         null|                               null|                  5|         Hayes Valley|POINT (-122.42988...|2017-04-21 14:59:45|2024-05-15 02:26:57|\n",
      "|       17047463|              0|170474630|       0 PINE STREET|   2017-04-21|  171112544|2017-04-21 14:38:55|2017-04-21 14:42:17|2017-04-21 15:15:29|San Francisco|  94109|      B04|          38|3325|                1|                    4|        0|            0|          0|              0|               null|                   null|                   null|              0|            0|                  0|                0|               1|322 Motor vehicle...|    N None|30 Emergency medi...|                  null|              null|                      null|962 Residential s...|               null|          null|                   null|                     null|       null|              null|                                  null|          null|            null|                null|       null|             NA|                                null|                                    null|                              null|                                null|             null|         null|              null|                  null|                   null|                                  null|                               null|                                      null|                                         null|                               null|                  5|      Pacific Heights|POINT (-122.42871...|2017-04-21 15:15:29|2024-05-15 02:26:57|\n",
      "|       17047468|              0|170474680|421 LEAVENWORTH S...|   2017-04-21|  171112591|2017-04-21 14:47:13|2017-04-21 14:52:30|2017-04-21 14:55:23|San Francisco|  94102|      B04|          03|1544|                1|                    4|        0|            0|          0|              0|               null|                   null|                   null|              0|            0|                  0|                0|               1|745 Alarm system ...|    N None|      86 Investigate|                  null|              null|                      null|400 Residential, ...|               null|          null|                   null|                     null|       null|              null|                                  null|          null|            null|                null|       null|             NA|                                null|                                    null|                              null|                                null|             null|         null|              null|                  null|                   null|                                  null|                               null|                                      null|                                         null|                               null|                  5|           Tenderloin|POINT (-122.41475...|2017-04-21 14:55:23|2024-05-15 02:26:57|\n",
      "+---------------+---------------+---------+--------------------+-------------+-----------+-------------------+-------------------+-------------------+-------------+-------+---------+------------+----+-----------------+---------------------+---------+-------------+-----------+---------------+-------------------+-----------------------+-----------------------+---------------+-------------+-------------------+-----------------+----------------+--------------------+----------+--------------------+----------------------+------------------+--------------------------+--------------------+-------------------+--------------+-----------------------+-------------------------+-----------+------------------+--------------------------------------+--------------+----------------+--------------------+-----------+---------------+------------------------------------+----------------------------------------+----------------------------------+------------------------------------+-----------------+-------------+------------------+----------------------+-----------------------+--------------------------------------+-----------------------------------+------------------------------------------+---------------------------------------------+-----------------------------------+-------------------+---------------------+--------------------+-------------------+-------------------+\n",
      "only showing top 20 rows\n",
      "\n"
     ]
    }
   ],
   "source": [
    "df.show()"
   ]
  },
  {
   "cell_type": "markdown",
   "id": "8711c22b-4135-4e90-b584-c0f3a41e363f",
   "metadata": {},
   "source": [
    "## Inconsistent Labels"
   ]
  },
  {
   "cell_type": "code",
   "execution_count": 10,
   "id": "944f734d-2f0d-4c33-bf6a-16e73090cb95",
   "metadata": {},
   "outputs": [],
   "source": [
    "df = df.withColumn('zipcode', F.regexp_replace('zipcode', '\\-\\w+[0-9]{3,}', ''))"
   ]
  },
  {
   "cell_type": "code",
   "execution_count": 11,
   "id": "4988b07d-c872-4836-9906-c48b94b5b187",
   "metadata": {},
   "outputs": [],
   "source": [
    "df = df.withColumn('primary_situation', F.regexp_replace('primary_situation', '[*-]', ''))\n",
    "df = df.withColumn('primary_situation', F.trim('primary_situation'))"
   ]
  },
  {
   "cell_type": "code",
   "execution_count": 12,
   "id": "dfc08f63-2fb8-48fb-90d6-c987d2299b27",
   "metadata": {},
   "outputs": [],
   "source": [
    "mutual_aid_mapping = {\n",
    "    'Mutual aid given': '3 Mutual aid given',\n",
    "    'Mutual aid received': '1 Mutual aid received',\n",
    "    'Other aid given': '5 Other aid given',\n",
    "    'Automatic or contract aid received': '2 Automatic aid received',\n",
    "    'Automatic aid given': '4 Automatic aid given',\n",
    "    '3 Mutual aid given': '3 Mutual aid given',\n",
    "    'None' : 'N None'}\n",
    "df = df.replace(mutual_aid_mapping, subset = ['mutual_aid'])"
   ]
  },
  {
   "cell_type": "code",
   "execution_count": 13,
   "id": "8b1933d3-2ae5-4abc-8679-2ffb4ce6cca7",
   "metadata": {},
   "outputs": [],
   "source": [
    "df = df.withColumn('ignition_factor_primary', F.regexp_replace('ignition_factor_primary', '-', ''))"
   ]
  },
  {
   "cell_type": "code",
   "execution_count": 14,
   "id": "8b238444-0808-4d67-a3d3-80f91ba7cfef",
   "metadata": {},
   "outputs": [],
   "source": [
    "ignition_factor_secondary_mapping = {\n",
    "    '12 Heat source too close to combustibles.': '12 Heat source too close to combustibles.',\n",
    "    '30 Electrical failure, malfunction, othe': '30 Electrical failure, malfunction, other',\n",
    "    '11 Abandoned or discarded materials or p': '11 Abandoned or discarded materials or products',\n",
    "    '32 Short circuit arc from mechanical dam': '32 Short-circuit arc from mechanical damage',\n",
    "    '20 Mechanical failure, malfunction, othe': '20 Mechanical failure, malfunction, other',\n",
    "    '18 Improper container or storage': '18 Improper container or storage procedure',\n",
    "    '00 Factors contributing to ignition, other': '00 Other factor contributed to ignition',\n",
    "    '33 Short cir. arc, defect/worn insulatio': '33 Short-circuit arc from defective, worn insulation',\n",
    "    '52 Accidentally turned on, not turned of': '52 Accidentally turned on, not turned off',\n",
    "    '57 Equipment used for not intended purpo': '57 Equipment not used for purpose intended',\n",
    "    '13 Cuttin/welding too close to combustib': '13 Cutting/welding too close to combustibles',\n",
    "    '73 Outside/open fire, debris/waste dispo': '73 Outside/open fire for debris or waste disposal',\n",
    "    '74 Outside/open fire for warming or cook': '74 Outside/open fire for warming or cooking',\n",
    "    '18 Improper container or storage procedure': '18 Improper container or storage',\n",
    "}\n",
    "df = df.withColumn('ignition_factor_secondary', F.regexp_replace('ignition_factor_secondary', '-', ''))\n",
    "df = df.replace(ignition_factor_secondary_mapping, subset = ['ignition_factor_secondary'])\n"
   ]
  },
  {
   "cell_type": "code",
   "execution_count": 15,
   "id": "5442af13-f37d-4f5f-b8db-c53a5dec0e43",
   "metadata": {},
   "outputs": [],
   "source": [
    "heat_source_mapping = {\n",
    "    '11 Spark/ember/flame from operating equi': '11 Spark, ember, or flame from operating equipment',\n",
    "    '12 Radiated/conducted heat operating equ': '12 Radiated or conducted heat from operating equipment',\n",
    "    '13 Arcing': '13 Electrical arcing',\n",
    "    '60 Heat; other open flame/smoking materi': '60 Heat from other open flame or smoking materials, other',\n",
    "    '63 Heat from undetermined smoking materi': '63 Heat from undetermined smoking material',\n",
    "    '65 Cigarette lighter': '65 Lighter: cigarette, cigar',\n",
    "    '67 Warning or road flare; fusee': '67 Warning or road flare; fuse',\n",
    "    '68 Backfire from internal combustion eng': '68 Backfire from internal combustion engine',\n",
    "    '72 Chemical reaction': '72 Spontaneous combustion, chemical reaction',\n",
    "    '97 Multiple heat sources including multi': '97 Multiple heat sources including multiple ignitions'\n",
    "}\n",
    "df = df.withColumn('heat_source', F.regexp_replace('heat_source', '-', ''))\n",
    "df = df.replace(heat_source_mapping, subset = ['heat_source'])"
   ]
  },
  {
   "cell_type": "code",
   "execution_count": 16,
   "id": "4207a3de-3af6-42bf-a1a9-9f84324b3106",
   "metadata": {},
   "outputs": [],
   "source": [
    "item_first_ignited_mapping = {\n",
    "    '96 Rubbish, trash, waste': '96 Rubbish, trash, or waste',\n",
    "    '62 Flammable liquid/gas in/from engine or burner': '62 Flam. liq/gas-in/from engine or burne',\n",
    "    '21 Upholstered sofa, chair, vehicle seats': '21 Upholstered sofa, chair, vehicle seat',\n",
    "    '59 Rolled, wound material (paper and fabrics)': '59 Rolled, wound material (paper, fabric',\n",
    "    '73 Heavy vegetation not crop, including trees': '73 Heavy vegetation no crops, inc. tre',\n",
    "    '76 Cooking materials, including edible materials': '76 Cooking materials, inc. Edible materi',\n",
    "    '00 Item first ignited, other': '00 Item First Ignited, Other',\n",
    "    '14 Floor covering or rug/carpet/mat, surface': '14 Floor covering or rug/carpet/mat',\n",
    "    '36 Curtain, blind, drapery, tapestry': '36 Curtains, blinds, drapery, tapestry',\n",
    "    '11 Exterior roof covering, surface, finish': '11 Exterior roof covering or finish',\n",
    "    '64 Flammable liquid/gas in container or pipe': '64 Flam liq/gas in container or pipe',\n",
    "    '72 Light vegetation not crop, including grass': '72 Light vegetation no crops, inc. gra',\n",
    "    '37 Goods not made up, including fabrics and yard goods': '37 Raw Goods, incl. fabrics and yarn',\n",
    "    '66 Pipe, duct, conduit, hose': '66 Pipe, duct, conduit or hose',\n",
    "    '61 Atomized liquid, vaporized liquid, aerosol.': '61 Atomized liq., vaporized liq.,aersol',\n",
    "    '95 Film, residue, including paint & resi': '95 Film, residue, including paint and resin',\n",
    "    '63 Flammable liquid/gas in/from final container': '63 Flam Liq/gas-in/from final container',\n",
    "    '94 Dust, fiber, lint, including sawdust and excelsior': '94 Dust/fiber/lint. inc. sawdust, excels',\n",
    "    '15 Interior wall covering excluding drapes, etc.': '15 Int. Wall cover  exclude drapes, etc.',\n",
    "    '47 Tarpaulin, tent': '47 Tarpaulin or tent',\n",
    "    '71 Agricultural crop, including fruits and vegetables': '71 Crop, incl. fruits and vegitables',\n",
    "    '82 Transformer, including transformer fluids': '82 Transformer, including transformer fl',\n",
    "    '18 Thermal, acoustical insulation within wall, partition or floor/ceiling space': '18 Insulation within structural area',\n",
    "    '40 Adornment, recreational material, signs, other': '40 Adornment, recreational mat., signs,',\n",
    "    '43 Sign, including outdoor signs such as billboards': '43 Sign, inc. outdoor sign/billboards',\n",
    "    '74 Animal living or dead': '74 Animal, living or dead',\n",
    "    '77 Feathers or fur, not on bird or anima': '77 Feathers or fur, not on bird or animal',\n",
    "    '58 Palletized material, material stored on pallets.': '58 Palletized material',\n",
    "    '54 Cord, rope, twine': '54 Cord, rope, twine, yarn'}\n",
    "\n",
    "df = df.withColumn('item_first_ignited', F.regexp_replace('item_first_ignited', '-', ''))\n",
    "df = df.replace(item_first_ignited_mapping, subset = ['item_first_ignited'])"
   ]
  },
  {
   "cell_type": "code",
   "execution_count": 17,
   "id": "64113634-a6f8-4bef-b7ef-86ed3ab28ad2",
   "metadata": {},
   "outputs": [],
   "source": [
    "df = df.withColumn('human_factors_associated_with_ignition', F.regexp_replace('human_factors_associated_with_ignition', '[Â§]', ''))"
   ]
  },
  {
   "cell_type": "code",
   "execution_count": 18,
   "id": "a7cc4842-3af6-42c3-b784-698a948cb7a3",
   "metadata": {},
   "outputs": [],
   "source": [
    "structure_type_mapping = {'4 Air-supported structure': '4 Air supported structure',\n",
    "                          '7 Underground structure work area': '7 Underground structure work areas'}\n",
    "df = df.withColumn('structure_type', F.regexp_replace('structure_type', '-', ''))\n",
    "df = df.replace(structure_type_mapping, subset = ['structure_type'])"
   ]
  },
  {
   "cell_type": "code",
   "execution_count": 19,
   "id": "33742458-faf4-4f9f-8bc7-3d93a148d611",
   "metadata": {},
   "outputs": [],
   "source": [
    "structure_status_mapping = {'0 Building status, other': '0 Other'}\n",
    "\n",
    "df = df.withColumn('structure_type', F.regexp_replace('structure_type', '-', ''))\n",
    "df = df.replace(structure_status_mapping, subset = ['structure_type'])"
   ]
  },
  {
   "cell_type": "code",
   "execution_count": 20,
   "id": "d9c04bc4-018a-4761-86ee-9ea58f0a4341",
   "metadata": {},
   "outputs": [],
   "source": [
    "fire_spread_mapping = mapping = {\n",
    "    '00 Item first ignited, other': '00 Item First Ignited, Other',\n",
    "    '11 Exterior roof covering, surface, finish': '11 Exterior roof covering or finish',\n",
    "    '66 Pipe, duct, conduit, hose': '66 Pipe, duct, conduit or hose',\n",
    "    '15 Interior wall covering excluding drapes, etc.': '15 Int. Wall cover  exclude drapes, etc.',\n",
    "    '76 Cooking materials, including edible materials': '76 Cooking materials, inc. Edible materia',\n",
    "    '94 Dust/fiber/lint. inc. sawdust, excelsi': '94 Dust/fiber/lint. inc. sawdust, excelsi',\n",
    "    '96 Rubbish, trash, or waste': '96 Rubbish, trash, waste',\n",
    "    '61 Atomized liq., vaporized liq.,aersol': '61 Atomized liquid, vaporized liquid, aerosol.'\n",
    "}\n",
    "df = df.withColumn('fire_spread', F.regexp_replace('fire_spread', '-', ''))\n",
    "df = df.replace(fire_spread_mapping, subset = ['fire_spread'])"
   ]
  },
  {
   "cell_type": "code",
   "execution_count": 21,
   "id": "4a399b7a-f82c-4d29-886a-a241981c9e66",
   "metadata": {},
   "outputs": [],
   "source": [
    "no_flame_spread_mapping = {\n",
    "    'NO': '0',\n",
    "    'N': '0',\n",
    "    'False': '0',\n",
    "    'YES': '1',\n",
    "    'Y': '1',\n",
    "    'True': '1'\n",
    "}\n",
    "df = df.replace(no_flame_spread_mapping, subset = ['no_flame_spread'])"
   ]
  },
  {
   "cell_type": "code",
   "execution_count": 22,
   "id": "c803b6e2-83ae-4dfb-af6a-42e4e16e9d0e",
   "metadata": {},
   "outputs": [],
   "source": [
    "detectors_present_mapping = {\n",
    "    'N None present': 'N Not present'\n",
    "}\n",
    "df = df.withColumn('detectors_present', F.regexp_replace('detectors_present', '-', ''))\n",
    "df = df.replace(detectors_present_mapping, subset = ['detectors_present'])"
   ]
  },
  {
   "cell_type": "code",
   "execution_count": 23,
   "id": "f25949db-d282-4204-8c7a-4ceebf9cf1c8",
   "metadata": {},
   "outputs": [],
   "source": [
    "detector_type_mapping = {\n",
    "    '3 Combination smoke and heat in a single unit':'3 Combination smoke & heat in single unit'\n",
    "}\n",
    "df = df.withColumn('detector_type', F.regexp_replace('detector_type', '-', ''))\n",
    "df = df.replace(detector_type_mapping, subset = ['detector_type'])"
   ]
  },
  {
   "cell_type": "code",
   "execution_count": 24,
   "id": "849ef9b7-4960-40a4-8abc-d435248f3253",
   "metadata": {},
   "outputs": [],
   "source": [
    "df = df.withColumn('detector_operation', F.regexp_replace('detector_operation', '-', ''))"
   ]
  },
  {
   "cell_type": "code",
   "execution_count": 25,
   "id": "91f611fa-4026-4490-9914-d5e6d1d1600b",
   "metadata": {},
   "outputs": [],
   "source": [
    "detector_effectiveness_mapping = {'2 Alerted occupants-occ. failed to resond' : '2 Detector alerted occupants, occupants failed to respond',\n",
    "                                   '4 Failed to alert occupants' : '4 Detector failed to alert occupants'}\n",
    "df = df.withColumn('detector_effectiveness', F.regexp_replace('detector_effectiveness', '-', ''))\n",
    "df = df.replace(detector_effectiveness_mapping, subset = ['detector_effectiveness'])"
   ]
  },
  {
   "cell_type": "code",
   "execution_count": 26,
   "id": "7a42e445-c0f2-4139-80d8-f353baeebbdd",
   "metadata": {},
   "outputs": [],
   "source": [
    "detector_failure_reason_mapping = {\n",
    "    '0 -Detector failure reason, other': '0 Detector failure reason, other',\n",
    "    '6 -Battery discharged or dead': '6 Battery discharged or dead',\n",
    "    '5 -Battery missing or disconnected': '5 Battery missing or disconnected',\n",
    "    '1 -Power fail/shutoff or disconnected dete': '1 Power failure, hardwired det. shut off, disconnect',\n",
    "    '3 -Defective': '3 Defective',\n",
    "    '4 -Lack of maintenance, inc. not cleaning': '4 Lack of maintenance, includes not cleaning',\n",
    "    '2 -Improper installation or placement': '2 Improper installation or placement of detector'\n",
    "}\n",
    "df = df.replace(detector_failure_reason_mapping, subset = ['detector_failure_reason'])"
   ]
  },
  {
   "cell_type": "code",
   "execution_count": 27,
   "id": "d62d2890-4da6-4ad5-ab0c-ebd009112061",
   "metadata": {},
   "outputs": [],
   "source": [
    "df = df.withColumn('automatic_extinguishing_system_present', F.regexp_replace('automatic_extinguishing_system_present', '-', ''))"
   ]
  },
  {
   "cell_type": "code",
   "execution_count": 28,
   "id": "ed960e55-a856-4cde-a898-712bd4de5cb9",
   "metadata": {},
   "outputs": [],
   "source": [
    "aes_type_mapping = {\n",
    "    '1 Wet-pipe sprinkler' : '1 Wet-pipe sprinkler system',\n",
    "    '6 Halogen-type system': 'Halogen type system'\n",
    "}\n",
    "df = df.withColumn('automatic_extinguishing_system_type', F.regexp_replace('automatic_extinguishing_system_type', '-', ''))\n",
    "df = df.replace(aes_type_mapping, subset = ['automatic_extinguishing_system_type'])"
   ]
  },
  {
   "cell_type": "code",
   "execution_count": 29,
   "id": "1e1b8750-cb33-43e7-a874-117f427f7d1e",
   "metadata": {},
   "outputs": [],
   "source": [
    "df = df.withColumn('automatic_extinguishing_system_performance', F.regexp_replace('automatic_extinguishing_system_performance', '-', ''))"
   ]
  },
  {
   "cell_type": "code",
   "execution_count": 30,
   "id": "8b6b58aa-c5f0-4f83-978e-7398a67802eb",
   "metadata": {},
   "outputs": [],
   "source": [
    "aes_failure_reason_mapping = {\n",
    "    'Reason system not effective, other': '0 Reason system not effective, other',\n",
    "    'System shut off' : '1 System shut off',\n",
    "    'Not enough agent discharged to control the fire':'2 Not enough agent discharged to control the fire',\n",
    "    'Agent discharged, but did not reach the fire': '3 Agent discharged, did not reach the fire',\n",
    "    '3 Agent discharged, did not reach the fir': '3 Agent discharged, did not reach the fire',\n",
    "    'Inappropriate system for the type of fire': '4 Inappropriate system for the type of fire',\n",
    "    'Fire not in area protected by the system': '5 Fire not in area protected by the system',\n",
    "}\n",
    "df = df.withColumn('automatic_extinguishing_system_failure_reason', F.regexp_replace('automatic_extinguishing_system_failure_reason', '-', ''))\n",
    "df = df.replace(aes_failure_reason_mapping, subset = ['automatic_extinguishing_system_failure_reason'])"
   ]
  },
  {
   "cell_type": "markdown",
   "id": "63162268-0a3f-4b2a-8f99-037206254552",
   "metadata": {},
   "source": [
    "## Duplicate Data"
   ]
  },
  {
   "cell_type": "code",
   "execution_count": 38,
   "id": "771a0c34-cbcf-4b57-87eb-a0519f598aa5",
   "metadata": {},
   "outputs": [],
   "source": [
    "# Dropping duplicates row-wise\n",
    "df = df.drop_duplicates() "
   ]
  },
  {
   "cell_type": "code",
   "execution_count": 39,
   "id": "2f88d3d4-440d-492c-a3ce-840aeb109814",
   "metadata": {},
   "outputs": [],
   "source": [
    "# Drop id column as it is the same with column incident_number\n",
    "df = df.drop('id') "
   ]
  },
  {
   "cell_type": "markdown",
   "id": "aaee45bd-5885-48c6-a4e9-56f7752f96b4",
   "metadata": {},
   "source": [
    "## Feature Engineering"
   ]
  },
  {
   "cell_type": "code",
   "execution_count": 32,
   "id": "ed3a442a-e06b-4b38-9128-0cb4c400a1d2",
   "metadata": {},
   "outputs": [],
   "source": [
    "# Extract latitude and longitude using regex\n",
    "df = df.withColumn('latitude', F.regexp_extract('point', '\\(-?\\d+\\.\\d+', 0))\n",
    "df = df.withColumn('longitude', F.regexp_extract('point', '-?\\d+\\.\\d+\\)', 0))\n",
    "\n",
    "# Removing open and closing brackets\n",
    "df = df.withColumn('latitude', F.regexp_replace('latitude', '\\(', ''))\n",
    "df = df.withColumn('longitude', F.regexp_replace('longitude', '\\)', ''))\n",
    "\n",
    "# Casting latitude and longitude into float type\n",
    "df = df.withColumn('latitude', F.col(\"latitude\").cast(\"float\"))\n",
    "df = df.withColumn('longitude', F.col(\"longitude\").cast(\"float\"))\n",
    "\n",
    "#Drop point column\n",
    "df = df.drop('point')"
   ]
  },
  {
   "cell_type": "code",
   "execution_count": 34,
   "id": "dd03add2-96fa-4f2c-8551-542760bbe3c2",
   "metadata": {},
   "outputs": [],
   "source": [
    "df = df.withColumn('travel_time', (F.unix_timestamp(F.col(\"arrival_dttm\")) - F.unix_timestamp(F.col(\"alarm_dttm\")))/60) # In minutes\n",
    "df = df.withColumn('travel_time', F.round(F.col('travel_time'), 2))\n",
    "\n",
    "df = df.withColumn('suppression_time',(F.unix_timestamp(F.col(\"close_dttm\")) - F.unix_timestamp(F.col(\"arrival_dttm\")))/60) # In minutes\n",
    "df = df.withColumn('supression_time', F.round(F.col('suppression_time'), 2))"
   ]
  },
  {
   "cell_type": "code",
   "execution_count": 40,
   "id": "03edaa3f-0a7e-4ced-8a2d-4bf2778d825a",
   "metadata": {
    "scrolled": true
   },
   "outputs": [
    {
     "name": "stderr",
     "output_type": "stream",
     "text": [
      "[Stage 13:>                                                         (0 + 1) / 1]\r"
     ]
    },
    {
     "name": "stdout",
     "output_type": "stream",
     "text": [
      "+---------------+---------------+--------------------+-------------+-----------+-------------------+-------------------+-------------------+----+-------+---------+------------+----+-----------------+---------------------+---------+-------------+-----------+---------------+-------------------+-----------------------+-----------------------+---------------+-------------+-------------------+-----------------+----------------+--------------------+----------+--------------------+----------------------+------------------+--------------------------+--------------------+--------------------+--------------------+-----------------------+-------------------------+----------------+--------------------+--------------------------------------+--------------+----------------+--------------------+-----------+---------------+------------------------------------+----------------------------------------+----------------------------------+------------------------------------+-----------------+-------------+------------------+----------------------+-----------------------+--------------------------------------+-----------------------------------+------------------------------------------+---------------------------------------------+-----------------------------------+-------------------+---------------------+-------------------+-------------------+-----------+---------+-----------+------------------+---------------+\n",
      "|incident_number|exposure_number|             address|incident_date|call_number|         alarm_dttm|       arrival_dttm|         close_dttm|city|zipcode|battalion|station_area| box|suppression_units|suppression_personnel|ems_units|ems_personnel|other_units|other_personnel|first_unit_on_scene|estimated_property_loss|estimated_contents_loss|fire_fatalities|fire_injuries|civilian_fatalities|civilian_injuries|number_of_alarms|   primary_situation|mutual_aid|action_taken_primary|action_taken_secondary|action_taken_other|detector_alerted_occupants|        property_use| area_of_fire_origin|      ignition_cause|ignition_factor_primary|ignition_factor_secondary|     heat_source|  item_first_ignited|human_factors_associated_with_ignition|structure_type|structure_status|floor_of_fire_origin|fire_spread|no_flame_spread|number_of_floors_with_minimum_damage|number_of_floors_with_significant_damage|number_of_floors_with_heavy_damage|number_of_floors_with_extreme_damage|detectors_present|detector_type|detector_operation|detector_effectiveness|detector_failure_reason|automatic_extinguishing_system_present|automatic_extinguishing_system_type|automatic_extinguishing_system_performance|automatic_extinguishing_system_failure_reason|number_of_sprinkler_heads_operating|supervisor_district|neighborhood_district|         data_as_of|     data_loaded_at|   latitude|longitude|travel_time|  suppression_time|supression_time|\n",
      "+---------------+---------------+--------------------+-------------+-----------+-------------------+-------------------+-------------------+----+-------+---------+------------+----+-----------------+---------------------+---------+-------------+-----------+---------------+-------------------+-----------------------+-----------------------+---------------+-------------+-------------------+-----------------+----------------+--------------------+----------+--------------------+----------------------+------------------+--------------------------+--------------------+--------------------+--------------------+-----------------------+-------------------------+----------------+--------------------+--------------------------------------+--------------+----------------+--------------------+-----------+---------------+------------------------------------+----------------------------------------+----------------------------------+------------------------------------+-----------------+-------------+------------------+----------------------+-----------------------+--------------------------------------+-----------------------------------+------------------------------------------+---------------------------------------------+-----------------------------------+-------------------+---------------------+-------------------+-------------------+-----------+---------+-----------+------------------+---------------+\n",
      "|       14028583|              0|      36 SPOFFORD ST|   2014-03-26|  140850128|2014-03-26 10:46:23|2014-03-26 10:46:23|2014-03-26 12:22:10|null|  94108|      B01|          13|1313|                2|                    9|        0|            0|          0|              0|                RS1|                   null|                   null|              0|            0|                  0|                0|               1|551  Assist PD or...|    N None| 52 - Forcible entry|                  null|              null|                      null|  140 - Clubs, other|                null|                null|                   null|                     null|            null|                null|                                  null|          null|            null|                null|       null|           null|                                null|                                    null|                              null|                                null|             null|         null|              null|                  null|                   null|                                  null|                               null|                                      null|                                         null|                               null|                  3|            Chinatown|2014-03-26 13:25:57|2024-05-15 02:26:57| -122.40728|37.794643|        0.0| 95.78333333333333|          95.78|\n",
      "|       14032351|              0|Geary Bl. / Webst...|   2014-04-06|  140960234|2014-04-06 14:50:17|2014-04-06 14:50:17|2014-04-06 17:47:04|null|  94115|      B04|          05|3541|                3|                    4|        0|            0|          0|              0|                 82|                   null|                   null|              0|            0|                  0|                0|               1|324  Motor vehicl...|    N None|    86 - Investigate|                  null|              null|                      null| 960 - Street, other|                null|                null|                   null|                     null|            null|                null|                                  null|          null|            null|                null|       null|           null|                                null|                                    null|                              null|                                null|             null|         null|              null|                  null|                   null|                                  null|                               null|                                      null|                                         null|                               null|                  5|     Western Addition|2014-04-06 19:32:23|2024-05-15 02:26:57|-122.431206| 37.78457|        0.0|176.78333333333333|         176.78|\n",
      "|       14023616|              0|         211 13TH ST|   2014-03-11|  140700194|2014-03-11 13:39:40|2014-03-11 13:39:40|2014-03-11 14:48:29|null|  94115|      B02|          36|5123|                2|                    2|        0|            0|          0|              0|                B02|                   null|                   null|              0|            0|                  0|                0|               1|551  Assist PD or...|    N None|    86 - Investigate|                  null|              null|                      null| 960 - Street, other|                null|                null|                   null|                     null|            null|                null|                                  null|          null|            null|                null|       null|           null|                                null|                                    null|                              null|                                null|             null|         null|              null|                  null|                   null|                                  null|                               null|                                      null|                                         null|                               null|                  9|              Mission|2014-03-12 16:01:04|2024-05-15 02:26:57| -122.41807|37.769787|        0.0| 68.81666666666666|          68.82|\n",
      "|       14024700|              0|     1001 POTRERO AV|   2014-03-14|  140730254|2014-03-14 15:27:25|2014-03-14 15:27:25|2014-03-14 16:25:37|null|  94124|      B10|          07|2553|                1|                    1|        0|            0|          0|              0|                E07|                   null|                   null|              0|            0|                  0|                0|               1|551  Assist PD or...|    N None|    86 - Investigate|                  null|              null|                      null| 960 - Street, other|                null|                null|                   null|                     null|            null|                null|                                  null|          null|            null|                null|       null|           null|                                null|                                    null|                              null|                                null|             null|         null|              null|                  null|                   null|                                  null|                               null|                                      null|                                         null|                               null|                 10|              Mission|2014-03-15 07:47:38|2024-05-15 02:26:57| -122.40631| 37.75541|        0.0|              58.2|           58.2|\n",
      "|       14028000|              0|   1 SF INTL AIRPORT|   2014-03-24|  140830197|2014-03-24 14:03:42|2014-03-24 14:07:34|2014-03-24 14:42:22|null|  94128|      B09|          44|6913|                1|                    2|        0|            0|          0|              0|                 AP|                   null|                   null|              0|            0|                  0|                0|               1|745  Alarm system...|    N None|    86 - Investigate|                  null|              null|                      null|150 - Public or g...|                null|                null|                   null|                     null|            null|                null|                                  null|          null|            null|                null|       null|           null|                                null|                                    null|                              null|                                null|             null|         null|              null|                  null|                   null|                                  null|                               null|                                      null|                                         null|                               null|               null|                 null|2014-03-25 10:06:47|2024-05-15 02:26:57| -122.38416|  37.6169|       3.87|              34.8|           34.8|\n",
      "|       14030290|              0|   1 SF INTL AIRPORT|   2014-03-31|  140900174|2014-03-31 12:00:44|2014-03-31 12:06:12|2014-03-31 12:37:14|null|  94128|      B09|          44|6913|                1|                    2|        0|            0|          0|              0|                 AP|                   null|                   null|              0|            0|                  0|                0|               1|500  Service Call...|    N None|        92 - Standby|                  null|              null|                      null|150 - Public or g...|                null|                null|                   null|                     null|            null|                null|                                  null|          null|            null|                null|       null|           null|                                null|                                    null|                              null|                                null|             null|         null|              null|                  null|                   null|                                  null|                               null|                                      null|                                         null|                               null|               null|                 null|2014-03-31 12:58:31|2024-05-15 02:26:57| -122.38416|  37.6169|       5.47|31.033333333333335|          31.03|\n",
      "|       14029071|              0|   1 SF INTL AIRPORT|   2014-03-27|  140860320|2014-03-27 20:03:30|2014-03-27 20:09:29|2014-03-27 20:23:57|null|  94128|      B09|          44|6913|                1|                    2|        0|            0|          0|              0|                 AP|                   null|                   null|              0|            0|                  0|                0|               1|500  Service Call...|    N None|        92 - Standby|                  null|              null|                      null|150 - Public or g...|                null|                null|                   null|                     null|            null|                null|                                  null|          null|            null|                null|       null|           null|                                null|                                    null|                              null|                                null|             null|         null|              null|                  null|                   null|                                  null|                               null|                                      null|                                         null|                               null|               null|                 null|2014-03-28 07:08:05|2024-05-15 02:26:57| -122.38416|  37.6169|       5.98|14.466666666666667|          14.47|\n",
      "|       14028532|              0|   1 SF INTL AIRPORT|   2014-03-26|  140850065|2014-03-26 00:37:32|2014-03-26 00:42:32|2014-03-26 07:49:53|null|  94128|      B09|          44|6913|                1|                    3|        0|            0|          0|              0|                 AP|                   null|                   null|              0|            0|                  0|                0|               1|118  Trash or rub...|    N None|    86 - Investigate|                  null|              null|      2 - Detector did ...|170 - Passenger t...|                null|                null|                   null|                     null|            null|                null|                                  null|          null|            null|                null|       null|           null|                                null|                                    null|                              null|                                null|             null|         null|              null|                  null|                   null|                                  null|                               null|                                      null|                                         null|                               null|               null|                 null|2014-03-26 08:59:36|2024-05-15 02:26:57| -122.38416|  37.6169|        5.0|            427.35|         427.35|\n",
      "|       14023736|              0|   1 SF INTL AIRPORT|   2014-03-11|  140700329|2014-03-11 13:39:38|2014-03-11 13:44:38|2014-03-11 13:58:02|null|  94128|      B09|        null|6913|                2|                    5|        0|            0|          0|              0|                 AP|                   null|                   null|              0|            0|                  0|                0|               1|733  Smoke detect...|    N None|    86 - Investigate|                  null|              null|                      null|170 - Passenger t...|                null|                null|                   null|                     null|            null|                null|                                  null|          null|            null|                null|       null|           null|                                null|                                    null|                              null|                                null|             null|         null|              null|                  null|                   null|                                  null|                               null|                                      null|                                         null|                               null|               null|                 null|2014-03-11 19:29:14|2024-05-15 02:26:57| -122.38416|  37.6169|        5.0|              13.4|           13.4|\n",
      "|       14022264|              0|   1 SF INTL AIRPORT|   2014-03-07|  140660133|2014-03-07 10:17:56|2014-03-07 10:17:56|2014-03-07 10:18:24|null|  94128|      B09|          44|6913|                2|                    5|        0|            0|          0|              0|                 AP|                   null|                   null|              0|            0|                  0|                0|               1|600  Good intent ...|    N None|    86 - Investigate|                  null|              null|                      null|171 - Airport pas...|                null|                null|                   null|                     null|            null|                null|                                  null|          null|            null|                null|       null|           null|                                null|                                    null|                              null|                                null|             null|         null|              null|                  null|                   null|                                  null|                               null|                                      null|                                         null|                               null|               null|                 null|2014-03-08 06:34:22|2024-05-15 02:26:57| -122.38416|  37.6169|        0.0|0.4666666666666667|           0.47|\n",
      "|       14025903|              0|   1 SF INTL AIRPORT|   2014-03-17|  140760393|2014-03-17 23:10:22|2014-03-17 23:10:23|2014-03-17 23:10:50|null|  94128|      B09|          44|6913|                2|                    5|        0|            0|          0|              0|                 AP|                   null|                   null|              0|            0|                  0|                0|               1|353  Removal of v...|    N None|00 - Action taken...|                  null|              null|                      null|171 - Airport pas...|                null|                null|                   null|                     null|            null|                null|                                  null|          null|            null|                null|       null|           null|                                null|                                    null|                              null|                                null|             null|         null|              null|                  null|                   null|                                  null|                               null|                                      null|                                         null|                               null|               null|                 null|2014-03-18 06:21:30|2024-05-15 02:26:57| -122.38416|  37.6169|       0.02|              0.45|           0.45|\n",
      "|       14023063|              0|   1 SF INTL AIRPORT|   2014-03-09|  140680241|2014-03-09 18:25:05|2014-03-09 18:25:20|2014-03-09 18:25:20|null|  94128|      B09|          44|6913|                2|                    5|        0|            0|          0|              0|                 AP|                   null|                   null|              0|            0|                  0|                0|               1|611  Dispatched &...|    N None|93 - Cancelled en...|                  null|              null|                      null|171 - Airport pas...|                null|                null|                   null|                     null|            null|                null|                                  null|          null|            null|                null|       null|           null|                                null|                                    null|                              null|                                null|             null|         null|              null|                  null|                   null|                                  null|                               null|                                      null|                                         null|                               null|               null|                 null|2014-03-09 18:27:19|2024-05-15 02:26:57| -122.38416|  37.6169|       0.25|               0.0|            0.0|\n",
      "|       14024058|              0|   1 SF INTL AIRPORT|   2014-03-12|  140710299|2014-03-12 16:16:17|2014-03-12 16:24:17|2014-03-12 16:31:49|null|  94128|      B09|          44|6913|                1|                    3|        0|            0|          0|              0|                 AP|                   null|                   null|              0|            0|                  0|                0|               1|422  Chemical spi...|    N None|43 - HazMat spill...|                  null|              null|                      null|171 - Airport pas...|                null|                null|                   null|                     null|            null|                null|                                  null|          null|            null|                null|       null|           null|                                null|                                    null|                              null|                                null|             null|         null|              null|                  null|                   null|                                  null|                               null|                                      null|                                         null|                               null|               null|                 null|2014-03-12 17:52:40|2024-05-15 02:26:57| -122.38416|  37.6169|        8.0| 7.533333333333333|           7.53|\n",
      "|       14021870|              0|   1 SF INTL AIRPORT|   2014-03-06|  140650059|2014-03-06 06:42:33|2014-03-06 06:42:34|2014-03-06 06:42:54|null|  94128|      B09|          44|6913|                3|                    6|        0|            0|          0|              0|                 AP|                   null|                   null|              0|            0|                  0|                0|               1|734  Heat detecto...|    N None|    86 - Investigate|                  null|              null|                      null|648 - Sanitation ...|                null|                null|                   null|                     null|            null|                null|                                  null|          null|            null|                null|       null|           null|                                null|                                    null|                              null|                                null|             null|         null|              null|                  null|                   null|                                  null|                               null|                                      null|                                         null|                               null|               null|                 null|2014-03-06 06:47:04|2024-05-15 02:26:57| -122.38416|  37.6169|       0.02|0.3333333333333333|           0.33|\n",
      "|       14023737|              0|   1 SF INTL AIRPORT|   2014-03-11|  140700330|2014-03-11 13:39:12|2014-03-11 13:42:12|2014-03-11 13:58:35|null|  94128|      B09|        null|6913|                1|                    3|        0|            0|          0|              0|                 AP|                   null|                   null|              0|            0|                  0|                0|               1|353  Removal of v...|    N None|70 - Assistance, ...|                  null|              null|                      null|882 - Parking gar...|                null|                null|                   null|                     null|            null|                null|                                  null|          null|            null|                null|       null|           null|                                null|                                    null|                              null|                                null|             null|         null|              null|                  null|                   null|                                  null|                               null|                                      null|                                         null|                               null|               null|                 null|2014-03-11 19:32:46|2024-05-15 02:26:57| -122.38416|  37.6169|        3.0|16.383333333333333|          16.38|\n",
      "|        5057399|              0|101nb Harney Wy O...|   2005-08-03|   52150233|2005-08-03 14:50:40|2005-08-03 14:51:42|2005-08-03 14:56:07|  BN|  94005|      B09|          44|null|                3|                   11|        0|            0|          0|              0|                B09|                      0|                      0|              0|            0|                  0|                0|               1|151  Outside rubb...|    N None|    86 - Investigate|                  null|              null|                      null|931 - Open land o...|                null|                null|                   null|                     null|            null|                null|                                  null|          null|            null|                null|       null|           null|                                null|                                    null|                              null|                                null|             null|         null|              null|                  null|                   null|                                  null|                               null|                                      null|                                         null|                               null|               null|                 null|2005-08-03 19:25:36|2024-05-15 02:26:57|-122.411255|37.700832|       1.03| 4.416666666666667|           4.42|\n",
      "|        6054969|              0|1 101nb Monster P...|   2006-07-15|   61960268|2006-07-15 18:20:56|2006-07-15 18:27:20|2006-07-15 18:46:36|  BN|  94005|      B09|          44|null|                1|                    4|        0|            0|          0|              0|                E44|                      0|                      0|              0|            0|                  0|                0|               1|     143  Grass fire|    N None|     11 - Extinguish|                  null|              null|                      null|961 - Highway or ...|92 - Highway, par...|U - Cause undeter...|                   null|                     null|UU  Undetermined|72  Light vegetat...|                              N - None|          null|            null|                null|       null|           null|                                null|                                    null|                              null|                                null|             null|         null|              null|                  null|                   null|                                  null|                               null|                                      null|                                         null|                               null|               null|                 null|2006-07-16 08:10:35|2024-05-15 02:26:57|-122.411255|37.700832|        6.4|19.266666666666666|          19.27|\n",
      "|        4085348|              0|  240 Industrial Wy.|   2004-11-03|   43080336|2004-11-03 19:09:33|2004-11-03 19:14:19|2004-11-03 19:29:24|  BN|  94112|      B09|          44|null|                3|                   12|        0|            0|          0|              0|                E44|                      0|                      0|              0|            0|                  0|                0|               1|745  Alarm system...|    N None|    86 - Investigate|                  null|              null|                      null|429 - Multifamily...|                null|                null|                   null|                     null|            null|                null|                                  null|          null|            null|                null|       null|           null|                                null|                                    null|                              null|                                null|             null|         null|              null|                  null|                   null|                                  null|                               null|                                      null|                                         null|                               null|               null|                 null|2004-11-18 12:42:08|2024-05-15 02:26:57|-122.411255|37.700832|       4.77|15.083333333333334|          15.08|\n",
      "|        4075281|              0|Bayshore Bl. / Ge...|   2004-09-28|   42720045|2004-09-28 06:36:05|2004-09-28 06:40:45|2004-09-28 06:43:35|  BN|  94112|      B09|          44|null|                2|                    6|        0|            0|          0|              0|                E44|                      0|                      0|              0|            0|                  0|                0|               1|531  Smoke or odo...|    N None|    86 - Investigate|                  null|              null|                      null|962 - Residential...|                null|                null|                   null|                     null|            null|                null|                                  null|          null|            null|                null|       null|           null|                                null|                                    null|                              null|                                null|             null|         null|              null|                  null|                   null|                                  null|                               null|                                      null|                                         null|                               null|               null|                 null|2004-10-01 20:03:21|2024-05-15 02:26:57|-122.411255|37.700832|       4.67|2.8333333333333335|           2.83|\n",
      "|        8015324|              0|Geneva Av. / Bays...|   2008-02-17|   80480319|2008-02-17 18:16:14|2008-02-17 18:20:52|2008-02-17 18:29:17|  BN|  94124|      B09|          44|null|                1|                    4|        0|            0|          0|              0|                E44|                   null|                   null|              0|            0|                  0|                0|               1|622  No incident ...|    N None|    86 - Investigate|                  null|              null|                      null|000 - Property Us...|                null|                null|                   null|                     null|            null|                null|                                  null|          null|            null|                null|       null|           null|                                null|                                    null|                              null|                                null|             null|         null|              null|                  null|                   null|                                  null|                               null|                                      null|                                         null|                               null|               null|                 null|2008-08-02 09:48:39|2024-05-15 02:26:57|-122.411255|37.700832|       4.63| 8.416666666666666|           8.42|\n",
      "+---------------+---------------+--------------------+-------------+-----------+-------------------+-------------------+-------------------+----+-------+---------+------------+----+-----------------+---------------------+---------+-------------+-----------+---------------+-------------------+-----------------------+-----------------------+---------------+-------------+-------------------+-----------------+----------------+--------------------+----------+--------------------+----------------------+------------------+--------------------------+--------------------+--------------------+--------------------+-----------------------+-------------------------+----------------+--------------------+--------------------------------------+--------------+----------------+--------------------+-----------+---------------+------------------------------------+----------------------------------------+----------------------------------+------------------------------------+-----------------+-------------+------------------+----------------------+-----------------------+--------------------------------------+-----------------------------------+------------------------------------------+---------------------------------------------+-----------------------------------+-------------------+---------------------+-------------------+-------------------+-----------+---------+-----------+------------------+---------------+\n",
      "only showing top 20 rows\n",
      "\n"
     ]
    },
    {
     "name": "stderr",
     "output_type": "stream",
     "text": [
      "                                                                                \r"
     ]
    }
   ],
   "source": [
    "df.show()"
   ]
  },
  {
   "cell_type": "markdown",
   "id": "f7385728-7d2b-4d1c-9a69-9ed645931f0b",
   "metadata": {},
   "source": [
    "## Load Data into PostgreSQL"
   ]
  },
  {
   "cell_type": "code",
   "execution_count": 41,
   "id": "29c86caf-133e-48a3-8900-b210e5e630e0",
   "metadata": {
    "scrolled": true
   },
   "outputs": [
    {
     "name": "stderr",
     "output_type": "stream",
     "text": [
      "                                                                                \r"
     ]
    }
   ],
   "source": [
    "postgres_ip = socket.gethostbyname('postgres-db')\n",
    "mode = 'overwrite'\n",
    "properties = {\n",
    "    'user':'user',\n",
    "    'password':'password',\n",
    "    'driver': 'org.postgresql.Driver'\n",
    "}\n",
    "\n",
    "url = f'jdbc:postgresql://{postgres_ip}:5432/fire-incident-db'\n",
    "df.write.jdbc(url = url, table = 'fire_incident', mode = mode, properties = properties)"
   ]
  }
 ],
 "metadata": {
  "kernelspec": {
   "display_name": "Python 3 (ipykernel)",
   "language": "python",
   "name": "python3"
  },
  "language_info": {
   "codemirror_mode": {
    "name": "ipython",
    "version": 3
   },
   "file_extension": ".py",
   "mimetype": "text/x-python",
   "name": "python",
   "nbconvert_exporter": "python",
   "pygments_lexer": "ipython3",
   "version": "3.11.9"
  }
 },
 "nbformat": 4,
 "nbformat_minor": 5
}
