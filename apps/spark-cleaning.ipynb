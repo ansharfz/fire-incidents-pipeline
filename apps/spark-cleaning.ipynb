{
 "cells": [
  {
   "cell_type": "code",
   "execution_count": 1,
   "id": "ff4256a5-202c-40f0-9dc0-795648372ca7",
   "metadata": {},
   "outputs": [
    {
     "data": {
      "text/html": [
       "<style>pre{white-space: pre !important;}</style>"
      ],
      "text/plain": [
       "<IPython.core.display.HTML object>"
      ]
     },
     "metadata": {},
     "output_type": "display_data"
    }
   ],
   "source": [
    "from IPython.display import display, HTML\n",
    "display(HTML(\"<style>pre{white-space: pre !important;}</style>\"))"
   ]
  },
  {
   "cell_type": "code",
   "execution_count": 2,
   "id": "dbbecedb-a8df-4e2e-b3bd-f503a576a083",
   "metadata": {},
   "outputs": [],
   "source": [
    "import pandas as pd\n",
    "import findspark\n",
    "\n",
    "from pyspark.sql import SparkSession\n",
    "from pyspark.sql.functions import regexp_replace"
   ]
  },
  {
   "cell_type": "code",
   "execution_count": 3,
   "id": "95b26d8a-dc12-46f9-b31a-3e3792c7623b",
   "metadata": {},
   "outputs": [],
   "source": [
    "findspark.init()"
   ]
  },
  {
   "cell_type": "code",
   "execution_count": 4,
   "id": "3b93a631-8d1a-4d0c-bf34-6c253f5f01d4",
   "metadata": {},
   "outputs": [
    {
     "name": "stderr",
     "output_type": "stream",
     "text": [
      "Setting default log level to \"WARN\".\n",
      "To adjust logging level use sc.setLogLevel(newLevel). For SparkR, use setLogLevel(newLevel).\n",
      "24/07/09 11:55:32 WARN NativeCodeLoader: Unable to load native-hadoop library for your platform... using builtin-java classes where applicable\n"
     ]
    }
   ],
   "source": [
    "spark = SparkSession.builder \\\n",
    "    .appName(\"Fire Incident\") \\\n",
    "    .master(\"local[1]\") \\\n",
    "    .config(\"spark.driver.host\", \"host.docker.internal\") \\\n",
    "    .config(\"spark.driver.bindAddress\", \"0.0.0.0\") \\\n",
    "    .config(\"spark.dynamicAllocation.enabled\", \"false\") \\\n",
    "    .config(\"spark.network.timeout\", \"600s\") \\\n",
    "    .config(\"spark.executor.heartbeatInterval\", \"120s\") \\\n",
    "    .config(\"spark.dynamicAllocation.enabled\", \"false\") \\\n",
    "    .config(\"spark.executor.instances\", \"1\") \\\n",
    "    .config(\"spark.cores.max\", \"1\") \\\n",
    "    .config(\"spark.executor.cores\", \"1\") \\\n",
    "    .config(\"spark.executor.memory\", \"512m\") \\\n",
    "    .config(\"spark.driver.memory\", \"512m\") \\\n",
    "    .getOrCreate()"
   ]
  },
  {
   "cell_type": "code",
   "execution_count": 5,
   "id": "3128d5d0-8a3f-40de-8c38-445f4ed25a4d",
   "metadata": {
    "scrolled": true
   },
   "outputs": [
    {
     "name": "stderr",
     "output_type": "stream",
     "text": [
      "24/07/09 11:55:46 WARN package: Truncated the string representation of a plan since it was too large. This behavior can be adjusted by setting 'spark.sql.debug.maxToStringFields'.\n"
     ]
    },
    {
     "name": "stdout",
     "output_type": "stream",
     "text": [
      "+---------------+---------------+---------+--------------------+-------------+-----------+--------------------+--------------------+--------------------+-------------+-------+---------+------------+----+-----------------+---------------------+---------+-------------+-----------+---------------+-------------------+-----------------------+-----------------------+---------------+-------------+-------------------+-----------------+----------------+--------------------+----------+--------------------+----------------------+------------------+--------------------------+--------------------+-------------------+--------------+-----------------------+-------------------------+-----------+------------------+--------------------------------------+--------------+----------------+--------------------+-----------+---------------+------------------------------------+----------------------------------------+----------------------------------+------------------------------------+-----------------+-------------+------------------+----------------------+-----------------------+--------------------------------------+----------------------------------+----------------------------------------+--------------------------------------------+-----------------------------------+-------------------+---------------------+--------------------+--------------------+--------------------+\n",
      "|Incident Number|Exposure Number|       ID|             Address|Incident Date|Call Number|          Alarm DtTm|        Arrival DtTm|          Close DtTm|         City|zipcode|Battalion|Station Area| Box|Suppression Units|Suppression Personnel|EMS Units|EMS Personnel|Other Units|Other Personnel|First Unit On Scene|Estimated Property Loss|Estimated Contents Loss|Fire Fatalities|Fire Injuries|Civilian Fatalities|Civilian Injuries|Number of Alarms|   Primary Situation|Mutual Aid|Action Taken Primary|Action Taken Secondary|Action Taken Other|Detector Alerted Occupants|        Property Use|Area of Fire Origin|Ignition Cause|Ignition Factor Primary|Ignition Factor Secondary|Heat Source|Item First Ignited|Human Factors Associated with Ignition|Structure Type|Structure Status|Floor of Fire Origin|Fire Spread|No Flame Spread|Number of floors with minimum damage|Number of floors with significant damage|Number of floors with heavy damage|Number of floors with extreme damage|Detectors Present|Detector Type|Detector Operation|Detector Effectiveness|Detector Failure Reason|Automatic Extinguishing System Present|Automatic Extinguishing Sytem Type|Automatic Extinguishing Sytem Perfomance|Automatic Extinguishing Sytem Failure Reason|Number of Sprinkler Heads Operating|Supervisor District|neighborhood_district|               point|          data_as_of|      data_loaded_at|\n",
      "+---------------+---------------+---------+--------------------+-------------+-----------+--------------------+--------------------+--------------------+-------------+-------+---------+------------+----+-----------------+---------------------+---------+-------------+-----------+---------------+-------------------+-----------------------+-----------------------+---------------+-------------+-------------------+-----------------+----------------+--------------------+----------+--------------------+----------------------+------------------+--------------------------+--------------------+-------------------+--------------+-----------------------+-------------------------+-----------+------------------+--------------------------------------+--------------+----------------+--------------------+-----------+---------------+------------------------------------+----------------------------------------+----------------------------------+------------------------------------+-----------------+-------------+------------------+----------------------+-----------------------+--------------------------------------+----------------------------------+----------------------------------------+--------------------------------------------+-----------------------------------+-------------------+---------------------+--------------------+--------------------+--------------------+\n",
      "|       17047393|              0|170473930|  0 BARNEVELD AVENUE|   2017/04/21|  171111861|2017/04/21 12:09:...|2017/04/21 12:09:...|2017/04/21 12:17:...|San Francisco|  94124|      B10|          42|6362|                1|                    5|        0|            0|          0|              0|               null|                      5|                      5|              0|            0|                  0|                0|               1|118 Trash or rubb...|    N None|11 Extinguishment...|                  null|              null|                 U Unknown|963 Street or roa...|               null|          null|                   null|                     null|       null|              null|                                  null|          null|            null|                null|       null|             NA|                                null|                                    null|                              null|                                null|             null|         null|              null|                  null|                   null|                                  null|                              null|                                    null|                                        null|                               null|                  9|              Portola|POINT (-122.40657...|2017/04/21 12:17:...|2024/05/15 02:26:...|\n",
      "|       17047397|              0|170473970|   940 SUTTER STREET|   2017/04/21|  171111879|2017/04/21 12:13:...|2017/04/21 12:18:...|2017/04/21 12:23:...|San Francisco|  94109|      B04|          03|1557|                1|                    4|        0|            0|          0|              0|               null|                   null|                   null|              0|            0|                  0|                0|               1|735 Alarm system ...|    N None|      86 Investigate|                  null|              null|                      null|400 Residential, ...|               null|          null|                   null|                     null|       null|              null|                                  null|          null|            null|                null|       null|             NA|                                null|                                    null|                              null|                                null|             null|         null|              null|                  null|                   null|                                  null|                              null|                                    null|                                        null|                               null|                  3|             Nob Hill|POINT (-122.41592...|2017/04/21 12:23:...|2024/05/15 02:26:...|\n",
      "|       17047411|              0|170474110|     61 TURNER TRAIL|   2017/04/21|  171112031|2017/04/21 12:45:...|2017/04/21 12:46:...|2017/04/21 01:05:...|San Francisco|  94107|      B10|          37|2542|                1|                    4|        0|            0|          0|              0|               null|                   null|                   null|              0|            0|                  0|                0|               1|440 Electrical  w...|    N None|      86 Investigate|                  null|              null|                      null|429 Multifamily d...|               null|          null|                   null|                     null|       null|              null|                                  null|          null|            null|                null|       null|             NA|                                null|                                    null|                              null|                                null|             null|         null|              null|                  null|                   null|                                  null|                              null|                                    null|                                        null|                               null|                 10|         Potrero Hill|POINT (-122.39502...|2017/04/21 01:05:...|2024/05/15 02:26:...|\n",
      "|       17047413|              0|170474130|     0 AMAZON AVENUE|   2017/04/21|  171112045|2017/04/21 12:48:...|2017/04/21 12:55:...|2017/04/21 02:30:...|San Francisco|  94112|      B09|          43|6174|                1|                    4|        1|            2|          0|              0|               null|                   null|                   null|              0|            0|                  0|                0|               1|322 Motor vehicle...|    N None|32 Provide basic ...|                  null|              null|                      null|962 Residential s...|               null|          null|                   null|                     null|       null|              null|                                  null|          null|            null|                null|       null|             NA|                                null|                                    null|                              null|                                null|             null|         null|              null|                  null|                   null|                                  null|                              null|                                    null|                                        null|                               null|                 11|            Excelsior|POINT (-122.43704...|2017/04/21 02:30:...|2024/05/15 02:26:...|\n",
      "|       17047421|              0|170474210|   1801 GREEN STREET|   2017/04/21|  171112147|2017/04/21 01:09:...|2017/04/21 01:13:...|2017/04/21 01:22:...|San Francisco|  94123|      B04|          16|3354|                3|                   10|        0|            0|          0|              0|               null|                   null|                   null|              0|            0|                  0|                0|               1|730 System malfun...|    N None|63 Restore fire a...|                  null|              null|                      null|         151 Library|               null|          null|                   null|                     null|       null|              null|                                  null|          null|            null|                null|       null|             NA|                                null|                                    null|                              null|                                null|             null|         null|              null|                  null|                   null|                                  null|                              null|                                    null|                                        null|                               null|                  2|               Marina|POINT (-122.42902...|2017/04/21 01:22:...|2024/05/15 02:26:...|\n",
      "|       17047426|              0|170474260|2201 SACRAMENTO S...|   2017/04/21|  171112182|2017/04/21 01:17:...|2017/04/21 01:25:...|2017/04/21 01:30:...|San Francisco|  94115|      B04|          38|3435|                1|                    4|        0|            0|          0|              0|               null|                   null|                   null|              0|            0|                  0|                0|               1|735 Alarm system ...|    N None|      86 Investigate|                  null|              null|                      null|400 Residential, ...|               null|          null|                   null|                     null|       null|              null|                                  null|          null|            null|                null|       null|             NA|                                null|                                    null|                              null|                                null|             null|         null|              null|                  null|                   null|                                  null|                              null|                                    null|                                        null|                               null|                  2|      Pacific Heights|POINT (-122.42916...|2017/04/21 01:30:...|2024/05/15 02:26:...|\n",
      "|       17047433|              0|170474330|    382 TEXAS STREET|   2017/04/21|  171112209|2017/04/21 01:24:...|2017/04/21 01:31:...|2017/04/21 01:33:...|San Francisco|  94107|      B03|          37|2462|                1|                    4|        0|            0|          0|              0|               null|                   null|                   null|              0|            0|                  0|                0|               1|740 Unintentional...|    N None|      86 Investigate|                  null|              null|                      null|419 1 or 2 family...|               null|          null|                   null|                     null|       null|              null|                                  null|          null|            null|                null|       null|             NA|                                null|                                    null|                              null|                                null|             null|         null|              null|                  null|                   null|                                  null|                              null|                                    null|                                        null|                               null|                 10|         Potrero Hill|POINT (-122.39555...|2017/04/21 01:33:...|2024/05/15 02:26:...|\n",
      "|       17047439|              0|170474390|  530 SANSOME STREET|   2017/04/21|  171112259|2017/04/21 01:36:...|2017/04/21 01:36:...|2017/04/21 02:24:...|San Francisco|  94111|      B01|          13|1211|                1|                    5|        0|            0|          0|              0|               null|                   null|                   null|              0|            0|                  0|                0|               1|571 Cover assignm...|    N None|47 Decontaminate ...|                  null|              null|                      null|150 Public or gov...|               null|          null|                   null|                     null|       null|              null|                                  null|          null|            null|                null|       null|             NA|                                null|                                    null|                              null|                                null|             null|         null|              null|                  null|                   null|                                  null|                              null|                                    null|                                        null|                               null|                  3|            Chinatown|POINT (-122.40135...|2017/04/21 02:24:...|2024/05/15 02:26:...|\n",
      "|       17047441|              0|170474410|      0 GEARY STREET|   2017/04/21|  171112304|2017/04/21 01:45:...|2017/04/21 01:45:...|2017/04/21 03:34:...|San Francisco|  94102|      B01|          03|1462|                1|                    4|        1|            2|          0|              0|               null|                   null|                   null|              0|            0|                  0|                0|               1|322 Motor vehicle...|    N None|30 Emergency medi...|                  null|              null|                      null|962 Residential s...|               null|          null|                   null|                     null|       null|              null|                                  null|          null|            null|                null|       null|             NA|                                null|                                    null|                              null|                                null|             null|         null|              null|                  null|                   null|                                  null|                              null|                                    null|                                        null|                               null|                  5|           Tenderloin|POINT (-122.41481...|2017/04/21 03:34:...|2024/05/15 02:26:...|\n",
      "|       17047445|              0|170474450|   479 NATOMA STREET|   2017/04/21|  171112378|2017/04/21 02:04:...|2017/04/21 02:09:...|2017/04/21 02:21:...|San Francisco|  94103|      B03|          01|2252|                1|                    4|        0|            0|          0|              0|               null|                   null|                   null|              0|            0|                  0|                0|               1|700 False alarm o...|    N None|      86 Investigate|                  null|              null|                      null|429 Multifamily d...|               null|          null|                   null|                     null|       null|              null|                                  null|          null|            null|                null|       null|             NA|                                null|                                    null|                              null|                                null|             null|         null|              null|                  null|                   null|                                  null|                              null|                                    null|                                        null|                               null|                  6|      South of Market|POINT (-122.40714...|2017/04/21 02:21:...|2024/05/15 02:26:...|\n",
      "|       17047451|              0|170474510|2600 ARELIOUS WAL...|   2017/04/21|  171112458|2017/04/21 02:20:...|2017/04/21 02:26:...|2017/04/21 02:38:...|San Francisco|  94124|      B10|          17|6615|                1|                    4|        0|            0|          0|              0|               null|                   null|                   null|              0|            0|                  0|                0|               1|745 Alarm system ...|    N None|00 Action taken, ...|                  null|              null|                      null|400 Residential, ...|               null|          null|                   null|                     null|       null|              null|                                  null|          null|            null|                null|       null|             NA|                                null|                                    null|                              null|                                null|             null|         null|              null|                  null|                   null|                                  null|                              null|                                    null|                                        null|                               null|                 10| Bayview Hunters P...|POINT (-122.38468...|2017/04/21 02:38:...|2024/05/15 02:26:...|\n",
      "|       17047452|              0|170474520|        0 SKYLINE BL|   2017/04/21|  171112468|2017/04/21 02:24:...|2017/04/21 02:31:...|2017/04/21 02:32:...|San Francisco|  94132|      B08|          19|8772|                1|                    4|        1|            2|          0|              0|               null|                   null|                   null|              0|            0|                  0|                0|               1|324 Motor vehicle...|    N None|      86 Investigate|                  null|              null|                      null|            NNN None|               null|          null|                   null|                     null|       null|              null|                                  null|          null|            null|                null|       null|             NA|                                null|                                    null|                              null|                                null|             null|         null|              null|                  null|                   null|                                  null|                              null|                                    null|                                        null|                               null|                  7|            Lakeshore|POINT (-122.49803...|2017/04/21 02:32:...|2024/05/15 02:26:...|\n",
      "|       17047453|              0|170474530|   865 MARKET STREET|   2017/04/21|  171112476|2017/04/21 02:25:...|2017/04/21 02:29:...|2017/04/21 02:31:...|San Francisco|  94103|      B01|          01|2247|                1|                    4|        0|            0|          0|              0|               null|                   null|                   null|              0|            0|                  0|                0|               1|700 False alarm o...|    N None|      86 Investigate|                  null|              null|                      null|500 Mercantile, b...|               null|          null|                   null|                     null|       null|              null|                                  null|          null|            null|                null|       null|             NA|                                null|                                    null|                              null|                                null|             null|         null|              null|                  null|                   null|                                  null|                              null|                                    null|                                        null|                               null|                  6|      South of Market|POINT (-122.40715...|2017/04/21 02:31:...|2024/05/15 02:26:...|\n",
      "|       17047454|              0|170474540|       0 14TH AVENUE|   2017/04/21|  171112478|2017/04/21 02:25:...|2017/04/21 02:30:...|2017/04/21 02:32:...|San Francisco|  94116|      B08|          40|7362|                1|                    4|        0|            0|          0|              0|               null|                   null|                   null|              0|            0|                  0|                0|               1|  554 Assist invalid|    N None|71 Assist physica...|                  null|              null|                      null|419 1 or 2 family...|               null|          null|                   null|                     null|       null|              null|                                  null|          null|            null|                null|       null|             NA|                                null|                                    null|                              null|                                null|             null|         null|              null|                  null|                   null|                                  null|                              null|                                    null|                                        null|                               null|                  7|   West of Twin Peaks|POINT (-122.47059...|2017/04/21 02:32:...|2024/05/15 02:26:...|\n",
      "|       17047456|              0|170474560|    684 ELLIS STREET|   2017/04/21|  171112490|2017/04/21 02:28:...|2017/04/21 02:32:...|2017/04/21 04:09:...|San Francisco|  94109|      B02|          03|1555|                2|                    9|        1|            2|          0|              0|               null|                   null|                   null|              0|            0|                  0|                0|               1|500 Service Call,...|    N None|00 Action taken, ...|                  null|              null|                      null|429 Multifamily d...|               null|          null|                   null|                     null|       null|              null|                                  null|          null|            null|                null|       null|             NA|                                null|                                    null|                              null|                                null|             null|         null|              null|                  null|                   null|                                  null|                              null|                                    null|                                        null|                               null|                  5|           Tenderloin|POINT (-122.41750...|2017/04/21 04:09:...|2024/05/15 02:26:...|\n",
      "|       17047457|              0|170474570|  1035 GILMAN AVENUE|   2017/04/21|  171112497|2017/04/21 02:29:...|2017/04/21 02:35:...|2017/04/21 02:41:...|San Francisco|  94124|      B10|          17|6611|                1|                    5|        0|            0|          0|              0|               null|                   null|                   null|              0|            0|                  0|                0|               1|700 False alarm o...|    N None|00 Action taken, ...|                  null|              null|                      null|213 Elementary sc...|               null|          null|                   null|                     null|       null|              null|                                  null|          null|            null|                null|       null|             NA|                                null|                                    null|                              null|                                null|             null|         null|              null|                  null|                   null|                                  null|                              null|                                    null|                                        null|                               null|                 10| Bayview Hunters P...|POINT (-122.38894...|2017/04/21 02:41:...|2024/05/15 02:26:...|\n",
      "|       17047459|              0|170474590|    933 GRANT AVENUE|   2017/04/21|  171112530|2017/04/21 02:35:...|2017/04/21 02:38:...|2017/04/21 02:47:...|San Francisco|  94133|      B01|          02|1312|                1|                    4|        0|            0|          0|              0|               null|                   null|                   null|              0|            0|                  0|                0|               1|745 Alarm system ...|    N None|63 Restore fire a...|                  null|              null|                      null|429 Multifamily d...|               null|          null|                   null|                     null|       null|              null|                                  null|          null|            null|                null|       null|             NA|                                null|                                    null|                              null|                                null|             null|         null|              null|                  null|                   null|                                  null|                              null|                                    null|                                        null|                               null|                  3|            Chinatown|POINT (-122.40662...|2017/04/21 02:47:...|2024/05/15 02:26:...|\n",
      "|       17047460|              0|170474600|      643 OAK STREET|   2017/04/21|  171112537|2017/04/21 02:37:...|2017/04/21 02:38:...|2017/04/21 02:59:...|San Francisco|  94117|      B02|          05|3523|                9|                   33|        1|            2|          1|              2|               null|                   null|                   null|              0|            0|                  0|                0|               1|113 Cooking fire,...|    N None|      86 Investigate|                  null|              null|      1 Detector alerte...|429 Multifamily d...|               null|          null|                   null|                     null|       null|              null|                                  null|          null|            null|                null|       null|             NA|                                null|                                    null|                              null|                                null|             null|         null|              null|                  null|                   null|                                  null|                              null|                                    null|                                        null|                               null|                  5|         Hayes Valley|POINT (-122.42988...|2017/04/21 02:59:...|2024/05/15 02:26:...|\n",
      "|       17047463|              0|170474630|       0 PINE STREET|   2017/04/21|  171112544|2017/04/21 02:38:...|2017/04/21 02:42:...|2017/04/21 03:15:...|San Francisco|  94109|      B04|          38|3325|                1|                    4|        0|            0|          0|              0|               null|                   null|                   null|              0|            0|                  0|                0|               1|322 Motor vehicle...|    N None|30 Emergency medi...|                  null|              null|                      null|962 Residential s...|               null|          null|                   null|                     null|       null|              null|                                  null|          null|            null|                null|       null|             NA|                                null|                                    null|                              null|                                null|             null|         null|              null|                  null|                   null|                                  null|                              null|                                    null|                                        null|                               null|                  5|      Pacific Heights|POINT (-122.42871...|2017/04/21 03:15:...|2024/05/15 02:26:...|\n",
      "|       17047468|              0|170474680|421 LEAVENWORTH S...|   2017/04/21|  171112591|2017/04/21 02:47:...|2017/04/21 02:52:...|2017/04/21 02:55:...|San Francisco|  94102|      B04|          03|1544|                1|                    4|        0|            0|          0|              0|               null|                   null|                   null|              0|            0|                  0|                0|               1|745 Alarm system ...|    N None|      86 Investigate|                  null|              null|                      null|400 Residential, ...|               null|          null|                   null|                     null|       null|              null|                                  null|          null|            null|                null|       null|             NA|                                null|                                    null|                              null|                                null|             null|         null|              null|                  null|                   null|                                  null|                              null|                                    null|                                        null|                               null|                  5|           Tenderloin|POINT (-122.41475...|2017/04/21 02:55:...|2024/05/15 02:26:...|\n",
      "+---------------+---------------+---------+--------------------+-------------+-----------+--------------------+--------------------+--------------------+-------------+-------+---------+------------+----+-----------------+---------------------+---------+-------------+-----------+---------------+-------------------+-----------------------+-----------------------+---------------+-------------+-------------------+-----------------+----------------+--------------------+----------+--------------------+----------------------+------------------+--------------------------+--------------------+-------------------+--------------+-----------------------+-------------------------+-----------+------------------+--------------------------------------+--------------+----------------+--------------------+-----------+---------------+------------------------------------+----------------------------------------+----------------------------------+------------------------------------+-----------------+-------------+------------------+----------------------+-----------------------+--------------------------------------+----------------------------------+----------------------------------------+--------------------------------------------+-----------------------------------+-------------------+---------------------+--------------------+--------------------+--------------------+\n",
      "only showing top 20 rows\n",
      "\n"
     ]
    }
   ],
   "source": [
    "df = spark.read.csv('../data/raw/Fire_Incidents_20240516.csv', header=True)\n",
    "df.show()"
   ]
  },
  {
   "cell_type": "code",
   "execution_count": 6,
   "id": "944f734d-2f0d-4c33-bf6a-16e73090cb95",
   "metadata": {},
   "outputs": [],
   "source": [
    "df = df.withColumn('zipcode', regexp_replace('zipcode', '\\-\\w+[0-9]{3,}', ''))"
   ]
  },
  {
   "cell_type": "code",
   "execution_count": 28,
   "id": "58d3204c-63be-40a4-ad4c-888da9c1f293",
   "metadata": {},
   "outputs": [
    {
     "name": "stderr",
     "output_type": "stream",
     "text": [
      "[Stage 11:===================>                                      (1 + 1) / 3]\r"
     ]
    },
    {
     "name": "stdout",
     "output_type": "stream",
     "text": [
      "+----------------------------------------------------+\n",
      "|Detector Failure Reason                             |\n",
      "+----------------------------------------------------+\n",
      "|0 Detector failure reason, other                    |\n",
      "|2 Improper installation or placement of detector    |\n",
      "|3 -Defective                                        |\n",
      "|5 -Battery missing or disconnected                  |\n",
      "|6 Battery discharged or dead                        |\n",
      "|null                                                |\n",
      "|1 -Power fail/shutoff or disconnected dete          |\n",
      "|U Undetermined                                      |\n",
      "|1 Power failure, hardwired det. shut off, disconnect|\n",
      "|6 -Battery discharged or dead                       |\n",
      "|U -Undetermined                                     |\n",
      "|0 -Detector failure reason, other                   |\n",
      "|5 Battery missing or disconnected                   |\n",
      "|4 -Lack of maintenance, inc. not cleaning           |\n",
      "|2 -Improper installation or placement               |\n",
      "|4 Lack of maintenance, includes not cleaning        |\n",
      "|3 Defective detector                                |\n",
      "+----------------------------------------------------+\n",
      "\n"
     ]
    },
    {
     "name": "stderr",
     "output_type": "stream",
     "text": [
      "                                                                                \r"
     ]
    }
   ],
   "source": [
    "df.select('Detector Failure Reason').distinct().show(truncate=False)"
   ]
  },
  {
   "cell_type": "code",
   "execution_count": 41,
   "id": "53d2e1bc-9ecb-4537-a5ac-1c8be6a6972c",
   "metadata": {},
   "outputs": [
    {
     "name": "stderr",
     "output_type": "stream",
     "text": [
      "[Stage 17:===================>                                      (1 + 1) / 3]\r"
     ]
    },
    {
     "name": "stdout",
     "output_type": "stream",
     "text": [
      "+-----------------------------------------------+\n",
      "|Automatic Extinguishing Sytem Failure Reason   |\n",
      "+-----------------------------------------------+\n",
      "|5 Fire not in area protected by the syste      |\n",
      "|Not enough agent discharged to control the fire|\n",
      "|null                                           |\n",
      "|Reason system not effective, other             |\n",
      "|Inappropriate system for the type of fire      |\n",
      "|Fire not in area protected by the system       |\n",
      "|U Undetermined                                 |\n",
      "|7 Lack of maintenance, including corrosio      |\n",
      "|Undetermined                                   |\n",
      "|System shut off                                |\n",
      "|0 Reason system not effective, other           |\n",
      "|Agent discharged, but did not reach the fire   |\n",
      "|1 System shut off                              |\n",
      "|3 Agent discharged, did not reach the fir      |\n",
      "+-----------------------------------------------+\n",
      "\n"
     ]
    },
    {
     "name": "stderr",
     "output_type": "stream",
     "text": [
      "                                                                                \r"
     ]
    }
   ],
   "source": [
    "df.select('Automatic Extinguishing Sytem Failure Reason').distinct().show(truncate=False)"
   ]
  },
  {
   "cell_type": "code",
   "execution_count": null,
   "id": "09884dbd-20c4-455f-8cb0-1b2f265a6777",
   "metadata": {},
   "outputs": [],
   "source": []
  },
  {
   "cell_type": "code",
   "execution_count": 7,
   "id": "4988b07d-c872-4836-9906-c48b94b5b187",
   "metadata": {},
   "outputs": [],
   "source": [
    "df = df.withColumn('Primary Situation', regexp_replace('Primary Situation', '[\\s+*-]', ''))"
   ]
  },
  {
   "cell_type": "code",
   "execution_count": 10,
   "id": "dfc08f63-2fb8-48fb-90d6-c987d2299b27",
   "metadata": {},
   "outputs": [],
   "source": [
    "mutual_aid_mapping = {\n",
    "    'Mutual aid given': '3 Mutual aid given',\n",
    "    'Mutual aid received': '1 Mutual aid received',\n",
    "    'Other aid given': '5 Other aid given',\n",
    "    'Automatic or contract aid received': '2 Automatic aid received',\n",
    "    'Automatic aid given': '4 Automatic aid given',\n",
    "    '3 Mutual aid given': '3 Mutual aid given',\n",
    "    'None' : 'N None'}\n",
    "df = df.replace(mutual_aid_mapping, subset = ['Mutual Aid'])"
   ]
  },
  {
   "cell_type": "code",
   "execution_count": 12,
   "id": "8b1933d3-2ae5-4abc-8679-2ffb4ce6cca7",
   "metadata": {},
   "outputs": [],
   "source": [
    "df = df.withColumn('Ignition Factor Primary', regexp_replace('Ignition Factor Primary', '-', ''))"
   ]
  },
  {
   "cell_type": "code",
   "execution_count": 14,
   "id": "8b238444-0808-4d67-a3d3-80f91ba7cfef",
   "metadata": {},
   "outputs": [],
   "source": [
    "ignition_factor_secondary_mapping = {\n",
    "    '12 Heat source too close to combustibles.': '12 Heat source too close to combustibles.',\n",
    "    '30 Electrical failure, malfunction, othe': '30 Electrical failure, malfunction, other',\n",
    "    '11 Abandoned or discarded materials or p': '11 Abandoned or discarded materials or products',\n",
    "    '32 Short circuit arc from mechanical dam': '32 Short-circuit arc from mechanical damage',\n",
    "    '20 Mechanical failure, malfunction, othe': '20 Mechanical failure, malfunction, other',\n",
    "    '18 Improper container or storage': '18 Improper container or storage procedure',\n",
    "    '00 Factors contributing to ignition, other': '00 Other factor contributed to ignition',\n",
    "    '33 Short cir. arc, defect/worn insulatio': '33 Short-circuit arc from defective, worn insulation',\n",
    "    '52 Accidentally turned on, not turned of': '52 Accidentally turned on, not turned off',\n",
    "    '57 Equipment used for not intended purpo': '57 Equipment not used for purpose intended',\n",
    "    '13 Cuttin/welding too close to combustib': '13 Cutting/welding too close to combustibles',\n",
    "    '73 Outside/open fire, debris/waste dispo': '73 Outside/open fire for debris or waste disposal',\n",
    "    '74 Outside/open fire for warming or cook': '74 Outside/open fire for warming or cooking',\n",
    "    '18 Improper container or storage procedure': '18 Improper container or storage',\n",
    "}\n",
    "df = df.withColumn('Ignition Factor Secondary', regexp_replace('Ignition Factor Secondary', '-', ''))\n",
    "df = df.replace(ignition_factor_secondary_mapping, subset = ['Ignition Factor Secondary'])\n"
   ]
  },
  {
   "cell_type": "code",
   "execution_count": 13,
   "id": "5442af13-f37d-4f5f-b8db-c53a5dec0e43",
   "metadata": {},
   "outputs": [],
   "source": [
    "heat_source_mapping = {\n",
    "    '11 Spark/ember/flame from operating equi': '11 Spark, ember, or flame from operating equipment',\n",
    "    '12 Radiated/conducted heat operating equ': '12 Radiated or conducted heat from operating equipment',\n",
    "    '13 Arcing': '13 Electrical arcing',\n",
    "    '60 Heat; other open flame/smoking materi': '60 Heat from other open flame or smoking materials, other',\n",
    "    '63 Heat from undetermined smoking materi': '63 Heat from undetermined smoking material',\n",
    "    '65 Cigarette lighter': '65 Lighter: cigarette, cigar',\n",
    "    '67 Warning or road flare; fusee': '67 Warning or road flare; fuse',\n",
    "    '68 Backfire from internal combustion eng': '68 Backfire from internal combustion engine',\n",
    "    '72 Chemical reaction': '72 Spontaneous combustion, chemical reaction',\n",
    "    '97 Multiple heat sources including multi': '97 Multiple heat sources including multiple ignitions'\n",
    "}\n",
    "df = df.withColumn('Heat Source', regexp_replace('Heat Source', '-', ''))\n",
    "df = df.replace(heat_source_mapping, subset = ['Heat Source'])"
   ]
  },
  {
   "cell_type": "code",
   "execution_count": 15,
   "id": "4207a3de-3af6-42bf-a1a9-9f84324b3106",
   "metadata": {},
   "outputs": [],
   "source": [
    "item_first_ignited_mapping = {\n",
    "    '96 Rubbish, trash, waste': '96 Rubbish, trash, or waste',\n",
    "    '62 Flammable liquid/gas in/from engine or burner': '62 Flam. liq/gas-in/from engine or burne',\n",
    "    '21 Upholstered sofa, chair, vehicle seats': '21 Upholstered sofa, chair, vehicle seat',\n",
    "    '59 Rolled, wound material (paper and fabrics)': '59 Rolled, wound material (paper, fabric',\n",
    "    '73 Heavy vegetation not crop, including trees': '73 Heavy vegetation no crops, inc. tre',\n",
    "    '76 Cooking materials, including edible materials': '76 Cooking materials, inc. Edible materi',\n",
    "    '00 Item first ignited, other': '00 Item First Ignited, Other',\n",
    "    '14 Floor covering or rug/carpet/mat, surface': '14 Floor covering or rug/carpet/mat',\n",
    "    '36 Curtain, blind, drapery, tapestry': '36 Curtains, blinds, drapery, tapestry',\n",
    "    '11 Exterior roof covering, surface, finish': '11 Exterior roof covering or finish',\n",
    "    '64 Flammable liquid/gas in container or pipe': '64 Flam liq/gas in container or pipe',\n",
    "    '72 Light vegetation not crop, including grass': '72 Light vegetation no crops, inc. gra',\n",
    "    '37 Goods not made up, including fabrics and yard goods': '37 Raw Goods, incl. fabrics and yarn',\n",
    "    '66 Pipe, duct, conduit, hose': '66 Pipe, duct, conduit or hose',\n",
    "    '61 Atomized liquid, vaporized liquid, aerosol.': '61 Atomized liq., vaporized liq.,aersol',\n",
    "    '95 Film, residue, including paint & resi': '95 Film, residue, including paint and resin',\n",
    "    '63 Flammable liquid/gas in/from final container': '63 Flam Liq/gas-in/from final container',\n",
    "    '94 Dust, fiber, lint, including sawdust and excelsior': '94 Dust/fiber/lint. inc. sawdust, excels',\n",
    "    '15 Interior wall covering excluding drapes, etc.': '15 Int. Wall cover  exclude drapes, etc.',\n",
    "    '47 Tarpaulin, tent': '47 Tarpaulin or tent',\n",
    "    '71 Agricultural crop, including fruits and vegetables': '71 Crop, incl. fruits and vegitables',\n",
    "    '82 Transformer, including transformer fluids': '82 Transformer, including transformer fl',\n",
    "    '18 Thermal, acoustical insulation within wall, partition or floor/ceiling space': '18 Insulation within structural area',\n",
    "    '40 Adornment, recreational material, signs, other': '40 Adornment, recreational mat., signs,',\n",
    "    '43 Sign, including outdoor signs such as billboards': '43 Sign, inc. outdoor sign/billboards',\n",
    "    '74 Animal living or dead': '74 Animal, living or dead',\n",
    "    '77 Feathers or fur, not on bird or anima': '77 Feathers or fur, not on bird or animal',\n",
    "    '58 Palletized material, material stored on pallets.': '58 Palletized material',\n",
    "    '54 Cord, rope, twine': '54 Cord, rope, twine, yarn'}\n",
    "\n",
    "df = df.withColumn('Item First Ignited', regexp_replace('Item First Ignited', '-', ''))\n",
    "df = df.replace(item_first_ignited_mapping, subset = ['Item First Ignited'])"
   ]
  },
  {
   "cell_type": "code",
   "execution_count": 16,
   "id": "64113634-a6f8-4bef-b7ef-86ed3ab28ad2",
   "metadata": {},
   "outputs": [],
   "source": [
    "df = df.withColumn('Human Factors Associated with Ignition', regexp_replace('Human Factors Associated with Ignition', '[Â§]', ''))"
   ]
  },
  {
   "cell_type": "code",
   "execution_count": 18,
   "id": "a7cc4842-3af6-42c3-b784-698a948cb7a3",
   "metadata": {},
   "outputs": [],
   "source": [
    "structure_type_mapping = {'4 Air-supported structure': '4 Air supported structure',\n",
    "                          '7 Underground structure work area': '7 Underground structure work areas'}\n",
    "df = df.withColumn('Structure Type', regexp_replace('Structure Type', '-', ''))\n",
    "df = df.replace(structure_type_mapping, subset = ['Structure Type'])"
   ]
  },
  {
   "cell_type": "code",
   "execution_count": 20,
   "id": "33742458-faf4-4f9f-8bc7-3d93a148d611",
   "metadata": {},
   "outputs": [],
   "source": [
    "structure_status_mapping = {'0 Building status, other': '0 Other'}\n",
    "df = df.withColumn('Structure Status', regexp_replace('Structure Status', '-', ''))\n",
    "df = df.replace(structure_status_mapping, subset = ['Structure Status'])"
   ]
  },
  {
   "cell_type": "code",
   "execution_count": null,
   "id": "d9c04bc4-018a-4761-86ee-9ea58f0a4341",
   "metadata": {},
   "outputs": [],
   "source": [
    "fire_spread_mapping = mapping = {\n",
    "    '00 Item first ignited, other': '00 Item First Ignited, Other',\n",
    "    '11 Exterior roof covering, surface, finish': '11 Exterior roof covering or finish',\n",
    "    '66 Pipe, duct, conduit, hose': '66 Pipe, duct, conduit or hose',\n",
    "    '15 Interior wall covering excluding drapes, etc.': '15 Int. Wall cover  exclude drapes, etc.',\n",
    "    '76 Cooking materials, including edible materials': '76 Cooking materials, inc. Edible materia',\n",
    "    '94 Dust/fiber/lint. inc. sawdust, excelsi': '94 Dust/fiber/lint. inc. sawdust, excelsi',\n",
    "    '96 Rubbish, trash, or waste': '96 Rubbish, trash, waste',\n",
    "    '61 Atomized liq., vaporized liq.,aersol': '61 Atomized liquid, vaporized liquid, aerosol.'\n",
    "}\n",
    "df = df.withColumn('Fire Spread', regexp_replace('Fire Spread', '-', ''))\n",
    "df = df.replace(fire_spread_mapping, subset = ['Fire Spread'])"
   ]
  },
  {
   "cell_type": "code",
   "execution_count": 22,
   "id": "4a399b7a-f82c-4d29-886a-a241981c9e66",
   "metadata": {},
   "outputs": [],
   "source": [
    "no_flame_spread_mapping = {\n",
    "    'NO': '0', \n",
    "    'N': '0', \n",
    "    'False': '0', \n",
    "    'YES': '1', \n",
    "    'Y': '1', \n",
    "    'True': '1'\n",
    "}\n",
    "df = df.replace(no_flame_spread_mapping, subset = ['No Flame Spread'])"
   ]
  },
  {
   "cell_type": "code",
   "execution_count": 23,
   "id": "c803b6e2-83ae-4dfb-af6a-42e4e16e9d0e",
   "metadata": {},
   "outputs": [],
   "source": [
    "detectors_present_mapping = {\n",
    "    'N None present': 'N Not present'\n",
    "}\n",
    "df = df.withColumn('Detectors Present', regexp_replace('Detectors Present', '-', ''))\n",
    "df = df.replace(detectors_present_mapping, subset = ['Detectors Present'])"
   ]
  },
  {
   "cell_type": "code",
   "execution_count": 25,
   "id": "f25949db-d282-4204-8c7a-4ceebf9cf1c8",
   "metadata": {},
   "outputs": [],
   "source": [
    "detector_type_mapping = {\n",
    "    '3 Combination smoke and heat in a single unit':'3 Combination smoke & heat in single unit'\n",
    "}\n",
    "df = df.withColumn('Detector Type', regexp_replace('Detector Type', '-', ''))\n",
    "df = df.replace(detector_type_mapping, subset = ['Detector Type'])"
   ]
  },
  {
   "cell_type": "code",
   "execution_count": 26,
   "id": "849ef9b7-4960-40a4-8abc-d435248f3253",
   "metadata": {},
   "outputs": [],
   "source": [
    "df = df.withColumn('Detector Operation', regexp_replace('Detector Operation', '-', ''))"
   ]
  },
  {
   "cell_type": "code",
   "execution_count": 27,
   "id": "91f611fa-4026-4490-9914-d5e6d1d1600b",
   "metadata": {},
   "outputs": [],
   "source": [
    "detectors_effectiveness_mapping = {'2 Alerted occupants-occ. failed to resond' : '2 Detector alerted occupants, occupants failed to respond',\n",
    "                                   '4 Failed to alert occupants' : '4 Detector failed to alert occupants'}\n",
    "df = df.withColumn('Detector Effectiveness', regexp_replace('Detector Effectiveness', '-', ''))\n",
    "df = df.replace(detectors_effectiveness_mapping, subset = ['Detector Effectiveness'])"
   ]
  },
  {
   "cell_type": "code",
   "execution_count": 30,
   "id": "7a42e445-c0f2-4139-80d8-f353baeebbdd",
   "metadata": {},
   "outputs": [],
   "source": [
    "detector_failure_reason_mapping = {\n",
    "    '0 -Detector failure reason, other': '0 Detector failure reason, other',\n",
    "    '6 -Battery discharged or dead': '6 Battery discharged or dead',\n",
    "    '5 -Battery missing or disconnected': '5 Battery missing or disconnected',\n",
    "    '1 -Power fail/shutoff or disconnected dete': '1 Power failure, hardwired det. shut off, disconnect',\n",
    "    '3 -Defective': '3 Defective',\n",
    "    '4 -Lack of maintenance, inc. not cleaning': '4 Lack of maintenance, includes not cleaning',\n",
    "    '2 -Improper installation or placement': '2 Improper installation or placement of detector'\n",
    "}\n",
    "df = df.replace(detector_failure_reason_mapping, subset = ['Detector Failure Reason'])"
   ]
  },
  {
   "cell_type": "code",
   "execution_count": 31,
   "id": "d62d2890-4da6-4ad5-ab0c-ebd009112061",
   "metadata": {},
   "outputs": [],
   "source": [
    "df = df.withColumn('Automatic Extinguishing System Present', regexp_replace('Automatic Extinguishing System Present', '-', ''))"
   ]
  },
  {
   "cell_type": "code",
   "execution_count": 39,
   "id": "ed960e55-a856-4cde-a898-712bd4de5cb9",
   "metadata": {},
   "outputs": [],
   "source": [
    "aes_type_mapping = {\n",
    "    '1 Wet-pipe sprinkler' : '1 Wet-pipe sprinkler system',\n",
    "    '6 Halogen-type system': 'Halogen type system'\n",
    "}\n",
    "df = df.withColumn('Automatic Extinguishing Sytem Type', regexp_replace('Automatic Extinguishing Sytem Type', '-', ''))\n",
    "df = df.replace(aes_type_mapping, subset = ['Automatic Extinguishing Sytem Type'])"
   ]
  },
  {
   "cell_type": "code",
   "execution_count": 38,
   "id": "1e1b8750-cb33-43e7-a874-117f427f7d1e",
   "metadata": {},
   "outputs": [],
   "source": [
    "df = df.withColumn('Automatic Extinguishing Sytem Perfomance', regexp_replace('Automatic Extinguishing Sytem Perfomance', '-', ''))"
   ]
  },
  {
   "cell_type": "code",
   "execution_count": 43,
   "id": "8b6b58aa-c5f0-4f83-978e-7398a67802eb",
   "metadata": {},
   "outputs": [],
   "source": [
    "aes_failure_reason_mapping = {\n",
    "    'Reason system not effective, other': '0 Reason system not effective, other',\n",
    "    'System shut off' : '1 System shut off',\n",
    "    'Not enough agent discharged to control the fire':'2 Not enough agent discharged to control the fire',\n",
    "    'Agent discharged, but did not reach the fire': '3 Agent discharged, did not reach the fire',\n",
    "    '3 Agent discharged, did not reach the fir': '3 Agent discharged, did not reach the fire',\n",
    "    'Inappropriate system for the type of fire': '4 Inappropriate system for the type of fire',\n",
    "    'Fire not in area protected by the system': '5 Fire not in area protected by the system',\n",
    "}\n",
    "df = df.withColumn('Automatic Extinguishing Sytem Failure Reason', regexp_replace('Automatic Extinguishing Sytem Failure Reason', '-', ''))\n",
    "df = df.replace(aes_failure_reason_mapping, subset = ['Automatic Extinguishing Sytem Failure Reason'])"
   ]
  },
  {
   "cell_type": "code",
   "execution_count": 30,
   "id": "860604b5-e526-4523-93d2-f3f3ef594d43",
   "metadata": {},
   "outputs": [],
   "source": [
    "spark.stop()"
   ]
  }
 ],
 "metadata": {
  "kernelspec": {
   "display_name": "Python 3 (ipykernel)",
   "language": "python",
   "name": "python3"
  },
  "language_info": {
   "codemirror_mode": {
    "name": "ipython",
    "version": 3
   },
   "file_extension": ".py",
   "mimetype": "text/x-python",
   "name": "python",
   "nbconvert_exporter": "python",
   "pygments_lexer": "ipython3",
   "version": "3.11.9"
  }
 },
 "nbformat": 4,
 "nbformat_minor": 5
}
