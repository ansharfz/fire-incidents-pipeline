{
 "cells": [
  {
   "cell_type": "code",
   "execution_count": 1,
   "id": "ff4256a5-202c-40f0-9dc0-795648372ca7",
   "metadata": {},
   "outputs": [
    {
     "data": {
      "text/html": [
       "<style>pre{white-space: pre !important;}</style>"
      ],
      "text/plain": [
       "<IPython.core.display.HTML object>"
      ]
     },
     "metadata": {},
     "output_type": "display_data"
    }
   ],
   "source": [
    "from IPython.display import display, HTML\n",
    "display(HTML(\"<style>pre{white-space: pre !important;}</style>\"))"
   ]
  },
  {
   "cell_type": "code",
   "execution_count": 2,
   "id": "dbbecedb-a8df-4e2e-b3bd-f503a576a083",
   "metadata": {},
   "outputs": [],
   "source": [
    "import pandas as pd\n",
    "import findspark\n",
    "\n",
    "from pyspark.sql import SparkSession\n",
    "from pyspark.sql.functions import *\n",
    "from pyspark.sql.types import DateType, TimestampType, IntegerType"
   ]
  },
  {
   "cell_type": "code",
   "execution_count": 3,
   "id": "95b26d8a-dc12-46f9-b31a-3e3792c7623b",
   "metadata": {},
   "outputs": [],
   "source": [
    "findspark.init()"
   ]
  },
  {
   "cell_type": "code",
   "execution_count": 4,
   "id": "3b93a631-8d1a-4d0c-bf34-6c253f5f01d4",
   "metadata": {},
   "outputs": [
    {
     "name": "stderr",
     "output_type": "stream",
     "text": [
      "Setting default log level to \"WARN\".\n",
      "To adjust logging level use sc.setLogLevel(newLevel). For SparkR, use setLogLevel(newLevel).\n",
      "24/07/16 12:01:48 WARN NativeCodeLoader: Unable to load native-hadoop library for your platform... using builtin-java classes where applicable\n"
     ]
    }
   ],
   "source": [
    "spark = SparkSession.builder \\\n",
    "    .appName(\"Fire Incident\") \\\n",
    "    .master(\"local[1]\") \\\n",
    "    .config(\"spark.driver.host\", \"host.docker.internal\") \\\n",
    "    .config(\"spark.driver.bindAddress\", \"0.0.0.0\") \\\n",
    "    .config(\"spark.dynamicAllocation.enabled\", \"false\") \\\n",
    "    .config(\"spark.network.timeout\", \"600s\") \\\n",
    "    .config(\"spark.executor.heartbeatInterval\", \"120s\") \\\n",
    "    .config(\"spark.dynamicAllocation.enabled\", \"false\") \\\n",
    "    .config(\"spark.executor.instances\", \"1\") \\\n",
    "    .config(\"spark.cores.max\", \"1\") \\\n",
    "    .config(\"spark.executor.cores\", \"1\") \\\n",
    "    .config(\"spark.executor.memory\", \"512m\") \\\n",
    "    .config(\"spark.driver.memory\", \"512m\") \\\n",
    "    .getOrCreate()"
   ]
  },
  {
   "cell_type": "code",
   "execution_count": 5,
   "id": "3128d5d0-8a3f-40de-8c38-445f4ed25a4d",
   "metadata": {
    "scrolled": true
   },
   "outputs": [
    {
     "name": "stderr",
     "output_type": "stream",
     "text": [
      "24/07/16 12:01:53 WARN package: Truncated the string representation of a plan since it was too large. This behavior can be adjusted by setting 'spark.sql.debug.maxToStringFields'.\n"
     ]
    },
    {
     "name": "stdout",
     "output_type": "stream",
     "text": [
      "+---------------+---------------+---------+--------------------------+-------------+-----------+----------------------+----------------------+----------------------+-------------+-------+---------+------------+----+-----------------+---------------------+---------+-------------+-----------+---------------+-------------------+-----------------------+-----------------------+---------------+-------------+-------------------+-----------------+----------------+----------------------------------------------------+----------+-------------------------------------------+----------------------+------------------+----------------------------+----------------------------------------------------+-------------------+--------------+-----------------------+-------------------------+-----------+------------------+--------------------------------------+--------------+----------------+--------------------+-----------+---------------+------------------------------------+----------------------------------------+----------------------------------+------------------------------------+-----------------+-------------+------------------+----------------------+-----------------------+--------------------------------------+----------------------------------+----------------------------------------+--------------------------------------------+-----------------------------------+-------------------+---------------------+-----------------------------+----------------------+----------------------+\n",
      "|Incident Number|Exposure Number|ID       |Address                   |Incident Date|Call Number|Alarm DtTm            |Arrival DtTm          |Close DtTm            |City         |zipcode|Battalion|Station Area|Box |Suppression Units|Suppression Personnel|EMS Units|EMS Personnel|Other Units|Other Personnel|First Unit On Scene|Estimated Property Loss|Estimated Contents Loss|Fire Fatalities|Fire Injuries|Civilian Fatalities|Civilian Injuries|Number of Alarms|Primary Situation                                   |Mutual Aid|Action Taken Primary                       |Action Taken Secondary|Action Taken Other|Detector Alerted Occupants  |Property Use                                        |Area of Fire Origin|Ignition Cause|Ignition Factor Primary|Ignition Factor Secondary|Heat Source|Item First Ignited|Human Factors Associated with Ignition|Structure Type|Structure Status|Floor of Fire Origin|Fire Spread|No Flame Spread|Number of floors with minimum damage|Number of floors with significant damage|Number of floors with heavy damage|Number of floors with extreme damage|Detectors Present|Detector Type|Detector Operation|Detector Effectiveness|Detector Failure Reason|Automatic Extinguishing System Present|Automatic Extinguishing Sytem Type|Automatic Extinguishing Sytem Perfomance|Automatic Extinguishing Sytem Failure Reason|Number of Sprinkler Heads Operating|Supervisor District|neighborhood_district|point                        |data_as_of            |data_loaded_at        |\n",
      "+---------------+---------------+---------+--------------------------+-------------+-----------+----------------------+----------------------+----------------------+-------------+-------+---------+------------+----+-----------------+---------------------+---------+-------------+-----------+---------------+-------------------+-----------------------+-----------------------+---------------+-------------+-------------------+-----------------+----------------+----------------------------------------------------+----------+-------------------------------------------+----------------------+------------------+----------------------------+----------------------------------------------------+-------------------+--------------+-----------------------+-------------------------+-----------+------------------+--------------------------------------+--------------+----------------+--------------------+-----------+---------------+------------------------------------+----------------------------------------+----------------------------------+------------------------------------+-----------------+-------------+------------------+----------------------+-----------------------+--------------------------------------+----------------------------------+----------------------------------------+--------------------------------------------+-----------------------------------+-------------------+---------------------+-----------------------------+----------------------+----------------------+\n",
      "|17047393       |0              |170473930|0 BARNEVELD AVENUE        |2017/04/21   |171111861  |2017/04/21 12:09:04 PM|2017/04/21 12:09:04 PM|2017/04/21 12:17:35 PM|San Francisco|94124  |B10      |42          |6362|1                |5                    |0        |0            |0          |0              |null               |5                      |5                      |0              |0            |0                  |0                |1               |118 Trash or rubbish fire, contained                |N None    |11 Extinguishment by fire service personnel|null                  |null              |U Unknown                   |963 Street or road in commercial area               |null               |null          |null                   |null                     |null       |null              |null                                  |null          |null            |null                |null       |NA             |null                                |null                                    |null                              |null                                |null             |null         |null              |null                  |null                   |null                                  |null                              |null                                    |null                                        |null                               |9                  |Portola              |POINT (-122.406574 37.732143)|2017/04/21 12:17:35 PM|2024/05/15 02:26:57 AM|\n",
      "|17047397       |0              |170473970|940 SUTTER STREET         |2017/04/21   |171111879  |2017/04/21 12:13:00 PM|2017/04/21 12:18:37 PM|2017/04/21 12:23:16 PM|San Francisco|94109  |B04      |03          |1557|1                |4                    |0        |0            |0          |0              |null               |null                   |null                   |0              |0            |0                  |0                |1               |735 Alarm system sounded due to malfunction         |N None    |86 Investigate                             |null                  |null              |null                        |400 Residential, other                              |null               |null          |null                   |null                     |null       |null              |null                                  |null          |null            |null                |null       |NA             |null                                |null                                    |null                              |null                                |null             |null         |null              |null                  |null                   |null                                  |null                              |null                                    |null                                        |null                               |3                  |Nob Hill             |POINT (-122.415928 37.788576)|2017/04/21 12:23:16 PM|2024/05/15 02:26:57 AM|\n",
      "|17047411       |0              |170474110|61 TURNER TRAIL           |2017/04/21   |171112031  |2017/04/21 12:45:05 PM|2017/04/21 12:46:55 PM|2017/04/21 01:05:22 PM|San Francisco|94107  |B10      |37          |2542|1                |4                    |0        |0            |0          |0              |null               |null                   |null                   |0              |0            |0                  |0                |1               |440 Electrical  wiring/equipment problem, other     |N None    |86 Investigate                             |null                  |null              |null                        |429 Multifamily dwelling                            |null               |null          |null                   |null                     |null       |null              |null                                  |null          |null            |null                |null       |NA             |null                                |null                                    |null                              |null                                |null             |null         |null              |null                  |null                   |null                                  |null                              |null                                    |null                                        |null                               |10                 |Potrero Hill         |POINT (-122.395021 37.756551)|2017/04/21 01:05:22 PM|2024/05/15 02:26:57 AM|\n",
      "|17047413       |0              |170474130|0 AMAZON AVENUE           |2017/04/21   |171112045  |2017/04/21 12:48:10 PM|2017/04/21 12:55:50 PM|2017/04/21 02:30:36 PM|San Francisco|94112  |B09      |43          |6174|1                |4                    |1        |2            |0          |0              |null               |null                   |null                   |0              |0            |0                  |0                |1               |322 Motor vehicle accident with injuries            |N None    |32 Provide basic life support (BLS)        |null                  |null              |null                        |962 Residential street, road or residential driveway|null               |null          |null                   |null                     |null       |null              |null                                  |null          |null            |null                |null       |NA             |null                                |null                                    |null                              |null                                |null             |null         |null              |null                  |null                   |null                                  |null                              |null                                    |null                                        |null                               |11                 |Excelsior            |POINT (-122.437047 37.716007)|2017/04/21 02:30:36 PM|2024/05/15 02:26:57 AM|\n",
      "|17047421       |0              |170474210|1801 GREEN STREET         |2017/04/21   |171112147  |2017/04/21 01:09:58 PM|2017/04/21 01:13:38 PM|2017/04/21 01:22:06 PM|San Francisco|94123  |B04      |16          |3354|3                |10                   |0        |0            |0          |0              |null               |null                   |null                   |0              |0            |0                  |0                |1               |730 System malfunction, other                       |N None    |63 Restore fire alarm system               |null                  |null              |null                        |151 Library                                         |null               |null          |null                   |null                     |null       |null              |null                                  |null          |null            |null                |null       |NA             |null                                |null                                    |null                              |null                                |null             |null         |null              |null                  |null                   |null                                  |null                              |null                                    |null                                        |null                               |2                  |Marina               |POINT (-122.429023 37.796789)|2017/04/21 01:22:06 PM|2024/05/15 02:26:57 AM|\n",
      "|17047426       |0              |170474260|2201 SACRAMENTO STREET    |2017/04/21   |171112182  |2017/04/21 01:17:45 PM|2017/04/21 01:25:03 PM|2017/04/21 01:30:27 PM|San Francisco|94115  |B04      |38          |3435|1                |4                    |0        |0            |0          |0              |null               |null                   |null                   |0              |0            |0                  |0                |1               |735 Alarm system sounded due to malfunction         |N None    |86 Investigate                             |null                  |null              |null                        |400 Residential, other                              |null               |null          |null                   |null                     |null       |null              |null                                  |null          |null            |null                |null       |NA             |null                                |null                                    |null                              |null                                |null             |null         |null              |null                  |null                   |null                                  |null                              |null                                    |null                                        |null                               |2                  |Pacific Heights      |POINT (-122.429168 37.79038) |2017/04/21 01:30:27 PM|2024/05/15 02:26:57 AM|\n",
      "|17047433       |0              |170474330|382 TEXAS STREET          |2017/04/21   |171112209  |2017/04/21 01:24:50 PM|2017/04/21 01:31:44 PM|2017/04/21 01:33:16 PM|San Francisco|94107  |B03      |37          |2462|1                |4                    |0        |0            |0          |0              |null               |null                   |null                   |0              |0            |0                  |0                |1               |740 Unintentional transmission of alarm, other      |N None    |86 Investigate                             |null                  |null              |null                        |419 1 or 2 family dwelling                          |null               |null          |null                   |null                     |null       |null              |null                                  |null          |null            |null                |null       |NA             |null                                |null                                    |null                              |null                                |null             |null         |null              |null                  |null                   |null                                  |null                              |null                                    |null                                        |null                               |10                 |Potrero Hill         |POINT (-122.395553 37.76161) |2017/04/21 01:33:16 PM|2024/05/15 02:26:57 AM|\n",
      "|17047439       |0              |170474390|530 SANSOME STREET        |2017/04/21   |171112259  |2017/04/21 01:36:16 PM|2017/04/21 01:36:16 PM|2017/04/21 02:24:21 PM|San Francisco|94111  |B01      |13          |1211|1                |5                    |0        |0            |0          |0              |null               |null                   |null                   |0              |0            |0                  |0                |1               |571 Cover assignment, standby, moveup               |N None    |47 Decontaminate occupancy or area         |null                  |null              |null                        |150 Public or government, other                     |null               |null          |null                   |null                     |null       |null              |null                                  |null          |null            |null                |null       |NA             |null                                |null                                    |null                              |null                                |null             |null         |null              |null                  |null                   |null                                  |null                              |null                                    |null                                        |null                               |3                  |Chinatown            |POINT (-122.40135 37.795518) |2017/04/21 02:24:21 PM|2024/05/15 02:26:57 AM|\n",
      "|17047441       |0              |170474410|0 GEARY STREET            |2017/04/21   |171112304  |2017/04/21 01:45:52 PM|2017/04/21 01:45:52 PM|2017/04/21 03:34:29 PM|San Francisco|94102  |B01      |03          |1462|1                |4                    |1        |2            |0          |0              |null               |null                   |null                   |0              |0            |0                  |0                |1               |322 Motor vehicle accident with injuries            |N None    |30 Emergency medical services, other       |null                  |null              |null                        |962 Residential street, road or residential driveway|null               |null          |null                   |null                     |null       |null              |null                                  |null          |null            |null                |null       |NA             |null                                |null                                    |null                              |null                                |null             |null         |null              |null                  |null                   |null                                  |null                              |null                                    |null                                        |null                               |5                  |Tenderloin           |POINT (-122.41481 37.786519) |2017/04/21 03:34:29 PM|2024/05/15 02:26:57 AM|\n",
      "|17047445       |0              |170474450|479 NATOMA STREET         |2017/04/21   |171112378  |2017/04/21 02:04:57 PM|2017/04/21 02:09:30 PM|2017/04/21 02:21:15 PM|San Francisco|94103  |B03      |01          |2252|1                |4                    |0        |0            |0          |0              |null               |null                   |null                   |0              |0            |0                  |0                |1               |700 False alarm or false call, other                |N None    |86 Investigate                             |null                  |null              |null                        |429 Multifamily dwelling                            |null               |null          |null                   |null                     |null       |null              |null                                  |null          |null            |null                |null       |NA             |null                                |null                                    |null                              |null                                |null             |null         |null              |null                  |null                   |null                                  |null                              |null                                    |null                                        |null                               |6                  |South of Market      |POINT (-122.407145 37.7805)  |2017/04/21 02:21:15 PM|2024/05/15 02:26:57 AM|\n",
      "|17047451       |0              |170474510|2600 ARELIOUS WALKER DRIVE|2017/04/21   |171112458  |2017/04/21 02:20:02 PM|2017/04/21 02:26:14 PM|2017/04/21 02:38:52 PM|San Francisco|94124  |B10      |17          |6615|1                |4                    |0        |0            |0          |0              |null               |null                   |null                   |0              |0            |0                  |0                |1               |745 Alarm system activation, no fire - unintentional|N None    |00 Action taken, other                     |null                  |null              |null                        |400 Residential, other                              |null               |null          |null                   |null                     |null       |null              |null                                  |null          |null            |null                |null       |NA             |null                                |null                                    |null                              |null                                |null             |null         |null              |null                  |null                   |null                                  |null                              |null                                    |null                                        |null                               |10                 |Bayview Hunters Point|POINT (-122.38468 37.719095) |2017/04/21 02:38:52 PM|2024/05/15 02:26:57 AM|\n",
      "|17047452       |0              |170474520|0 SKYLINE BL              |2017/04/21   |171112468  |2017/04/21 02:24:03 PM|2017/04/21 02:31:02 PM|2017/04/21 02:32:54 PM|San Francisco|94132  |B08      |19          |8772|1                |4                    |1        |2            |0          |0              |null               |null                   |null                   |0              |0            |0                  |0                |1               |324 Motor vehicle accident with no injuries.        |N None    |86 Investigate                             |null                  |null              |null                        |NNN None                                            |null               |null          |null                   |null                     |null       |null              |null                                  |null          |null            |null                |null       |NA             |null                                |null                                    |null                              |null                                |null             |null         |null              |null                  |null                   |null                                  |null                              |null                                    |null                                        |null                               |7                  |Lakeshore            |POINT (-122.498036 37.709984)|2017/04/21 02:32:54 PM|2024/05/15 02:26:57 AM|\n",
      "|17047453       |0              |170474530|865 MARKET STREET         |2017/04/21   |171112476  |2017/04/21 02:25:22 PM|2017/04/21 02:29:53 PM|2017/04/21 02:31:53 PM|San Francisco|94103  |B01      |01          |2247|1                |4                    |0        |0            |0          |0              |null               |null                   |null                   |0              |0            |0                  |0                |1               |700 False alarm or false call, other                |N None    |86 Investigate                             |null                  |null              |null                        |500 Mercantile, business, other                     |null               |null          |null                   |null                     |null       |null              |null                                  |null          |null            |null                |null       |NA             |null                                |null                                    |null                              |null                                |null             |null         |null              |null                  |null                   |null                                  |null                              |null                                    |null                                        |null                               |6                  |South of Market      |POINT (-122.407158 37.783947)|2017/04/21 02:31:53 PM|2024/05/15 02:26:57 AM|\n",
      "|17047454       |0              |170474540|0 14TH AVENUE             |2017/04/21   |171112478  |2017/04/21 02:25:40 PM|2017/04/21 02:30:09 PM|2017/04/21 02:32:21 PM|San Francisco|94116  |B08      |40          |7362|1                |4                    |0        |0            |0          |0              |null               |null                   |null                   |0              |0            |0                  |0                |1               |554 Assist invalid                                  |N None    |71 Assist physically disabled              |null                  |null              |null                        |419 1 or 2 family dwelling                          |null               |null          |null                   |null                     |null       |null              |null                                  |null          |null            |null                |null       |NA             |null                                |null                                    |null                              |null                                |null             |null         |null              |null                  |null                   |null                                  |null                              |null                                    |null                                        |null                               |7                  |West of Twin Peaks   |POINT (-122.470596 37.748868)|2017/04/21 02:32:21 PM|2024/05/15 02:26:57 AM|\n",
      "|17047456       |0              |170474560|684 ELLIS STREET          |2017/04/21   |171112490  |2017/04/21 02:28:25 PM|2017/04/21 02:32:04 PM|2017/04/21 04:09:39 PM|San Francisco|94109  |B02      |03          |1555|2                |9                    |1        |2            |0          |0              |null               |null                   |null                   |0              |0            |0                  |0                |1               |500 Service Call, other                             |N None    |00 Action taken, other                     |null                  |null              |null                        |429 Multifamily dwelling                            |null               |null          |null                   |null                     |null       |null              |null                                  |null          |null            |null                |null       |NA             |null                                |null                                    |null                              |null                                |null             |null         |null              |null                  |null                   |null                                  |null                              |null                                    |null                                        |null                               |5                  |Tenderloin           |POINT (-122.417507 37.784395)|2017/04/21 04:09:39 PM|2024/05/15 02:26:57 AM|\n",
      "|17047457       |0              |170474570|1035 GILMAN AVENUE        |2017/04/21   |171112497  |2017/04/21 02:29:23 PM|2017/04/21 02:35:55 PM|2017/04/21 02:41:03 PM|San Francisco|94124  |B10      |17          |6611|1                |5                    |0        |0            |0          |0              |null               |null                   |null                   |0              |0            |0                  |0                |1               |700 False alarm or false call, other                |N None    |00 Action taken, other                     |null                  |null              |null                        |213 Elementary school, including kindergarten       |null               |null          |null                   |null                     |null       |null              |null                                  |null          |null            |null                |null       |NA             |null                                |null                                    |null                              |null                                |null             |null         |null              |null                  |null                   |null                                  |null                              |null                                    |null                                        |null                               |10                 |Bayview Hunters Point|POINT (-122.388948 37.717956)|2017/04/21 02:41:03 PM|2024/05/15 02:26:57 AM|\n",
      "|17047459       |0              |170474590|933 GRANT AVENUE          |2017/04/21   |171112530  |2017/04/21 02:35:43 PM|2017/04/21 02:38:29 PM|2017/04/21 02:47:10 PM|San Francisco|94133  |B01      |02          |1312|1                |4                    |0        |0            |0          |0              |null               |null                   |null                   |0              |0            |0                  |0                |1               |745 Alarm system activation, no fire - unintentional|N None    |63 Restore fire alarm system               |null                  |null              |null                        |429 Multifamily dwelling                            |null               |null          |null                   |null                     |null       |null              |null                                  |null          |null            |null                |null       |NA             |null                                |null                                    |null                              |null                                |null             |null         |null              |null                  |null                   |null                                  |null                              |null                                    |null                                        |null                               |3                  |Chinatown            |POINT (-122.406628 37.795445)|2017/04/21 02:47:10 PM|2024/05/15 02:26:57 AM|\n",
      "|17047460       |0              |170474600|643 OAK STREET            |2017/04/21   |171112537  |2017/04/21 02:37:03 PM|2017/04/21 02:38:55 PM|2017/04/21 02:59:45 PM|San Francisco|94117  |B02      |05          |3523|9                |33                   |1        |2            |1          |2              |null               |null                   |null                   |0              |0            |0                  |0                |1               |113 Cooking fire, confined to container             |N None    |86 Investigate                             |null                  |null              |1 Detector alerted occupants|429 Multifamily dwelling                            |null               |null          |null                   |null                     |null       |null              |null                                  |null          |null            |null                |null       |NA             |null                                |null                                    |null                              |null                                |null             |null         |null              |null                  |null                   |null                                  |null                              |null                                    |null                                        |null                               |5                  |Hayes Valley         |POINT (-122.429884 37.774023)|2017/04/21 02:59:45 PM|2024/05/15 02:26:57 AM|\n",
      "|17047463       |0              |170474630|0 PINE STREET             |2017/04/21   |171112544  |2017/04/21 02:38:55 PM|2017/04/21 02:42:17 PM|2017/04/21 03:15:29 PM|San Francisco|94109  |B04      |38          |3325|1                |4                    |0        |0            |0          |0              |null               |null                   |null                   |0              |0            |0                  |0                |1               |322 Motor vehicle accident with injuries            |N None    |30 Emergency medical services, other       |null                  |null              |null                        |962 Residential street, road or residential driveway|null               |null          |null                   |null                     |null       |null              |null                                  |null          |null            |null                |null       |NA             |null                                |null                                    |null                              |null                                |null             |null         |null              |null                  |null                   |null                                  |null                              |null                                    |null                                        |null                               |5                  |Pacific Heights      |POINT (-122.428715 37.788575)|2017/04/21 03:15:29 PM|2024/05/15 02:26:57 AM|\n",
      "|17047468       |0              |170474680|421 LEAVENWORTH STREET    |2017/04/21   |171112591  |2017/04/21 02:47:13 PM|2017/04/21 02:52:30 PM|2017/04/21 02:55:23 PM|San Francisco|94102  |B04      |03          |1544|1                |4                    |0        |0            |0          |0              |null               |null                   |null                   |0              |0            |0                  |0                |1               |745 Alarm system activation, no fire - unintentional|N None    |86 Investigate                             |null                  |null              |null                        |400 Residential, other                              |null               |null          |null                   |null                     |null       |null              |null                                  |null          |null            |null                |null       |NA             |null                                |null                                    |null                              |null                                |null             |null         |null              |null                  |null                   |null                                  |null                              |null                                    |null                                        |null                               |5                  |Tenderloin           |POINT (-122.414754 37.784991)|2017/04/21 02:55:23 PM|2024/05/15 02:26:57 AM|\n",
      "+---------------+---------------+---------+--------------------------+-------------+-----------+----------------------+----------------------+----------------------+-------------+-------+---------+------------+----+-----------------+---------------------+---------+-------------+-----------+---------------+-------------------+-----------------------+-----------------------+---------------+-------------+-------------------+-----------------+----------------+----------------------------------------------------+----------+-------------------------------------------+----------------------+------------------+----------------------------+----------------------------------------------------+-------------------+--------------+-----------------------+-------------------------+-----------+------------------+--------------------------------------+--------------+----------------+--------------------+-----------+---------------+------------------------------------+----------------------------------------+----------------------------------+------------------------------------+-----------------+-------------+------------------+----------------------+-----------------------+--------------------------------------+----------------------------------+----------------------------------------+--------------------------------------------+-----------------------------------+-------------------+---------------------+-----------------------------+----------------------+----------------------+\n",
      "only showing top 20 rows\n",
      "\n"
     ]
    }
   ],
   "source": [
    "df = spark.read.csv('../data/raw/Fire_Incidents_20240516.csv', header=True)\n",
    "df.show(truncate=False)"
   ]
  },
  {
   "cell_type": "markdown",
   "id": "8711c22b-4135-4e90-b584-c0f3a41e363f",
   "metadata": {},
   "source": [
    "## Inconsistent labels"
   ]
  },
  {
   "cell_type": "code",
   "execution_count": 43,
   "id": "944f734d-2f0d-4c33-bf6a-16e73090cb95",
   "metadata": {},
   "outputs": [],
   "source": [
    "df = df.withColumn('zipcode', regexp_replace('zipcode', '\\-\\w+[0-9]{3,}', ''))"
   ]
  },
  {
   "cell_type": "code",
   "execution_count": 44,
   "id": "3ff10e9d-bfb7-4ee0-81c4-ebb057a8fedc",
   "metadata": {},
   "outputs": [],
   "source": [
    "df = df.filter(col(\"Primary Situation\").startswith(\"1\"))"
   ]
  },
  {
   "cell_type": "code",
   "execution_count": 45,
   "id": "4988b07d-c872-4836-9906-c48b94b5b187",
   "metadata": {},
   "outputs": [],
   "source": [
    "df = df.withColumn('Primary Situation', regexp_replace('Primary Situation', '[*-]', ''))\n",
    "df = df.withColumn('Primary Situation', trim('Primary Situation'))"
   ]
  },
  {
   "cell_type": "code",
   "execution_count": 46,
   "id": "dfc08f63-2fb8-48fb-90d6-c987d2299b27",
   "metadata": {},
   "outputs": [],
   "source": [
    "mutual_aid_mapping = {\n",
    "    'Mutual aid given': '3 Mutual aid given',\n",
    "    'Mutual aid received': '1 Mutual aid received',\n",
    "    'Other aid given': '5 Other aid given',\n",
    "    'Automatic or contract aid received': '2 Automatic aid received',\n",
    "    'Automatic aid given': '4 Automatic aid given',\n",
    "    '3 Mutual aid given': '3 Mutual aid given',\n",
    "    'None' : 'N None'}\n",
    "df = df.replace(mutual_aid_mapping, subset = ['Mutual Aid'])"
   ]
  },
  {
   "cell_type": "code",
   "execution_count": 47,
   "id": "8b1933d3-2ae5-4abc-8679-2ffb4ce6cca7",
   "metadata": {},
   "outputs": [],
   "source": [
    "df = df.withColumn('Ignition Factor Primary', regexp_replace('Ignition Factor Primary', '-', ''))"
   ]
  },
  {
   "cell_type": "code",
   "execution_count": 48,
   "id": "8b238444-0808-4d67-a3d3-80f91ba7cfef",
   "metadata": {},
   "outputs": [],
   "source": [
    "ignition_factor_secondary_mapping = {\n",
    "    '12 Heat source too close to combustibles.': '12 Heat source too close to combustibles.',\n",
    "    '30 Electrical failure, malfunction, othe': '30 Electrical failure, malfunction, other',\n",
    "    '11 Abandoned or discarded materials or p': '11 Abandoned or discarded materials or products',\n",
    "    '32 Short circuit arc from mechanical dam': '32 Short-circuit arc from mechanical damage',\n",
    "    '20 Mechanical failure, malfunction, othe': '20 Mechanical failure, malfunction, other',\n",
    "    '18 Improper container or storage': '18 Improper container or storage procedure',\n",
    "    '00 Factors contributing to ignition, other': '00 Other factor contributed to ignition',\n",
    "    '33 Short cir. arc, defect/worn insulatio': '33 Short-circuit arc from defective, worn insulation',\n",
    "    '52 Accidentally turned on, not turned of': '52 Accidentally turned on, not turned off',\n",
    "    '57 Equipment used for not intended purpo': '57 Equipment not used for purpose intended',\n",
    "    '13 Cuttin/welding too close to combustib': '13 Cutting/welding too close to combustibles',\n",
    "    '73 Outside/open fire, debris/waste dispo': '73 Outside/open fire for debris or waste disposal',\n",
    "    '74 Outside/open fire for warming or cook': '74 Outside/open fire for warming or cooking',\n",
    "    '18 Improper container or storage procedure': '18 Improper container or storage',\n",
    "}\n",
    "df = df.withColumn('Ignition Factor Secondary', regexp_replace('Ignition Factor Secondary', '-', ''))\n",
    "df = df.replace(ignition_factor_secondary_mapping, subset = ['Ignition Factor Secondary'])\n"
   ]
  },
  {
   "cell_type": "code",
   "execution_count": 49,
   "id": "5442af13-f37d-4f5f-b8db-c53a5dec0e43",
   "metadata": {},
   "outputs": [],
   "source": [
    "heat_source_mapping = {\n",
    "    '11 Spark/ember/flame from operating equi': '11 Spark, ember, or flame from operating equipment',\n",
    "    '12 Radiated/conducted heat operating equ': '12 Radiated or conducted heat from operating equipment',\n",
    "    '13 Arcing': '13 Electrical arcing',\n",
    "    '60 Heat; other open flame/smoking materi': '60 Heat from other open flame or smoking materials, other',\n",
    "    '63 Heat from undetermined smoking materi': '63 Heat from undetermined smoking material',\n",
    "    '65 Cigarette lighter': '65 Lighter: cigarette, cigar',\n",
    "    '67 Warning or road flare; fusee': '67 Warning or road flare; fuse',\n",
    "    '68 Backfire from internal combustion eng': '68 Backfire from internal combustion engine',\n",
    "    '72 Chemical reaction': '72 Spontaneous combustion, chemical reaction',\n",
    "    '97 Multiple heat sources including multi': '97 Multiple heat sources including multiple ignitions'\n",
    "}\n",
    "df = df.withColumn('Heat Source', regexp_replace('Heat Source', '-', ''))\n",
    "df = df.replace(heat_source_mapping, subset = ['Heat Source'])"
   ]
  },
  {
   "cell_type": "code",
   "execution_count": 50,
   "id": "4207a3de-3af6-42bf-a1a9-9f84324b3106",
   "metadata": {},
   "outputs": [],
   "source": [
    "item_first_ignited_mapping = {\n",
    "    '96 Rubbish, trash, waste': '96 Rubbish, trash, or waste',\n",
    "    '62 Flammable liquid/gas in/from engine or burner': '62 Flam. liq/gas-in/from engine or burne',\n",
    "    '21 Upholstered sofa, chair, vehicle seats': '21 Upholstered sofa, chair, vehicle seat',\n",
    "    '59 Rolled, wound material (paper and fabrics)': '59 Rolled, wound material (paper, fabric',\n",
    "    '73 Heavy vegetation not crop, including trees': '73 Heavy vegetation no crops, inc. tre',\n",
    "    '76 Cooking materials, including edible materials': '76 Cooking materials, inc. Edible materi',\n",
    "    '00 Item first ignited, other': '00 Item First Ignited, Other',\n",
    "    '14 Floor covering or rug/carpet/mat, surface': '14 Floor covering or rug/carpet/mat',\n",
    "    '36 Curtain, blind, drapery, tapestry': '36 Curtains, blinds, drapery, tapestry',\n",
    "    '11 Exterior roof covering, surface, finish': '11 Exterior roof covering or finish',\n",
    "    '64 Flammable liquid/gas in container or pipe': '64 Flam liq/gas in container or pipe',\n",
    "    '72 Light vegetation not crop, including grass': '72 Light vegetation no crops, inc. gra',\n",
    "    '37 Goods not made up, including fabrics and yard goods': '37 Raw Goods, incl. fabrics and yarn',\n",
    "    '66 Pipe, duct, conduit, hose': '66 Pipe, duct, conduit or hose',\n",
    "    '61 Atomized liquid, vaporized liquid, aerosol.': '61 Atomized liq., vaporized liq.,aersol',\n",
    "    '95 Film, residue, including paint & resi': '95 Film, residue, including paint and resin',\n",
    "    '63 Flammable liquid/gas in/from final container': '63 Flam Liq/gas-in/from final container',\n",
    "    '94 Dust, fiber, lint, including sawdust and excelsior': '94 Dust/fiber/lint. inc. sawdust, excels',\n",
    "    '15 Interior wall covering excluding drapes, etc.': '15 Int. Wall cover  exclude drapes, etc.',\n",
    "    '47 Tarpaulin, tent': '47 Tarpaulin or tent',\n",
    "    '71 Agricultural crop, including fruits and vegetables': '71 Crop, incl. fruits and vegitables',\n",
    "    '82 Transformer, including transformer fluids': '82 Transformer, including transformer fl',\n",
    "    '18 Thermal, acoustical insulation within wall, partition or floor/ceiling space': '18 Insulation within structural area',\n",
    "    '40 Adornment, recreational material, signs, other': '40 Adornment, recreational mat., signs,',\n",
    "    '43 Sign, including outdoor signs such as billboards': '43 Sign, inc. outdoor sign/billboards',\n",
    "    '74 Animal living or dead': '74 Animal, living or dead',\n",
    "    '77 Feathers or fur, not on bird or anima': '77 Feathers or fur, not on bird or animal',\n",
    "    '58 Palletized material, material stored on pallets.': '58 Palletized material',\n",
    "    '54 Cord, rope, twine': '54 Cord, rope, twine, yarn'}\n",
    "\n",
    "df = df.withColumn('Item First Ignited', regexp_replace('Item First Ignited', '-', ''))\n",
    "df = df.replace(item_first_ignited_mapping, subset = ['Item First Ignited'])"
   ]
  },
  {
   "cell_type": "code",
   "execution_count": 51,
   "id": "64113634-a6f8-4bef-b7ef-86ed3ab28ad2",
   "metadata": {},
   "outputs": [],
   "source": [
    "df = df.withColumn('Human Factors Associated with Ignition', regexp_replace('Human Factors Associated with Ignition', '[Â§]', ''))"
   ]
  },
  {
   "cell_type": "code",
   "execution_count": 52,
   "id": "a7cc4842-3af6-42c3-b784-698a948cb7a3",
   "metadata": {},
   "outputs": [],
   "source": [
    "structure_type_mapping = {'4 Air-supported structure': '4 Air supported structure',\n",
    "                          '7 Underground structure work area': '7 Underground structure work areas'}\n",
    "df = df.withColumn('Structure Type', regexp_replace('Structure Type', '-', ''))\n",
    "df = df.replace(structure_type_mapping, subset = ['Structure Type'])"
   ]
  },
  {
   "cell_type": "code",
   "execution_count": 53,
   "id": "33742458-faf4-4f9f-8bc7-3d93a148d611",
   "metadata": {},
   "outputs": [],
   "source": [
    "structure_status_mapping = {'0 Building status, other': '0 Other'}\n",
    "df = df.withColumn('Structure Status', regexp_replace('Structure Status', '-', ''))\n",
    "df = df.replace(structure_status_mapping, subset = ['Structure Status'])"
   ]
  },
  {
   "cell_type": "code",
   "execution_count": 54,
   "id": "d9c04bc4-018a-4761-86ee-9ea58f0a4341",
   "metadata": {},
   "outputs": [],
   "source": [
    "fire_spread_mapping = mapping = {\n",
    "    '00 Item first ignited, other': '00 Item First Ignited, Other',\n",
    "    '11 Exterior roof covering, surface, finish': '11 Exterior roof covering or finish',\n",
    "    '66 Pipe, duct, conduit, hose': '66 Pipe, duct, conduit or hose',\n",
    "    '15 Interior wall covering excluding drapes, etc.': '15 Int. Wall cover  exclude drapes, etc.',\n",
    "    '76 Cooking materials, including edible materials': '76 Cooking materials, inc. Edible materia',\n",
    "    '94 Dust/fiber/lint. inc. sawdust, excelsi': '94 Dust/fiber/lint. inc. sawdust, excelsi',\n",
    "    '96 Rubbish, trash, or waste': '96 Rubbish, trash, waste',\n",
    "    '61 Atomized liq., vaporized liq.,aersol': '61 Atomized liquid, vaporized liquid, aerosol.'\n",
    "}\n",
    "df = df.withColumn('Fire Spread', regexp_replace('Fire Spread', '-', ''))\n",
    "df = df.replace(fire_spread_mapping, subset = ['Fire Spread'])"
   ]
  },
  {
   "cell_type": "code",
   "execution_count": 55,
   "id": "4a399b7a-f82c-4d29-886a-a241981c9e66",
   "metadata": {},
   "outputs": [],
   "source": [
    "no_flame_spread_mapping = {\n",
    "    'NO': '0', \n",
    "    'N': '0', \n",
    "    'False': '0', \n",
    "    'YES': '1', \n",
    "    'Y': '1', \n",
    "    'True': '1'\n",
    "}\n",
    "df = df.replace(no_flame_spread_mapping, subset = ['No Flame Spread'])"
   ]
  },
  {
   "cell_type": "code",
   "execution_count": 56,
   "id": "c803b6e2-83ae-4dfb-af6a-42e4e16e9d0e",
   "metadata": {},
   "outputs": [],
   "source": [
    "detectors_present_mapping = {\n",
    "    'N None present': 'N Not present'\n",
    "}\n",
    "df = df.withColumn('Detectors Present', regexp_replace('Detectors Present', '-', ''))\n",
    "df = df.replace(detectors_present_mapping, subset = ['Detectors Present'])"
   ]
  },
  {
   "cell_type": "code",
   "execution_count": 57,
   "id": "f25949db-d282-4204-8c7a-4ceebf9cf1c8",
   "metadata": {},
   "outputs": [],
   "source": [
    "detector_type_mapping = {\n",
    "    '3 Combination smoke and heat in a single unit':'3 Combination smoke & heat in single unit'\n",
    "}\n",
    "df = df.withColumn('Detector Type', regexp_replace('Detector Type', '-', ''))\n",
    "df = df.replace(detector_type_mapping, subset = ['Detector Type'])"
   ]
  },
  {
   "cell_type": "code",
   "execution_count": 58,
   "id": "849ef9b7-4960-40a4-8abc-d435248f3253",
   "metadata": {},
   "outputs": [],
   "source": [
    "df = df.withColumn('Detector Operation', regexp_replace('Detector Operation', '-', ''))"
   ]
  },
  {
   "cell_type": "code",
   "execution_count": 59,
   "id": "91f611fa-4026-4490-9914-d5e6d1d1600b",
   "metadata": {},
   "outputs": [],
   "source": [
    "detectors_effectiveness_mapping = {'2 Alerted occupants-occ. failed to resond' : '2 Detector alerted occupants, occupants failed to respond',\n",
    "                                   '4 Failed to alert occupants' : '4 Detector failed to alert occupants'}\n",
    "df = df.withColumn('Detector Effectiveness', regexp_replace('Detector Effectiveness', '-', ''))\n",
    "df = df.replace(detectors_effectiveness_mapping, subset = ['Detector Effectiveness'])"
   ]
  },
  {
   "cell_type": "code",
   "execution_count": 60,
   "id": "7a42e445-c0f2-4139-80d8-f353baeebbdd",
   "metadata": {},
   "outputs": [],
   "source": [
    "detector_failure_reason_mapping = {\n",
    "    '0 -Detector failure reason, other': '0 Detector failure reason, other',\n",
    "    '6 -Battery discharged or dead': '6 Battery discharged or dead',\n",
    "    '5 -Battery missing or disconnected': '5 Battery missing or disconnected',\n",
    "    '1 -Power fail/shutoff or disconnected dete': '1 Power failure, hardwired det. shut off, disconnect',\n",
    "    '3 -Defective': '3 Defective',\n",
    "    '4 -Lack of maintenance, inc. not cleaning': '4 Lack of maintenance, includes not cleaning',\n",
    "    '2 -Improper installation or placement': '2 Improper installation or placement of detector'\n",
    "}\n",
    "df = df.replace(detector_failure_reason_mapping, subset = ['Detector Failure Reason'])"
   ]
  },
  {
   "cell_type": "code",
   "execution_count": 61,
   "id": "d62d2890-4da6-4ad5-ab0c-ebd009112061",
   "metadata": {},
   "outputs": [],
   "source": [
    "df = df.withColumn('Automatic Extinguishing System Present', regexp_replace('Automatic Extinguishing System Present', '-', ''))"
   ]
  },
  {
   "cell_type": "code",
   "execution_count": 62,
   "id": "ed960e55-a856-4cde-a898-712bd4de5cb9",
   "metadata": {},
   "outputs": [],
   "source": [
    "aes_type_mapping = {\n",
    "    '1 Wet-pipe sprinkler' : '1 Wet-pipe sprinkler system',\n",
    "    '6 Halogen-type system': 'Halogen type system'\n",
    "}\n",
    "df = df.withColumn('Automatic Extinguishing Sytem Type', regexp_replace('Automatic Extinguishing Sytem Type', '-', ''))\n",
    "df = df.replace(aes_type_mapping, subset = ['Automatic Extinguishing Sytem Type'])"
   ]
  },
  {
   "cell_type": "code",
   "execution_count": 63,
   "id": "1e1b8750-cb33-43e7-a874-117f427f7d1e",
   "metadata": {},
   "outputs": [],
   "source": [
    "df = df.withColumn('Automatic Extinguishing Sytem Perfomance', regexp_replace('Automatic Extinguishing Sytem Perfomance', '-', ''))"
   ]
  },
  {
   "cell_type": "code",
   "execution_count": 64,
   "id": "8b6b58aa-c5f0-4f83-978e-7398a67802eb",
   "metadata": {},
   "outputs": [],
   "source": [
    "aes_failure_reason_mapping = {\n",
    "    'Reason system not effective, other': '0 Reason system not effective, other',\n",
    "    'System shut off' : '1 System shut off',\n",
    "    'Not enough agent discharged to control the fire':'2 Not enough agent discharged to control the fire',\n",
    "    'Agent discharged, but did not reach the fire': '3 Agent discharged, did not reach the fire',\n",
    "    '3 Agent discharged, did not reach the fir': '3 Agent discharged, did not reach the fire',\n",
    "    'Inappropriate system for the type of fire': '4 Inappropriate system for the type of fire',\n",
    "    'Fire not in area protected by the system': '5 Fire not in area protected by the system',\n",
    "}\n",
    "df = df.withColumn('Automatic Extinguishing Sytem Failure Reason', regexp_replace('Automatic Extinguishing Sytem Failure Reason', '-', ''))\n",
    "df = df.replace(aes_failure_reason_mapping, subset = ['Automatic Extinguishing Sytem Failure Reason'])"
   ]
  },
  {
   "cell_type": "markdown",
   "id": "42c23ee4-b9fa-4772-aed6-8873bbb8cfbf",
   "metadata": {},
   "source": [
    "## Converting Data Types"
   ]
  },
  {
   "cell_type": "code",
   "execution_count": null,
   "id": "f2312b65-e25b-4cc6-9915-1b5fa97cf0ad",
   "metadata": {},
   "outputs": [],
   "source": [
    "df.dtypes"
   ]
  },
  {
   "cell_type": "code",
   "execution_count": 88,
   "id": "a587498d-7c76-40e9-b17e-813c6d572f78",
   "metadata": {},
   "outputs": [],
   "source": [
    "#Converting dates string into dates type\n",
    "\n",
    "df = df.withColumn(\"Incident Date\", from_unixtime(unix_timestamp(\"Incident Date\",'yyyy/MM/dd'),'yyyy-MM-dd'))\n",
    "df = df.withColumn(\"Incident Date\", col('Incident Date').cast(DateType()))\n",
    "\n",
    "df = df.withColumn(\"Alarm DtTm\", from_unixtime(unix_timestamp(\"Alarm DtTm\", 'yyyy/MM/dd hh:mm:ss a'), 'yyyy-MM-dd HH:mm:ss'))\n",
    "df = df.withColumn(\"Alarm DtTm\", col('Alarm DtTm').cast(TimestampType()))\n",
    "\n",
    "df = df.withColumn(\"Arrival DtTm\", from_unixtime(unix_timestamp(\"Arrival DtTm\", 'yyyy/MM/dd hh:mm:ss a'), 'yyyy-MM-dd HH:mm:ss'))\n",
    "df = df.withColumn(\"Arrival DtTm\", col('Arrival DtTm').cast(TimestampType()))\n",
    "\n",
    "df = df.withColumn(\"Close DtTm\", from_unixtime(unix_timestamp(\"Close DtTm\", 'yyyy/MM/dd hh:mm:ss a'), 'yyyy-MM-dd HH:mm:ss'))\n",
    "df = df.withColumn(\"Close DtTm\", col('Close DtTm').cast(TimestampType()))\n",
    "\n",
    "df = df.withColumn(\"data_as_of\", from_unixtime(unix_timestamp(\"data_as_of\", 'yyyy/MM/dd hh:mm:ss a'), 'yyyy-MM-dd HH:mm:ss'))\n",
    "df = df.withColumn(\"data_as_of\", col('data_as_of').cast(TimestampType()))\n",
    "\n",
    "df = df.withColumn(\"data_loaded_at\", from_unixtime(unix_timestamp(\"data_loaded_at\", 'yyyy/MM/dd hh:mm:ss a'), 'yyyy-MM-dd HH:mm:ss'))\n",
    "df = df.withColumn(\"data_loaded_at\", col('data_loaded_at').cast(TimestampType()))"
   ]
  },
  {
   "cell_type": "code",
   "execution_count": null,
   "id": "e1a876c8-3231-410a-bace-08e5279c1644",
   "metadata": {},
   "outputs": [],
   "source": [
    "numerical_columns = [\n",
    "    'Exposure Number', 'Estimated Property Loss', 'Estimated Contents Loss', 'Fire Fatalities',\n",
    "    'Fire Injuries', 'Civilian Fatalities', 'Civilian Injuries', 'Number of Alarms','Floor of Fire Origin',\n",
    "    'Number of floors with minimum damage','Number of floors with significant damage',\n",
    "    'Number of floors with heavy damage', 'Number of floors with extreme damage',\n",
    "    'Number of Sprinkler Heads Operating', 'Suppression Units', 'Suppression Personnel', 'EMS Units',\n",
    "    'EMS Personnel', 'Other Units', 'Other Personnel',\n",
    "]\n",
    "categorical_columns = [col for col in df.columns if col not in numerical_columns]\n",
    "df = df.select(categorical_columns + [col(c).cast(IntegerType()) for c in numerical_columns])"
   ]
  },
  {
   "cell_type": "code",
   "execution_count": null,
   "id": "f4e056a2-34d1-42c7-a4c0-8eb5f0c97e1c",
   "metadata": {},
   "outputs": [],
   "source": [
    "df.dtypes"
   ]
  },
  {
   "cell_type": "markdown",
   "id": "1c24f004-6b95-46b8-9313-fba2ef837eed",
   "metadata": {},
   "source": [
    "## Missing Data"
   ]
  },
  {
   "cell_type": "code",
   "execution_count": 68,
   "id": "c0b5020a-0495-4e83-9abc-9ec6555899af",
   "metadata": {},
   "outputs": [
    {
     "name": "stderr",
     "output_type": "stream",
     "text": [
      "[Stage 17:======================================>                   (2 + 1) / 3]\r"
     ]
    },
    {
     "name": "stdout",
     "output_type": "stream",
     "text": [
      "+---------------+---------------+---+--------------------+-------------+-----------+----------+------------+-------------------+--------------------+--------------------+---------+--------------------+-------------------+-----------------+---------------------+---------+-------------+-----------+---------------+-------------------+-----------------------+-----------------------+---------------+-------------+-------------------+-----------------+----------------+-----------------+----------+--------------------+----------------------+------------------+--------------------------+---------------------+-------------------+------------------+-----------------------+-------------------------+------------------+------------------+--------------------------------------+------------------+------------------+--------------------+------------------+------------------+------------------------------------+----------------------------------------+----------------------------------+------------------------------------+------------------+-----------------+------------------+----------------------+-----------------------+--------------------------------------+----------------------------------+----------------------------------------+--------------------------------------------+-----------------------------------+--------------------+---------------------+---------------------+----------+--------------+\n",
      "|Incident Number|Exposure Number|ID |Address             |Incident Date|Call Number|Alarm DtTm|Arrival DtTm|Close DtTm         |City                |zipcode             |Battalion|Station Area        |Box                |Suppression Units|Suppression Personnel|EMS Units|EMS Personnel|Other Units|Other Personnel|First Unit On Scene|Estimated Property Loss|Estimated Contents Loss|Fire Fatalities|Fire Injuries|Civilian Fatalities|Civilian Injuries|Number of Alarms|Primary Situation|Mutual Aid|Action Taken Primary|Action Taken Secondary|Action Taken Other|Detector Alerted Occupants|Property Use         |Area of Fire Origin|Ignition Cause    |Ignition Factor Primary|Ignition Factor Secondary|Heat Source       |Item First Ignited|Human Factors Associated with Ignition|Structure Type    |Structure Status  |Floor of Fire Origin|Fire Spread       |No Flame Spread   |Number of floors with minimum damage|Number of floors with significant damage|Number of floors with heavy damage|Number of floors with extreme damage|Detectors Present |Detector Type    |Detector Operation|Detector Effectiveness|Detector Failure Reason|Automatic Extinguishing System Present|Automatic Extinguishing Sytem Type|Automatic Extinguishing Sytem Perfomance|Automatic Extinguishing Sytem Failure Reason|Number of Sprinkler Heads Operating|Supervisor District |neighborhood_district|point                |data_as_of|data_loaded_at|\n",
      "+---------------+---------------+---+--------------------+-------------+-----------+----------+------------+-------------------+--------------------+--------------------+---------+--------------------+-------------------+-----------------+---------------------+---------+-------------+-----------+---------------+-------------------+-----------------------+-----------------------+---------------+-------------+-------------------+-----------------+----------------+-----------------+----------+--------------------+----------------------+------------------+--------------------------+---------------------+-------------------+------------------+-----------------------+-------------------------+------------------+------------------+--------------------------------------+------------------+------------------+--------------------+------------------+------------------+------------------------------------+----------------------------------------+----------------------------------+------------------------------------+------------------+-----------------+------------------+----------------------+-----------------------+--------------------------------------+----------------------------------+----------------------------------------+--------------------------------------------+-----------------------------------+--------------------+---------------------+---------------------+----------+--------------+\n",
      "|0.0            |0.0            |0.0|0.001346667291208019|0.0          |0.0        |0.0       |0.0         |1.17101503583306E-5|0.002353740222024451|9.368120286664481E-4|0.0      |0.001030493231533093|0.43321701250644057|0.0              |0.0                  |0.0      |0.0          |0.0        |0.0            |0.5142629631364467 |0.6177689821537309     |0.5310904492013677     |0.0            |0.0          |0.0                |0.0              |0.0             |0.0              |0.0       |0.0                 |0.8609888050962574    |0.9675511733570659|0.6017026558621013        |1.7565225537495902E-4|0.5934235795587616 |0.5934704201601949|0.6204271862850719     |0.997025621808984        |0.5934469998594782|0.5934704201601949|0.6273947257482786                    |0.8847487001733102|0.8969155463956158|0.8881095133261511  |0.9632184177244836|0.4363319125017565|0.9222680219214014                  |0.9223617031242681                      |0.9225607756803598                |0.9225373553796431                  |0.8969155463956158|0.943966930535388|0.9444119162490047|0.9612745327650007    |0.9969436507564757     |0.8964588505316409                    |0.9875872406201696                |0.9875521101690946                      |0.9990748981216919                          |0.9186378753103189                 |0.007728699236498196|0.0076115977329148906|1.2881165394163662E-4|0.0       |0.0           |\n",
      "+---------------+---------------+---+--------------------+-------------+-----------+----------+------------+-------------------+--------------------+--------------------+---------+--------------------+-------------------+-----------------+---------------------+---------+-------------+-----------+---------------+-------------------+-----------------------+-----------------------+---------------+-------------+-------------------+-----------------+----------------+-----------------+----------+--------------------+----------------------+------------------+--------------------------+---------------------+-------------------+------------------+-----------------------+-------------------------+------------------+------------------+--------------------------------------+------------------+------------------+--------------------+------------------+------------------+------------------------------------+----------------------------------------+----------------------------------+------------------------------------+------------------+-----------------+------------------+----------------------+-----------------------+--------------------------------------+----------------------------------+----------------------------------------+--------------------------------------------+-----------------------------------+--------------------+---------------------+---------------------+----------+--------------+\n",
      "\n"
     ]
    },
    {
     "name": "stderr",
     "output_type": "stream",
     "text": [
      "                                                                                \r"
     ]
    }
   ],
   "source": [
    "missing_df = df.select([(count(when(isnan(c) | col(c).isNull(), c))/count(lit(1))).alias(c) for c in df.columns])\n",
    "missing_df.show(truncate=False)"
   ]
  },
  {
   "cell_type": "markdown",
   "id": "63162268-0a3f-4b2a-8f99-037206254552",
   "metadata": {},
   "source": [
    "## Duplicate Data"
   ]
  },
  {
   "cell_type": "code",
   "execution_count": 69,
   "id": "771a0c34-cbcf-4b57-87eb-a0519f598aa5",
   "metadata": {},
   "outputs": [],
   "source": [
    "df = df.drop_duplicates()"
   ]
  },
  {
   "cell_type": "markdown",
   "id": "aaee45bd-5885-48c6-a4e9-56f7752f96b4",
   "metadata": {},
   "source": [
    "## Feature Engineering"
   ]
  },
  {
   "cell_type": "code",
   "execution_count": 74,
   "id": "09788172-3abc-4ec0-9049-7158fd942712",
   "metadata": {},
   "outputs": [
    {
     "data": {
      "text/plain": [
       "[('Incident Number', 'string'),\n",
       " ('Exposure Number', 'string'),\n",
       " ('ID', 'string'),\n",
       " ('Address', 'string'),\n",
       " ('Incident Date', 'string'),\n",
       " ('Call Number', 'string'),\n",
       " ('Alarm DtTm', 'string'),\n",
       " ('Arrival DtTm', 'string'),\n",
       " ('Close DtTm', 'string'),\n",
       " ('City', 'string'),\n",
       " ('zipcode', 'string'),\n",
       " ('Battalion', 'string'),\n",
       " ('Station Area', 'string'),\n",
       " ('Box', 'string'),\n",
       " ('Suppression Units', 'string'),\n",
       " ('Suppression Personnel', 'string'),\n",
       " ('EMS Units', 'string'),\n",
       " ('EMS Personnel', 'string'),\n",
       " ('Other Units', 'string'),\n",
       " ('Other Personnel', 'string'),\n",
       " ('First Unit On Scene', 'string'),\n",
       " ('Estimated Property Loss', 'string'),\n",
       " ('Estimated Contents Loss', 'string'),\n",
       " ('Fire Fatalities', 'string'),\n",
       " ('Fire Injuries', 'string'),\n",
       " ('Civilian Fatalities', 'string'),\n",
       " ('Civilian Injuries', 'string'),\n",
       " ('Number of Alarms', 'string'),\n",
       " ('Primary Situation', 'string'),\n",
       " ('Mutual Aid', 'string'),\n",
       " ('Action Taken Primary', 'string'),\n",
       " ('Action Taken Secondary', 'string'),\n",
       " ('Action Taken Other', 'string'),\n",
       " ('Detector Alerted Occupants', 'string'),\n",
       " ('Property Use', 'string'),\n",
       " ('Area of Fire Origin', 'string'),\n",
       " ('Ignition Cause', 'string'),\n",
       " ('Ignition Factor Primary', 'string'),\n",
       " ('Ignition Factor Secondary', 'string'),\n",
       " ('Heat Source', 'string'),\n",
       " ('Item First Ignited', 'string'),\n",
       " ('Human Factors Associated with Ignition', 'string'),\n",
       " ('Structure Type', 'string'),\n",
       " ('Structure Status', 'string'),\n",
       " ('Floor of Fire Origin', 'string'),\n",
       " ('Fire Spread', 'string'),\n",
       " ('No Flame Spread', 'string'),\n",
       " ('Number of floors with minimum damage', 'string'),\n",
       " ('Number of floors with significant damage', 'string'),\n",
       " ('Number of floors with heavy damage', 'string'),\n",
       " ('Number of floors with extreme damage', 'string'),\n",
       " ('Detectors Present', 'string'),\n",
       " ('Detector Type', 'string'),\n",
       " ('Detector Operation', 'string'),\n",
       " ('Detector Effectiveness', 'string'),\n",
       " ('Detector Failure Reason', 'string'),\n",
       " ('Automatic Extinguishing System Present', 'string'),\n",
       " ('Automatic Extinguishing Sytem Type', 'string'),\n",
       " ('Automatic Extinguishing Sytem Perfomance', 'string'),\n",
       " ('Automatic Extinguishing Sytem Failure Reason', 'string'),\n",
       " ('Number of Sprinkler Heads Operating', 'string'),\n",
       " ('Supervisor District', 'string'),\n",
       " ('neighborhood_district', 'string'),\n",
       " ('data_as_of', 'string'),\n",
       " ('data_loaded_at', 'string'),\n",
       " ('Latitude', 'float'),\n",
       " ('Longitude', 'float'),\n",
       " ('Response Time', 'double'),\n",
       " ('Supression Time', 'double')]"
      ]
     },
     "execution_count": 74,
     "metadata": {},
     "output_type": "execute_result"
    }
   ],
   "source": [
    "df.dtypes"
   ]
  },
  {
   "cell_type": "code",
   "execution_count": 71,
   "id": "ed3a442a-e06b-4b38-9128-0cb4c400a1d2",
   "metadata": {},
   "outputs": [],
   "source": [
    "# Extract latitude and longitude using regex\n",
    "df = df.withColumn('Latitude', regexp_extract('point', '\\(-?\\d+\\.\\d+', 0))\n",
    "df = df.withColumn('Longitude', regexp_extract('point', '-?\\d+\\.\\d+\\)', 0))#\n",
    "\n",
    "# Removing open and closing brackets\n",
    "df = df.withColumn('Latitude', regexp_replace('Latitude', '\\(', ''))\n",
    "df = df.withColumn('Longitude', regexp_replace('Longitude', '\\)', ''))\n",
    "\n",
    "# Casting latitude and longitude into float type\n",
    "df = df.withColumn('Latitude', col(\"Latitude\").cast(\"float\"))\n",
    "df = df.withColumn('Longitude', col(\"Longitude\").cast(\"float\"))\n",
    "\n",
    "#Drop point column\n",
    "df = df.drop('point')"
   ]
  },
  {
   "cell_type": "code",
   "execution_count": 72,
   "id": "dd03add2-96fa-4f2c-8551-542760bbe3c2",
   "metadata": {},
   "outputs": [],
   "source": [
    "df = df.withColumn('Response Time', (unix_timestamp(col(\"Arrival DtTm\")) - unix_timestamp(col(\"Alarm DtTm\")))/60)\n",
    "df = df.withColumn('Supression Time',(unix_timestamp(col(\"Close DtTm\")) - unix_timestamp(col(\"Arrival DtTm\")))/60)"
   ]
  },
  {
   "cell_type": "code",
   "execution_count": 73,
   "id": "03edaa3f-0a7e-4ced-8a2d-4bf2778d825a",
   "metadata": {},
   "outputs": [
    {
     "name": "stderr",
     "output_type": "stream",
     "text": [
      "[Stage 20:======================================>                   (2 + 1) / 3]\r"
     ]
    },
    {
     "name": "stdout",
     "output_type": "stream",
     "text": [
      "+---------------+---------------+---------+--------------------+-------------+-----------+-------------------+-------------------+-------------------+-------------+-------+---------+------------+----+-----------------+---------------------+---------+-------------+-----------+---------------+-------------------+-----------------------+-----------------------+---------------+-------------+-------------------+-----------------+----------------+--------------------+----------+--------------------+----------------------+------------------+--------------------------+--------------------+--------------------+--------------------+-----------------------+-------------------------+--------------------+--------------------+--------------------------------------+-------------------+----------------+--------------------+-----------+---------------+------------------------------------+----------------------------------------+----------------------------------+------------------------------------+-----------------+-------------+------------------+----------------------+-----------------------+--------------------------------------+----------------------------------+----------------------------------------+--------------------------------------------+-----------------------------------+-------------------+---------------------+-------------------+-------------------+-----------+---------+------------------+------------------+\n",
      "|Incident Number|Exposure Number|       ID|             Address|Incident Date|Call Number|         Alarm DtTm|       Arrival DtTm|         Close DtTm|         City|zipcode|Battalion|Station Area| Box|Suppression Units|Suppression Personnel|EMS Units|EMS Personnel|Other Units|Other Personnel|First Unit On Scene|Estimated Property Loss|Estimated Contents Loss|Fire Fatalities|Fire Injuries|Civilian Fatalities|Civilian Injuries|Number of Alarms|   Primary Situation|Mutual Aid|Action Taken Primary|Action Taken Secondary|Action Taken Other|Detector Alerted Occupants|        Property Use| Area of Fire Origin|      Ignition Cause|Ignition Factor Primary|Ignition Factor Secondary|         Heat Source|  Item First Ignited|Human Factors Associated with Ignition|     Structure Type|Structure Status|Floor of Fire Origin|Fire Spread|No Flame Spread|Number of floors with minimum damage|Number of floors with significant damage|Number of floors with heavy damage|Number of floors with extreme damage|Detectors Present|Detector Type|Detector Operation|Detector Effectiveness|Detector Failure Reason|Automatic Extinguishing System Present|Automatic Extinguishing Sytem Type|Automatic Extinguishing Sytem Perfomance|Automatic Extinguishing Sytem Failure Reason|Number of Sprinkler Heads Operating|Supervisor District|neighborhood_district|         data_as_of|     data_loaded_at|   Latitude|Longitude|     Response Time|   Supression Time|\n",
      "+---------------+---------------+---------+--------------------+-------------+-----------+-------------------+-------------------+-------------------+-------------+-------+---------+------------+----+-----------------+---------------------+---------+-------------+-----------+---------------+-------------------+-----------------------+-----------------------+---------------+-------------+-------------------+-----------------+----------------+--------------------+----------+--------------------+----------------------+------------------+--------------------------+--------------------+--------------------+--------------------+-----------------------+-------------------------+--------------------+--------------------+--------------------------------------+-------------------+----------------+--------------------+-----------+---------------+------------------------------------+----------------------------------------+----------------------------------+------------------------------------+-----------------+-------------+------------------+----------------------+-----------------------+--------------------------------------+----------------------------------+----------------------------------------+--------------------------------------------+-----------------------------------+-------------------+---------------------+-------------------+-------------------+-----------+---------+------------------+------------------+\n",
      "|       17058520|              0|170585200|   0 SAN JOSE AVENUE|   2017-05-18|  171380470|2017-05-18 06:36:15|2017-05-18 06:38:43|2017-05-18 06:51:38|San Francisco|  94112|      B09|          33|8371|                3|                   11|        0|            0|          0|              0|               null|                   null|                   null|              0|            0|                  0|                0|               1|     100 Fire, other|    N None|10 Fire control o...|                  null|              null|                      null|            NNN None|92 Highway, parki...|     2 Unintentional|                NN None|                     null|00 Heat source: o...|     UU Undetermined|                                N None|               null|            null|                null|       null|              0|                                null|                                    null|                              null|                                null|             null|         null|              null|                  null|                   null|                                  null|                              null|                                    null|                                        null|                               null|                 11| Oceanview/Merced/...|2017-05-18 06:51:38|2024-05-15 02:26:57| -122.45582|37.711224| 2.466666666666667|12.916666666666666|\n",
      "|       17068942|              0|170689420|      POST ST STREET|   2017-06-12|  171633877|2017-06-12 21:59:50|2017-06-12 22:02:33|2017-06-12 22:06:10|San Francisco|  94109|      B04|          03|1641|                2|                    9|        0|            0|          0|              0|               null|                   null|                   null|              0|            0|                  0|                0|               1|151 Outside rubbi...|    N None|11 Extinguishment...|                  null|              null|                      null|   960 Street, other|                null|                null|                   null|                     null|                null|                null|                                  null|               null|            null|                null|       null|             NA|                                null|                                    null|                              null|                                null|             null|         null|              null|                  null|                   null|                                  null|                              null|                                    null|                                        null|                               null|                  3|             Nob Hill|2017-06-12 22:06:10|2024-05-15 02:26:57|-122.418274|37.787037| 2.716666666666667|3.6166666666666667|\n",
      "|       17090592|              0|170905920| 2155 MISSION STREET|   2017-08-04|  172163189|2017-08-04 17:55:46|2017-08-04 17:59:11|2017-08-04 18:14:37|San Francisco|  94110|      B02|          07|5423|                3|                   11|        0|            0|          0|              0|               null|                   null|                     50|              0|            0|                  0|                0|               1|113 Cooking fire,...|    N None|63 Restore fire a...|                  null|              null|      1 Detector alerte...|429 Multifamily d...|                null|                null|                   null|                     null|                null|                null|                                  null|               null|            null|                null|       null|             NA|                                null|                                    null|                              null|                                null|             null|         null|              null|                  null|                   null|                                  null|                              null|                                    null|                                        null|                               null|                  9|              Mission|2017-08-04 18:14:37|2024-05-15 02:26:57| -122.41937| 37.76284|3.4166666666666665|15.433333333333334|\n",
      "|       17110313|              0|171103130|   845 WALLER STREET|   2017-09-19|  172622327|2017-09-19 14:54:26|2017-09-19 14:57:21|2017-09-19 15:19:29|San Francisco|  94117|      B05|          21|4143|                5|                   18|        1|            2|          1|              2|               null|                   1500|                   null|              0|            0|                  0|                0|               1|114 Chimney or fl...|    N None|      86 Investigate|                  null|              null|      2 Detector did no...|429 Multifamily d...|                null|                null|                   null|                     null|                null|                null|                                  null|               null|            null|                null|       null|             NA|                                null|                                    null|                              null|                                null|             null|         null|              null|                  null|                   null|                                  null|                              null|                                    null|                                        null|                               null|                  8|       Haight Ashbury|2017-09-19 15:19:29|2024-05-15 02:26:57| -122.43764| 37.77017|2.9166666666666665|22.133333333333333|\n",
      "|       17111717|              0|171117170|    3866 19TH STREET|   2017-09-22|  172654129|2017-09-22 22:07:13|2017-09-22 22:11:03|2017-09-22 22:17:06|San Francisco|  94114|      B06|          06|5436|                3|                   10|        0|            0|          0|              0|               null|                      5|                      5|              0|            0|                  0|                0|               1|113 Cooking fire,...|    N None|      86 Investigate|                  null|              null|      1 Detector alerte...|429 Multifamily d...|                null|                null|                   null|                     null|                null|                null|                                  null|               null|            null|                null|       null|             NA|                                null|                                    null|                              null|                                null|             null|         null|              null|                  null|                   null|                                  null|                              null|                                    null|                                        null|                               null|                  8|  Castro/Upper Market|2017-09-22 22:17:06|2024-05-15 02:26:57| -122.42967| 37.75967|3.8333333333333335|              6.05|\n",
      "|       17125328|              0|171253280|   405 SERRANO DRIVE|   2017-10-25|  172981030|2017-10-25 08:59:51|2017-10-25 09:04:51|2017-10-25 09:12:54|San Francisco|  94132|      B08|          19|8581|                3|                   11|        0|            0|          0|              0|               null|                    100|                     50|              0|            0|                  0|                0|               1|113 Cooking fire,...|    N None|11 Extinguishment...|                  null|              null|                 U Unknown|429 Multifamily d...|                null|                null|                   null|                     null|                null|                null|                                  null|               null|            null|                null|       null|             NA|                                null|                                    null|                              null|                                null|             null|         null|              null|                  null|                   null|                                  null|                              null|                                    null|                                        null|                               null|                  7|            Lakeshore|2017-10-25 09:12:54|2024-05-15 02:26:57|-122.481575| 37.71899|               5.0|              8.05|\n",
      "|       17127356|              0|171273560|       0 31ST AVENUE|   2017-10-29|  173023012|2017-10-29 17:51:58|2017-10-29 17:55:08|2017-10-29 18:42:16|San Francisco|  94116|      B08|          18|7533|                2|                    9|        0|            0|          0|              0|               null|                  10000|                   null|              0|            0|                  0|                0|               1|131 Passenger veh...|    N None|11 Extinguishment...|                  null|              null|                      null|   960 Street, other|83 Engine area, r...|     2 Unintentional|                NN None|                     null|     UU Undetermined|     UU Undetermined|                                N None|               null|            null|                null|       null|              0|                                null|                                    null|                              null|                                null|             null|         null|              null|                  null|                   null|                                  null|                              null|                                    null|                                        null|                               null|                  4|      Sunset/Parkside|2017-10-29 18:42:16|2024-05-15 02:26:57|  -122.4892|37.751804|3.1666666666666665| 47.13333333333333|\n",
      "|       17129688|              0|171296880|1298 EL CAMINO DE...|   2017-11-04|  173082635|2017-11-04 16:22:46|2017-11-04 16:46:49|2017-11-04 17:08:07|San Francisco|  94121|      B07|          34|7235|                2|                    5|        0|            0|          0|              0|               null|                      1|                      1|              0|            0|                  0|                0|               1|151 Outside rubbi...|    N None|11 Extinguishment...|                  null|              null|                      null|931 Open land or ...|                null|                null|                   null|                     null|                null|                null|                                  null|               null|            null|                null|       null|             NA|                                null|                                    null|                              null|                                null|             null|         null|              null|                  null|                   null|                                  null|                              null|                                    null|                                        null|                               null|                  1|         Lincoln Park|2017-11-04 17:08:07|2024-05-15 02:26:57|-122.506355|37.787434|             24.05|              21.3|\n",
      "|       17144304|              0|171443040|      241 6TH STREET|   2017-12-10|  173443211|2017-12-10 19:01:24|2017-12-10 19:05:26|2017-12-10 19:16:45|San Francisco|  94103|      B03|          01|2252|                3|                   10|        0|            0|          0|              0|               null|                   null|                     25|              0|            0|                  0|                0|               1|113 Cooking fire,...|    N None|      86 Investigate|                  null|              null|      1 Detector alerte...|429 Multifamily d...|                null|                null|                   null|                     null|                null|                null|                                  null|               null|            null|                null|       null|             NA|                                null|                                    null|                              null|                                null|             null|         null|              null|                  null|                   null|                                  null|                              null|                                    null|                                        null|                               null|                  6|      South of Market|2017-12-10 19:16:45|2024-05-15 02:26:57| -122.40626|37.779373| 4.033333333333333|11.316666666666666|\n",
      "|       18005883|              0|180058830|   4211 JUDAH STREET|   2018-01-14|  180140309|2018-01-14 02:16:29|2018-01-14 02:21:23|2018-01-14 03:26:43|San Francisco|  94122|      B08|          23|7723|                3|                   13|        0|            0|          0|              0|               null|                   5000|                    500|              0|            0|                  0|                0|               1|131 Passenger veh...|    N None|11 Extinguishment...|                  null|              null|                      null|449 Hotel/motel, ...|83 Engine area, r...|     2 Unintentional|        UU Undetermined|                     null|     UU Undetermined|     UU Undetermined|                                N None|               null|            null|                null|       null|              0|                                null|                                    null|                              null|                                null|             null|         null|              null|                  null|                   null|                                  null|                              null|                                    null|                                        null|                               null|                  4|      Sunset/Parkside|2018-01-14 03:26:43|2024-05-15 02:26:57| -122.50717|  37.7603|               4.9| 65.33333333333333|\n",
      "|       18010342|              0|180103420|1727 GREENWICH ST...|   2018-01-24|  180244124|2018-01-24 23:43:32|2018-01-24 23:48:17|2018-01-25 00:10:47|San Francisco|  94123|      B04|          16|3336|                2|                    6|        0|            0|          0|              0|               null|                   null|                   null|              0|            0|                  0|                0|               1|     100 Fire, other|    N None|12 Salvage & over...|                  null|              null|                      null|429 Multifamily d...|     UU Undetermined|     2 Unintentional|        UU Undetermined|                     null|     UU Undetermined|     UU Undetermined|                                N None|               null|            null|                null|       null|              0|                                null|                                    null|                              null|                                null|             null|         null|              null|                  null|                   null|                                  null|                              null|                                    null|                                        null|                               null|                  2|               Marina|2018-01-25 00:10:47|2024-05-15 02:26:57| -122.42811|37.799866|              4.75|              22.5|\n",
      "|       18020946|              0|180209460|     440 EDDY STREET|   2018-02-18|  180491623|2018-02-18 12:44:33|2018-02-18 12:48:02|2018-02-18 13:25:39|San Francisco|  94109|      B02|          03|1545|               10|                   38|        2|            3|          1|              2|               null|                   1000|                   1000|              0|            0|                  0|                0|               1|     100 Fire, other|    N None|11 Extinguishment...|                  null|              null|                      null|449 Hotel/motel, ...|21 Bedroom - < 5 ...|U Cause undetermi...|        UU Undetermined|                     null|10 Heat from powe...|81 Electrical wir...|                                N None|               null|            null|                null|       null|              0|                                null|                                    null|                              null|                                null|             null|         null|              null|                  null|                   null|                                  null|                              null|                                    null|                                        null|                               null|                  5|           Tenderloin|2018-02-18 13:25:39|2024-05-15 02:26:57| -122.41497| 37.78392|3.4833333333333334| 37.61666666666667|\n",
      "|       18026433|              0|180264330|           739 GREAT|   2018-03-03|  180621435|2018-03-03 11:50:16|2018-03-03 11:55:20|2018-03-03 12:00:10|San Francisco|  94121|      B07|          34|7316|                1|                    4|        0|            0|          0|              0|               null|                   null|                   null|              0|            0|                  0|                0|               1|150 Outside rubbi...|    N None|10 Fire control o...|                  null|              null|                      null|           937 Beach|00 Other area of ...|       1 Intentional|   00 Factors contri...|                     null|00 Heat source: o...|00 Item First Ign...|                  2 Possibly impair...|               null|            null|                null|       null|              0|                                null|                                    null|                              null|                                null|             null|         null|              null|                  null|                   null|                                  null|                              null|                                    null|                                        null|                               null|                  1|       Outer Richmond|2018-03-03 12:00:10|2024-05-15 02:26:57| -122.51168|37.774223| 5.066666666666666| 4.833333333333333|\n",
      "|       18026993|              0|180269930|     30 GROVE STREET|   2018-03-04|  180632796|2018-03-04 18:04:41|2018-03-04 18:10:59|2018-03-04 18:36:39|San Francisco|  94102|      B02|          36|1647|                1|                    4|        1|            2|          1|              1|               null|                     50|                    300|              0|            0|                  0|                0|               1|154 Dumpster or o...|    N None|11 Extinguishment...|                  null|              null|                      null|807 Outside mater...|     UU Undetermined|       1 Intentional|                NN None|                     null|97 Multiple heat ...|             91 Book|                                N None|               null|            null|                null|       null|              0|                                null|                                    null|                              null|                                null|             null|         null|              null|                  null|                   null|                                  null|                              null|                                    null|                                        null|                               null|                  6|           Tenderloin|2018-03-10 13:57:07|2024-05-15 02:26:57|-122.415855|37.778736|               6.3|25.666666666666668|\n",
      "|       18047021|              0|180470210|       34 6TH STREET|   2018-04-20|  181104645|2018-04-20 23:48:31|2018-04-20 23:52:56|2018-04-20 23:59:05|San Francisco|  94103|      B02|          01|2248|                3|                   11|        0|            0|          0|              0|               null|                    100|                    100|              0|            0|                  0|                0|               1|113 Cooking fire,...|    N None|      86 Investigate|                  null|              null|      1 Detector alerte...|429 Multifamily d...|                null|                null|                   null|                     null|                null|                null|                                  null|               null|            null|                null|       null|             NA|                                null|                                    null|                              null|                                null|             null|         null|              null|                  null|                   null|                                  null|                              null|                                    null|                                        null|                               null|                  6|      South of Market|2018-04-20 23:59:05|2024-05-15 02:26:57| -122.40986| 37.78146| 4.416666666666667|              6.15|\n",
      "|       18056458|              0|180564580|                POLK|   2018-05-13|  181331412|2018-05-13 11:58:19|2018-05-13 12:00:44|2018-05-13 12:02:38|San Francisco|  94109|      B04|          41|1635|                1|                    4|        0|            0|          0|              0|               null|                   null|                   null|              0|            0|                  0|                0|               1|151 Outside rubbi...|    N None|10 Fire control o...|                  null|              null|                      null|000 Property Use,...|                null|                null|                   null|                     null|                null|                null|                                  null|               null|            null|                null|       null|             NA|                                null|                                    null|                              null|                                null|             null|         null|              null|                  null|                   null|                                  null|                              null|                                    null|                                        null|                               null|                  3|             Nob Hill|2018-05-13 12:02:38|2024-05-15 02:26:57| -122.42069|37.790577|2.4166666666666665|               1.9|\n",
      "|       18073830|              0|180738300| 1580 LOMBARD STREET|   2018-06-23|  181742458|2018-06-23 15:39:56|2018-06-23 15:41:33|2018-06-23 16:17:06|San Francisco|  94123|      B04|          16|3244|                9|                   33|        2|            3|          1|              2|               null|                  10000|                    500|              0|            0|                  0|                0|               1|   111 Building fire|    N None|11 Extinguishment...|                  null|              null|                      null|429 Multifamily d...|02 Exterior stair...|     2 Unintentional|                NN None|                     null| 43 Hot ember or ash|72 Light vegetati...|                                N None|1 Enclosed building| 2 In normal use|                   2|       null|              0|                                null|                                    null|                              null|                                null|    N Not present|         null|              null|                  null|                   null|                        N None Present|                              null|                                    null|                                        null|                               null|                  2|               Marina|2018-06-23 16:17:06|2024-05-15 02:26:57| -122.42748|   37.801|1.6166666666666667|             35.55|\n",
      "|       18074282|              0|180742820|1872 SUNNYDALE AV...|   2018-06-24|  181751682|2018-06-24 13:01:13|2018-06-24 13:01:13|2018-06-24 13:59:15|San Francisco|  94134|      B09|          44|6241|                2|                    8|        0|            0|          1|              1|               null|                   2000|                   null|              0|            0|                  0|                0|               1|131 Passenger veh...|    N None|11 Extinguishment...|                  null|              null|                      null|429 Multifamily d...|82 Cargo/trunk ar...|       1 Intentional|   10 Misuse of mate...|                     null|65 Lighter: cigar...|     UU Undetermined|                                N None|               null|            null|                null|       null|              0|                                null|                                    null|                              null|                                null|             null|         null|              null|                  null|                   null|                                  null|                              null|                                    null|                                        null|                               null|                 10|    Visitacion Valley|2018-06-24 22:13:52|2024-05-15 02:26:57| -122.42042|37.713135|               0.0| 58.03333333333333|\n",
      "|       18075407|              0|180754070|         MISSION ST.|   2018-06-26|  181773724|2018-06-26 22:23:42|2018-06-26 22:27:54|2018-06-26 22:32:26|San Francisco|  94112|      B09|          43|6121|                1|                    4|        0|            0|          0|              0|               null|                   null|                   null|              0|            0|                  0|                0|               1|151 Outside rubbi...|    N None|11 Extinguishment...|                  null|              null|                      null|962 Residential s...|                null|                null|                   null|                     null|                null|                null|                                  null|               null|            null|                null|       null|             NA|                                null|                                    null|                              null|                                null|             null|         null|              null|                  null|                   null|                                  null|                              null|                                    null|                                        null|                               null|                 11|        Outer Mission|2018-06-26 22:32:26|2024-05-15 02:26:57| -122.43539| 37.72391|               4.2| 4.533333333333333|\n",
      "|       18078811|              0|180788110|  450 STANYAN STREET|   2018-07-05|  181860285|2018-07-05 01:40:35|2018-07-05 01:42:46|2018-07-05 02:12:10|San Francisco|  94118|      B07|          21|4556|                8|                   28|        1|            2|          1|              2|               null|                    500|                    500|              0|            0|                  0|                0|               1|113 Cooking fire,...|    N None|87 Investigate fi...|  63 Restore fire a...|              null|      1 Detector alerte...|331 Hospital - me...|                null|                null|                   null|                     null|                null|                null|                                  null|               null|            null|                null|       null|             NA|                                null|                                    null|                              null|                                null|             null|         null|              null|                  null|                   null|                                  null|                              null|                                    null|                                        null|                               null|                  1|    Lone Mountain/USF|2018-07-05 02:12:10|2024-05-15 02:26:57|-122.454185| 37.77406| 2.183333333333333|              29.4|\n",
      "+---------------+---------------+---------+--------------------+-------------+-----------+-------------------+-------------------+-------------------+-------------+-------+---------+------------+----+-----------------+---------------------+---------+-------------+-----------+---------------+-------------------+-----------------------+-----------------------+---------------+-------------+-------------------+-----------------+----------------+--------------------+----------+--------------------+----------------------+------------------+--------------------------+--------------------+--------------------+--------------------+-----------------------+-------------------------+--------------------+--------------------+--------------------------------------+-------------------+----------------+--------------------+-----------+---------------+------------------------------------+----------------------------------------+----------------------------------+------------------------------------+-----------------+-------------+------------------+----------------------+-----------------------+--------------------------------------+----------------------------------+----------------------------------------+--------------------------------------------+-----------------------------------+-------------------+---------------------+-------------------+-------------------+-----------+---------+------------------+------------------+\n",
      "only showing top 20 rows\n",
      "\n"
     ]
    },
    {
     "name": "stderr",
     "output_type": "stream",
     "text": [
      "                                                                                \r"
     ]
    }
   ],
   "source": [
    "df.show()"
   ]
  }
 ],
 "metadata": {
  "kernelspec": {
   "display_name": "Python 3 (ipykernel)",
   "language": "python",
   "name": "python3"
  },
  "language_info": {
   "codemirror_mode": {
    "name": "ipython",
    "version": 3
   },
   "file_extension": ".py",
   "mimetype": "text/x-python",
   "name": "python",
   "nbconvert_exporter": "python",
   "pygments_lexer": "ipython3",
   "version": "3.11.9"
  }
 },
 "nbformat": 4,
 "nbformat_minor": 5
}
