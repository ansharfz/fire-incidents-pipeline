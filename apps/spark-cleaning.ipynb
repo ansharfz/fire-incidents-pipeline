{
 "cells": [
  {
   "cell_type": "code",
   "execution_count": 1,
   "id": "ff4256a5-202c-40f0-9dc0-795648372ca7",
   "metadata": {},
   "outputs": [
    {
     "data": {
      "text/html": [
       "<style>pre{white-space: pre !important;}</style>"
      ],
      "text/plain": [
       "<IPython.core.display.HTML object>"
      ]
     },
     "metadata": {},
     "output_type": "display_data"
    }
   ],
   "source": [
    "from IPython.display import display, HTML\n",
    "display(HTML(\"<style>pre{white-space: pre !important;}</style>\"))"
   ]
  },
  {
   "cell_type": "code",
   "execution_count": 2,
   "id": "dbbecedb-a8df-4e2e-b3bd-f503a576a083",
   "metadata": {},
   "outputs": [],
   "source": [
    "import pandas as pd\n",
    "import findspark\n",
    "\n",
    "from pyspark.sql import SparkSession\n",
    "from pyspark.sql.functions import *\n",
    "from pyspark.sql.types import StructType, StructField, StringType, IntegerType, TimestampType, DateType"
   ]
  },
  {
   "cell_type": "code",
   "execution_count": 3,
   "id": "95b26d8a-dc12-46f9-b31a-3e3792c7623b",
   "metadata": {},
   "outputs": [],
   "source": [
    "findspark.init()"
   ]
  },
  {
   "cell_type": "code",
   "execution_count": null,
   "id": "b9f56ab7-97b3-4536-89ab-2626306a82b1",
   "metadata": {},
   "outputs": [],
   "source": [
    "!pwd"
   ]
  },
  {
   "cell_type": "code",
   "execution_count": 4,
   "id": "3b93a631-8d1a-4d0c-bf34-6c253f5f01d4",
   "metadata": {},
   "outputs": [
    {
     "name": "stderr",
     "output_type": "stream",
     "text": [
      "Setting default log level to \"WARN\".\n",
      "To adjust logging level use sc.setLogLevel(newLevel). For SparkR, use setLogLevel(newLevel).\n",
      "24/07/18 09:33:10 WARN NativeCodeLoader: Unable to load native-hadoop library for your platform... using builtin-java classes where applicable\n"
     ]
    }
   ],
   "source": [
    "spark = SparkSession.builder \\\n",
    "    .appName(\"Fire Incident\") \\\n",
    "    .master(\"local[1]\") \\\n",
    "    .config(\"spark.driver.host\", \"host.docker.internal\") \\\n",
    "    .config(\"spark.driver.bindAddress\", \"0.0.0.0\") \\\n",
    "    .config(\"spark.dynamicAllocation.enabled\", \"false\") \\\n",
    "    .config(\"spark.network.timeout\", \"600s\") \\\n",
    "    .config(\"spark.executor.heartbeatInterval\", \"120s\") \\\n",
    "    .config(\"spark.executor.instances\", \"1\") \\\n",
    "    .config(\"spark.cores.max\", \"1\") \\\n",
    "    .config(\"spark.executor.cores\", \"1\") \\\n",
    "    .config(\"spark.executor.memory\", \"512m\") \\\n",
    "    .config(\"spark.driver.memory\", \"512m\") \\\n",
    "    .config('spark.executor.extraClassPath', '../jars/postgresql-42.7.3.jar') \\\n",
    "    .getOrCreate()"
   ]
  },
  {
   "cell_type": "code",
   "execution_count": 5,
   "id": "89160bac-53bf-48b2-a2a7-48e821a9fc95",
   "metadata": {},
   "outputs": [],
   "source": [
    "schema = StructType([\n",
    "    StructField(\"Incident Number\", StringType(), True),\n",
    "    StructField(\"Exposure Number\", IntegerType(), True),\n",
    "    StructField(\"ID\", StringType(), True),\n",
    "    StructField(\"Address\", StringType(), True),\n",
    "    StructField(\"Incident Date\", DateType(), True),\n",
    "    StructField(\"Call Number\", IntegerType(), True),\n",
    "    StructField(\"Alarm DtTm\", TimestampType(), True),\n",
    "    StructField(\"Arrival DtTm\", TimestampType(), True),\n",
    "    StructField(\"Close DtTm\", TimestampType(), True),\n",
    "    StructField(\"City\", StringType(), True),\n",
    "    StructField(\"zipcode\", StringType(), True),\n",
    "    StructField(\"Battalion\", StringType(), True),\n",
    "    StructField(\"Station Area\", StringType(), True),\n",
    "    StructField(\"Box\", StringType(), True),\n",
    "    StructField(\"Suppression Units\", IntegerType(), True),\n",
    "    StructField(\"Suppression Personnel\", IntegerType(), True),\n",
    "    StructField(\"EMS Units\", IntegerType(), True),\n",
    "    StructField(\"EMS Personnel\", IntegerType(), True),\n",
    "    StructField(\"Other Units\", IntegerType(), True),\n",
    "    StructField(\"Other Personnel\", IntegerType(), True),\n",
    "    StructField(\"First Unit On Scene\", StringType(), True),\n",
    "    StructField(\"Estimated Property Loss\", IntegerType(), True),\n",
    "    StructField(\"Estimated Contents Loss\", IntegerType(), True),\n",
    "    StructField(\"Fire Fatalities\", IntegerType(), True),\n",
    "    StructField(\"Fire Injuries\", IntegerType(), True),\n",
    "    StructField(\"Civilian Fatalities\", IntegerType(), True),\n",
    "    StructField(\"Civilian Injuries\", IntegerType(), True),\n",
    "    StructField(\"Number of Alarms\", IntegerType(), True),\n",
    "    StructField(\"Primary Situation\", StringType(), True),\n",
    "    StructField(\"Mutual Aid\", StringType(), True),\n",
    "    StructField(\"Action Taken Primary\", StringType(), True),\n",
    "    StructField(\"Action Taken Secondary\", StringType(), True),\n",
    "    StructField(\"Action Taken Other\", StringType(), True),\n",
    "    StructField(\"Detector Alerted Occupants\", StringType(), True),\n",
    "    StructField(\"Property Use\", StringType(), True),\n",
    "    StructField(\"Area of Fire Origin\", StringType(), True),\n",
    "    StructField(\"Ignition Cause\", StringType(), True),\n",
    "    StructField(\"Ignition Factor Primary\", StringType(), True),\n",
    "    StructField(\"Ignition Factor Secondary\", StringType(), True),\n",
    "    StructField(\"Heat Source\", StringType(), True),\n",
    "    StructField(\"Item First Ignited\", StringType(), True),\n",
    "    StructField(\"Human Factors Associated with Ignition\", StringType(), True),\n",
    "    StructField(\"Structure Type\", StringType(), True),\n",
    "    StructField(\"Structure Status\", StringType(), True),\n",
    "    StructField(\"Floor of Fire Origin\", IntegerType(), True),\n",
    "    StructField(\"Fire Spread\", StringType(), True),\n",
    "    StructField(\"No Flame Spread\", StringType(), True),\n",
    "    StructField(\"Number of floors with minimum damage\", IntegerType(), True),\n",
    "    StructField(\"Number of floors with significant damage\", IntegerType(), True),\n",
    "    StructField(\"Number of floors with heavy damage\", IntegerType(), True),\n",
    "    StructField(\"Number of floors with extreme damage\", IntegerType(), True),\n",
    "    StructField(\"Detectors Present\", StringType(), True),\n",
    "    StructField(\"Detector Type\", StringType(), True),\n",
    "    StructField(\"Detector Operation\", StringType(), True),\n",
    "    StructField(\"Detector Effectiveness\", StringType(), True),\n",
    "    StructField(\"Detector Failure Reason\", StringType(), True),\n",
    "    StructField(\"Automatic Extinguishing System Present\", StringType(), True),\n",
    "    StructField(\"Automatic Extinguishing Sytem Type\", StringType(), True),\n",
    "    StructField(\"Automatic Extinguishing Sytem Perfomance\", StringType(), True),\n",
    "    StructField(\"Automatic Extinguishing Sytem Failure Reason\", StringType(), True),\n",
    "    StructField(\"Number of Sprinkler Heads Operating\", IntegerType(), True),\n",
    "    StructField(\"Supervisor District\", IntegerType(), True),\n",
    "    StructField(\"neighborhood_district\", StringType(), True),\n",
    "    StructField(\"point\", StringType(), True),\n",
    "    StructField(\"data_as_of\", TimestampType(), True),\n",
    "    StructField(\"data_loaded_at\", TimestampType(), True)\n",
    "])"
   ]
  },
  {
   "cell_type": "code",
   "execution_count": 6,
   "id": "3128d5d0-8a3f-40de-8c38-445f4ed25a4d",
   "metadata": {},
   "outputs": [
    {
     "name": "stderr",
     "output_type": "stream",
     "text": [
      "24/07/18 09:33:23 WARN package: Truncated the string representation of a plan since it was too large. This behavior can be adjusted by setting 'spark.sql.debug.maxToStringFields'.\n"
     ]
    },
    {
     "name": "stdout",
     "output_type": "stream",
     "text": [
      "+---------------+---------------+---------+--------------------------+-------------+-----------+-------------------+-------------------+-------------------+-------------+-------+---------+------------+----+-----------------+---------------------+---------+-------------+-----------+---------------+-------------------+-----------------------+-----------------------+---------------+-------------+-------------------+-----------------+----------------+----------------------------------------------------+----------+-------------------------------------------+----------------------+------------------+----------------------------+----------------------------------------------------+-------------------+--------------+-----------------------+-------------------------+-----------+------------------+--------------------------------------+--------------+----------------+--------------------+-----------+---------------+------------------------------------+----------------------------------------+----------------------------------+------------------------------------+-----------------+-------------+------------------+----------------------+-----------------------+--------------------------------------+----------------------------------+----------------------------------------+--------------------------------------------+-----------------------------------+-------------------+---------------------+-----------------------------+-------------------+-------------------+\n",
      "|Incident Number|Exposure Number|ID       |Address                   |Incident Date|Call Number|Alarm DtTm         |Arrival DtTm       |Close DtTm         |City         |zipcode|Battalion|Station Area|Box |Suppression Units|Suppression Personnel|EMS Units|EMS Personnel|Other Units|Other Personnel|First Unit On Scene|Estimated Property Loss|Estimated Contents Loss|Fire Fatalities|Fire Injuries|Civilian Fatalities|Civilian Injuries|Number of Alarms|Primary Situation                                   |Mutual Aid|Action Taken Primary                       |Action Taken Secondary|Action Taken Other|Detector Alerted Occupants  |Property Use                                        |Area of Fire Origin|Ignition Cause|Ignition Factor Primary|Ignition Factor Secondary|Heat Source|Item First Ignited|Human Factors Associated with Ignition|Structure Type|Structure Status|Floor of Fire Origin|Fire Spread|No Flame Spread|Number of floors with minimum damage|Number of floors with significant damage|Number of floors with heavy damage|Number of floors with extreme damage|Detectors Present|Detector Type|Detector Operation|Detector Effectiveness|Detector Failure Reason|Automatic Extinguishing System Present|Automatic Extinguishing Sytem Type|Automatic Extinguishing Sytem Perfomance|Automatic Extinguishing Sytem Failure Reason|Number of Sprinkler Heads Operating|Supervisor District|neighborhood_district|point                        |data_as_of         |data_loaded_at     |\n",
      "+---------------+---------------+---------+--------------------------+-------------+-----------+-------------------+-------------------+-------------------+-------------+-------+---------+------------+----+-----------------+---------------------+---------+-------------+-----------+---------------+-------------------+-----------------------+-----------------------+---------------+-------------+-------------------+-----------------+----------------+----------------------------------------------------+----------+-------------------------------------------+----------------------+------------------+----------------------------+----------------------------------------------------+-------------------+--------------+-----------------------+-------------------------+-----------+------------------+--------------------------------------+--------------+----------------+--------------------+-----------+---------------+------------------------------------+----------------------------------------+----------------------------------+------------------------------------+-----------------+-------------+------------------+----------------------+-----------------------+--------------------------------------+----------------------------------+----------------------------------------+--------------------------------------------+-----------------------------------+-------------------+---------------------+-----------------------------+-------------------+-------------------+\n",
      "|17047393       |0              |170473930|0 BARNEVELD AVENUE        |2017-04-21   |171111861  |2017-04-21 12:09:04|2017-04-21 12:09:04|2017-04-21 12:17:35|San Francisco|94124  |B10      |42          |6362|1                |5                    |0        |0            |0          |0              |null               |5                      |5                      |0              |0            |0                  |0                |1               |118 Trash or rubbish fire, contained                |N None    |11 Extinguishment by fire service personnel|null                  |null              |U Unknown                   |963 Street or road in commercial area               |null               |null          |null                   |null                     |null       |null              |null                                  |null          |null            |null                |null       |NA             |null                                |null                                    |null                              |null                                |null             |null         |null              |null                  |null                   |null                                  |null                              |null                                    |null                                        |null                               |9                  |Portola              |POINT (-122.406574 37.732143)|2017-04-21 12:17:35|2024-05-15 02:26:57|\n",
      "|17047397       |0              |170473970|940 SUTTER STREET         |2017-04-21   |171111879  |2017-04-21 12:13:00|2017-04-21 12:18:37|2017-04-21 12:23:16|San Francisco|94109  |B04      |03          |1557|1                |4                    |0        |0            |0          |0              |null               |null                   |null                   |0              |0            |0                  |0                |1               |735 Alarm system sounded due to malfunction         |N None    |86 Investigate                             |null                  |null              |null                        |400 Residential, other                              |null               |null          |null                   |null                     |null       |null              |null                                  |null          |null            |null                |null       |NA             |null                                |null                                    |null                              |null                                |null             |null         |null              |null                  |null                   |null                                  |null                              |null                                    |null                                        |null                               |3                  |Nob Hill             |POINT (-122.415928 37.788576)|2017-04-21 12:23:16|2024-05-15 02:26:57|\n",
      "|17047411       |0              |170474110|61 TURNER TRAIL           |2017-04-21   |171112031  |2017-04-21 12:45:05|2017-04-21 12:46:55|2017-04-21 13:05:22|San Francisco|94107  |B10      |37          |2542|1                |4                    |0        |0            |0          |0              |null               |null                   |null                   |0              |0            |0                  |0                |1               |440 Electrical  wiring/equipment problem, other     |N None    |86 Investigate                             |null                  |null              |null                        |429 Multifamily dwelling                            |null               |null          |null                   |null                     |null       |null              |null                                  |null          |null            |null                |null       |NA             |null                                |null                                    |null                              |null                                |null             |null         |null              |null                  |null                   |null                                  |null                              |null                                    |null                                        |null                               |10                 |Potrero Hill         |POINT (-122.395021 37.756551)|2017-04-21 13:05:22|2024-05-15 02:26:57|\n",
      "|17047413       |0              |170474130|0 AMAZON AVENUE           |2017-04-21   |171112045  |2017-04-21 12:48:10|2017-04-21 12:55:50|2017-04-21 14:30:36|San Francisco|94112  |B09      |43          |6174|1                |4                    |1        |2            |0          |0              |null               |null                   |null                   |0              |0            |0                  |0                |1               |322 Motor vehicle accident with injuries            |N None    |32 Provide basic life support (BLS)        |null                  |null              |null                        |962 Residential street, road or residential driveway|null               |null          |null                   |null                     |null       |null              |null                                  |null          |null            |null                |null       |NA             |null                                |null                                    |null                              |null                                |null             |null         |null              |null                  |null                   |null                                  |null                              |null                                    |null                                        |null                               |11                 |Excelsior            |POINT (-122.437047 37.716007)|2017-04-21 14:30:36|2024-05-15 02:26:57|\n",
      "|17047421       |0              |170474210|1801 GREEN STREET         |2017-04-21   |171112147  |2017-04-21 13:09:58|2017-04-21 13:13:38|2017-04-21 13:22:06|San Francisco|94123  |B04      |16          |3354|3                |10                   |0        |0            |0          |0              |null               |null                   |null                   |0              |0            |0                  |0                |1               |730 System malfunction, other                       |N None    |63 Restore fire alarm system               |null                  |null              |null                        |151 Library                                         |null               |null          |null                   |null                     |null       |null              |null                                  |null          |null            |null                |null       |NA             |null                                |null                                    |null                              |null                                |null             |null         |null              |null                  |null                   |null                                  |null                              |null                                    |null                                        |null                               |2                  |Marina               |POINT (-122.429023 37.796789)|2017-04-21 13:22:06|2024-05-15 02:26:57|\n",
      "|17047426       |0              |170474260|2201 SACRAMENTO STREET    |2017-04-21   |171112182  |2017-04-21 13:17:45|2017-04-21 13:25:03|2017-04-21 13:30:27|San Francisco|94115  |B04      |38          |3435|1                |4                    |0        |0            |0          |0              |null               |null                   |null                   |0              |0            |0                  |0                |1               |735 Alarm system sounded due to malfunction         |N None    |86 Investigate                             |null                  |null              |null                        |400 Residential, other                              |null               |null          |null                   |null                     |null       |null              |null                                  |null          |null            |null                |null       |NA             |null                                |null                                    |null                              |null                                |null             |null         |null              |null                  |null                   |null                                  |null                              |null                                    |null                                        |null                               |2                  |Pacific Heights      |POINT (-122.429168 37.79038) |2017-04-21 13:30:27|2024-05-15 02:26:57|\n",
      "|17047433       |0              |170474330|382 TEXAS STREET          |2017-04-21   |171112209  |2017-04-21 13:24:50|2017-04-21 13:31:44|2017-04-21 13:33:16|San Francisco|94107  |B03      |37          |2462|1                |4                    |0        |0            |0          |0              |null               |null                   |null                   |0              |0            |0                  |0                |1               |740 Unintentional transmission of alarm, other      |N None    |86 Investigate                             |null                  |null              |null                        |419 1 or 2 family dwelling                          |null               |null          |null                   |null                     |null       |null              |null                                  |null          |null            |null                |null       |NA             |null                                |null                                    |null                              |null                                |null             |null         |null              |null                  |null                   |null                                  |null                              |null                                    |null                                        |null                               |10                 |Potrero Hill         |POINT (-122.395553 37.76161) |2017-04-21 13:33:16|2024-05-15 02:26:57|\n",
      "|17047439       |0              |170474390|530 SANSOME STREET        |2017-04-21   |171112259  |2017-04-21 13:36:16|2017-04-21 13:36:16|2017-04-21 14:24:21|San Francisco|94111  |B01      |13          |1211|1                |5                    |0        |0            |0          |0              |null               |null                   |null                   |0              |0            |0                  |0                |1               |571 Cover assignment, standby, moveup               |N None    |47 Decontaminate occupancy or area         |null                  |null              |null                        |150 Public or government, other                     |null               |null          |null                   |null                     |null       |null              |null                                  |null          |null            |null                |null       |NA             |null                                |null                                    |null                              |null                                |null             |null         |null              |null                  |null                   |null                                  |null                              |null                                    |null                                        |null                               |3                  |Chinatown            |POINT (-122.40135 37.795518) |2017-04-21 14:24:21|2024-05-15 02:26:57|\n",
      "|17047441       |0              |170474410|0 GEARY STREET            |2017-04-21   |171112304  |2017-04-21 13:45:52|2017-04-21 13:45:52|2017-04-21 15:34:29|San Francisco|94102  |B01      |03          |1462|1                |4                    |1        |2            |0          |0              |null               |null                   |null                   |0              |0            |0                  |0                |1               |322 Motor vehicle accident with injuries            |N None    |30 Emergency medical services, other       |null                  |null              |null                        |962 Residential street, road or residential driveway|null               |null          |null                   |null                     |null       |null              |null                                  |null          |null            |null                |null       |NA             |null                                |null                                    |null                              |null                                |null             |null         |null              |null                  |null                   |null                                  |null                              |null                                    |null                                        |null                               |5                  |Tenderloin           |POINT (-122.41481 37.786519) |2017-04-21 15:34:29|2024-05-15 02:26:57|\n",
      "|17047445       |0              |170474450|479 NATOMA STREET         |2017-04-21   |171112378  |2017-04-21 14:04:57|2017-04-21 14:09:30|2017-04-21 14:21:15|San Francisco|94103  |B03      |01          |2252|1                |4                    |0        |0            |0          |0              |null               |null                   |null                   |0              |0            |0                  |0                |1               |700 False alarm or false call, other                |N None    |86 Investigate                             |null                  |null              |null                        |429 Multifamily dwelling                            |null               |null          |null                   |null                     |null       |null              |null                                  |null          |null            |null                |null       |NA             |null                                |null                                    |null                              |null                                |null             |null         |null              |null                  |null                   |null                                  |null                              |null                                    |null                                        |null                               |6                  |South of Market      |POINT (-122.407145 37.7805)  |2017-04-21 14:21:15|2024-05-15 02:26:57|\n",
      "|17047451       |0              |170474510|2600 ARELIOUS WALKER DRIVE|2017-04-21   |171112458  |2017-04-21 14:20:02|2017-04-21 14:26:14|2017-04-21 14:38:52|San Francisco|94124  |B10      |17          |6615|1                |4                    |0        |0            |0          |0              |null               |null                   |null                   |0              |0            |0                  |0                |1               |745 Alarm system activation, no fire - unintentional|N None    |00 Action taken, other                     |null                  |null              |null                        |400 Residential, other                              |null               |null          |null                   |null                     |null       |null              |null                                  |null          |null            |null                |null       |NA             |null                                |null                                    |null                              |null                                |null             |null         |null              |null                  |null                   |null                                  |null                              |null                                    |null                                        |null                               |10                 |Bayview Hunters Point|POINT (-122.38468 37.719095) |2017-04-21 14:38:52|2024-05-15 02:26:57|\n",
      "|17047452       |0              |170474520|0 SKYLINE BL              |2017-04-21   |171112468  |2017-04-21 14:24:03|2017-04-21 14:31:02|2017-04-21 14:32:54|San Francisco|94132  |B08      |19          |8772|1                |4                    |1        |2            |0          |0              |null               |null                   |null                   |0              |0            |0                  |0                |1               |324 Motor vehicle accident with no injuries.        |N None    |86 Investigate                             |null                  |null              |null                        |NNN None                                            |null               |null          |null                   |null                     |null       |null              |null                                  |null          |null            |null                |null       |NA             |null                                |null                                    |null                              |null                                |null             |null         |null              |null                  |null                   |null                                  |null                              |null                                    |null                                        |null                               |7                  |Lakeshore            |POINT (-122.498036 37.709984)|2017-04-21 14:32:54|2024-05-15 02:26:57|\n",
      "|17047453       |0              |170474530|865 MARKET STREET         |2017-04-21   |171112476  |2017-04-21 14:25:22|2017-04-21 14:29:53|2017-04-21 14:31:53|San Francisco|94103  |B01      |01          |2247|1                |4                    |0        |0            |0          |0              |null               |null                   |null                   |0              |0            |0                  |0                |1               |700 False alarm or false call, other                |N None    |86 Investigate                             |null                  |null              |null                        |500 Mercantile, business, other                     |null               |null          |null                   |null                     |null       |null              |null                                  |null          |null            |null                |null       |NA             |null                                |null                                    |null                              |null                                |null             |null         |null              |null                  |null                   |null                                  |null                              |null                                    |null                                        |null                               |6                  |South of Market      |POINT (-122.407158 37.783947)|2017-04-21 14:31:53|2024-05-15 02:26:57|\n",
      "|17047454       |0              |170474540|0 14TH AVENUE             |2017-04-21   |171112478  |2017-04-21 14:25:40|2017-04-21 14:30:09|2017-04-21 14:32:21|San Francisco|94116  |B08      |40          |7362|1                |4                    |0        |0            |0          |0              |null               |null                   |null                   |0              |0            |0                  |0                |1               |554 Assist invalid                                  |N None    |71 Assist physically disabled              |null                  |null              |null                        |419 1 or 2 family dwelling                          |null               |null          |null                   |null                     |null       |null              |null                                  |null          |null            |null                |null       |NA             |null                                |null                                    |null                              |null                                |null             |null         |null              |null                  |null                   |null                                  |null                              |null                                    |null                                        |null                               |7                  |West of Twin Peaks   |POINT (-122.470596 37.748868)|2017-04-21 14:32:21|2024-05-15 02:26:57|\n",
      "|17047456       |0              |170474560|684 ELLIS STREET          |2017-04-21   |171112490  |2017-04-21 14:28:25|2017-04-21 14:32:04|2017-04-21 16:09:39|San Francisco|94109  |B02      |03          |1555|2                |9                    |1        |2            |0          |0              |null               |null                   |null                   |0              |0            |0                  |0                |1               |500 Service Call, other                             |N None    |00 Action taken, other                     |null                  |null              |null                        |429 Multifamily dwelling                            |null               |null          |null                   |null                     |null       |null              |null                                  |null          |null            |null                |null       |NA             |null                                |null                                    |null                              |null                                |null             |null         |null              |null                  |null                   |null                                  |null                              |null                                    |null                                        |null                               |5                  |Tenderloin           |POINT (-122.417507 37.784395)|2017-04-21 16:09:39|2024-05-15 02:26:57|\n",
      "|17047457       |0              |170474570|1035 GILMAN AVENUE        |2017-04-21   |171112497  |2017-04-21 14:29:23|2017-04-21 14:35:55|2017-04-21 14:41:03|San Francisco|94124  |B10      |17          |6611|1                |5                    |0        |0            |0          |0              |null               |null                   |null                   |0              |0            |0                  |0                |1               |700 False alarm or false call, other                |N None    |00 Action taken, other                     |null                  |null              |null                        |213 Elementary school, including kindergarten       |null               |null          |null                   |null                     |null       |null              |null                                  |null          |null            |null                |null       |NA             |null                                |null                                    |null                              |null                                |null             |null         |null              |null                  |null                   |null                                  |null                              |null                                    |null                                        |null                               |10                 |Bayview Hunters Point|POINT (-122.388948 37.717956)|2017-04-21 14:41:03|2024-05-15 02:26:57|\n",
      "|17047459       |0              |170474590|933 GRANT AVENUE          |2017-04-21   |171112530  |2017-04-21 14:35:43|2017-04-21 14:38:29|2017-04-21 14:47:10|San Francisco|94133  |B01      |02          |1312|1                |4                    |0        |0            |0          |0              |null               |null                   |null                   |0              |0            |0                  |0                |1               |745 Alarm system activation, no fire - unintentional|N None    |63 Restore fire alarm system               |null                  |null              |null                        |429 Multifamily dwelling                            |null               |null          |null                   |null                     |null       |null              |null                                  |null          |null            |null                |null       |NA             |null                                |null                                    |null                              |null                                |null             |null         |null              |null                  |null                   |null                                  |null                              |null                                    |null                                        |null                               |3                  |Chinatown            |POINT (-122.406628 37.795445)|2017-04-21 14:47:10|2024-05-15 02:26:57|\n",
      "|17047460       |0              |170474600|643 OAK STREET            |2017-04-21   |171112537  |2017-04-21 14:37:03|2017-04-21 14:38:55|2017-04-21 14:59:45|San Francisco|94117  |B02      |05          |3523|9                |33                   |1        |2            |1          |2              |null               |null                   |null                   |0              |0            |0                  |0                |1               |113 Cooking fire, confined to container             |N None    |86 Investigate                             |null                  |null              |1 Detector alerted occupants|429 Multifamily dwelling                            |null               |null          |null                   |null                     |null       |null              |null                                  |null          |null            |null                |null       |NA             |null                                |null                                    |null                              |null                                |null             |null         |null              |null                  |null                   |null                                  |null                              |null                                    |null                                        |null                               |5                  |Hayes Valley         |POINT (-122.429884 37.774023)|2017-04-21 14:59:45|2024-05-15 02:26:57|\n",
      "|17047463       |0              |170474630|0 PINE STREET             |2017-04-21   |171112544  |2017-04-21 14:38:55|2017-04-21 14:42:17|2017-04-21 15:15:29|San Francisco|94109  |B04      |38          |3325|1                |4                    |0        |0            |0          |0              |null               |null                   |null                   |0              |0            |0                  |0                |1               |322 Motor vehicle accident with injuries            |N None    |30 Emergency medical services, other       |null                  |null              |null                        |962 Residential street, road or residential driveway|null               |null          |null                   |null                     |null       |null              |null                                  |null          |null            |null                |null       |NA             |null                                |null                                    |null                              |null                                |null             |null         |null              |null                  |null                   |null                                  |null                              |null                                    |null                                        |null                               |5                  |Pacific Heights      |POINT (-122.428715 37.788575)|2017-04-21 15:15:29|2024-05-15 02:26:57|\n",
      "|17047468       |0              |170474680|421 LEAVENWORTH STREET    |2017-04-21   |171112591  |2017-04-21 14:47:13|2017-04-21 14:52:30|2017-04-21 14:55:23|San Francisco|94102  |B04      |03          |1544|1                |4                    |0        |0            |0          |0              |null               |null                   |null                   |0              |0            |0                  |0                |1               |745 Alarm system activation, no fire - unintentional|N None    |86 Investigate                             |null                  |null              |null                        |400 Residential, other                              |null               |null          |null                   |null                     |null       |null              |null                                  |null          |null            |null                |null       |NA             |null                                |null                                    |null                              |null                                |null             |null         |null              |null                  |null                   |null                                  |null                              |null                                    |null                                        |null                               |5                  |Tenderloin           |POINT (-122.414754 37.784991)|2017-04-21 14:55:23|2024-05-15 02:26:57|\n",
      "+---------------+---------------+---------+--------------------------+-------------+-----------+-------------------+-------------------+-------------------+-------------+-------+---------+------------+----+-----------------+---------------------+---------+-------------+-----------+---------------+-------------------+-----------------------+-----------------------+---------------+-------------+-------------------+-----------------+----------------+----------------------------------------------------+----------+-------------------------------------------+----------------------+------------------+----------------------------+----------------------------------------------------+-------------------+--------------+-----------------------+-------------------------+-----------+------------------+--------------------------------------+--------------+----------------+--------------------+-----------+---------------+------------------------------------+----------------------------------------+----------------------------------+------------------------------------+-----------------+-------------+------------------+----------------------+-----------------------+--------------------------------------+----------------------------------+----------------------------------------+--------------------------------------------+-----------------------------------+-------------------+---------------------+-----------------------------+-------------------+-------------------+\n",
      "only showing top 20 rows\n",
      "\n"
     ]
    }
   ],
   "source": [
    "df = spark.read \\\n",
    "        .schema(schema) \\\n",
    "        .format('csv') \\\n",
    "        .option('header', 'True') \\\n",
    "        .option('dateFormat', 'yyyy/MM/dd') \\\n",
    "        .option('timestampFormat', 'yyyy/MM/dd hh:mm:ss a') \\\n",
    "        .load('../data/raw/Fire_Incidents_20240516.csv')\n",
    "df.show(truncate=False)"
   ]
  },
  {
   "cell_type": "markdown",
   "id": "8711c22b-4135-4e90-b584-c0f3a41e363f",
   "metadata": {},
   "source": [
    "## Inconsistent Labels"
   ]
  },
  {
   "cell_type": "code",
   "execution_count": null,
   "id": "944f734d-2f0d-4c33-bf6a-16e73090cb95",
   "metadata": {},
   "outputs": [],
   "source": [
    "df = df.withColumn('zipcode', regexp_replace('zipcode', '\\-\\w+[0-9]{3,}', ''))"
   ]
  },
  {
   "cell_type": "code",
   "execution_count": null,
   "id": "4988b07d-c872-4836-9906-c48b94b5b187",
   "metadata": {},
   "outputs": [],
   "source": [
    "df = df.withColumn('Primary Situation', regexp_replace('Primary Situation', '[*-]', ''))\n",
    "df = df.withColumn('Primary Situation', trim('Primary Situation'))"
   ]
  },
  {
   "cell_type": "code",
   "execution_count": null,
   "id": "dfc08f63-2fb8-48fb-90d6-c987d2299b27",
   "metadata": {},
   "outputs": [],
   "source": [
    "mutual_aid_mapping = {\n",
    "    'Mutual aid given': '3 Mutual aid given',\n",
    "    'Mutual aid received': '1 Mutual aid received',\n",
    "    'Other aid given': '5 Other aid given',\n",
    "    'Automatic or contract aid received': '2 Automatic aid received',\n",
    "    'Automatic aid given': '4 Automatic aid given',\n",
    "    '3 Mutual aid given': '3 Mutual aid given',\n",
    "    'None' : 'N None'}\n",
    "df = df.replace(mutual_aid_mapping, subset = ['Mutual Aid'])"
   ]
  },
  {
   "cell_type": "code",
   "execution_count": null,
   "id": "8b1933d3-2ae5-4abc-8679-2ffb4ce6cca7",
   "metadata": {},
   "outputs": [],
   "source": [
    "df = df.withColumn('Ignition Factor Primary', regexp_replace('Ignition Factor Primary', '-', ''))"
   ]
  },
  {
   "cell_type": "code",
   "execution_count": null,
   "id": "8b238444-0808-4d67-a3d3-80f91ba7cfef",
   "metadata": {},
   "outputs": [],
   "source": [
    "ignition_factor_secondary_mapping = {\n",
    "    '12 Heat source too close to combustibles.': '12 Heat source too close to combustibles.',\n",
    "    '30 Electrical failure, malfunction, othe': '30 Electrical failure, malfunction, other',\n",
    "    '11 Abandoned or discarded materials or p': '11 Abandoned or discarded materials or products',\n",
    "    '32 Short circuit arc from mechanical dam': '32 Short-circuit arc from mechanical damage',\n",
    "    '20 Mechanical failure, malfunction, othe': '20 Mechanical failure, malfunction, other',\n",
    "    '18 Improper container or storage': '18 Improper container or storage procedure',\n",
    "    '00 Factors contributing to ignition, other': '00 Other factor contributed to ignition',\n",
    "    '33 Short cir. arc, defect/worn insulatio': '33 Short-circuit arc from defective, worn insulation',\n",
    "    '52 Accidentally turned on, not turned of': '52 Accidentally turned on, not turned off',\n",
    "    '57 Equipment used for not intended purpo': '57 Equipment not used for purpose intended',\n",
    "    '13 Cuttin/welding too close to combustib': '13 Cutting/welding too close to combustibles',\n",
    "    '73 Outside/open fire, debris/waste dispo': '73 Outside/open fire for debris or waste disposal',\n",
    "    '74 Outside/open fire for warming or cook': '74 Outside/open fire for warming or cooking',\n",
    "    '18 Improper container or storage procedure': '18 Improper container or storage',\n",
    "}\n",
    "df = df.withColumn('Ignition Factor Secondary', regexp_replace('Ignition Factor Secondary', '-', ''))\n",
    "df = df.replace(ignition_factor_secondary_mapping, subset = ['Ignition Factor Secondary'])\n"
   ]
  },
  {
   "cell_type": "code",
   "execution_count": null,
   "id": "5442af13-f37d-4f5f-b8db-c53a5dec0e43",
   "metadata": {},
   "outputs": [],
   "source": [
    "heat_source_mapping = {\n",
    "    '11 Spark/ember/flame from operating equi': '11 Spark, ember, or flame from operating equipment',\n",
    "    '12 Radiated/conducted heat operating equ': '12 Radiated or conducted heat from operating equipment',\n",
    "    '13 Arcing': '13 Electrical arcing',\n",
    "    '60 Heat; other open flame/smoking materi': '60 Heat from other open flame or smoking materials, other',\n",
    "    '63 Heat from undetermined smoking materi': '63 Heat from undetermined smoking material',\n",
    "    '65 Cigarette lighter': '65 Lighter: cigarette, cigar',\n",
    "    '67 Warning or road flare; fusee': '67 Warning or road flare; fuse',\n",
    "    '68 Backfire from internal combustion eng': '68 Backfire from internal combustion engine',\n",
    "    '72 Chemical reaction': '72 Spontaneous combustion, chemical reaction',\n",
    "    '97 Multiple heat sources including multi': '97 Multiple heat sources including multiple ignitions'\n",
    "}\n",
    "df = df.withColumn('Heat Source', regexp_replace('Heat Source', '-', ''))\n",
    "df = df.replace(heat_source_mapping, subset = ['Heat Source'])"
   ]
  },
  {
   "cell_type": "code",
   "execution_count": null,
   "id": "4207a3de-3af6-42bf-a1a9-9f84324b3106",
   "metadata": {},
   "outputs": [],
   "source": [
    "item_first_ignited_mapping = {\n",
    "    '96 Rubbish, trash, waste': '96 Rubbish, trash, or waste',\n",
    "    '62 Flammable liquid/gas in/from engine or burner': '62 Flam. liq/gas-in/from engine or burne',\n",
    "    '21 Upholstered sofa, chair, vehicle seats': '21 Upholstered sofa, chair, vehicle seat',\n",
    "    '59 Rolled, wound material (paper and fabrics)': '59 Rolled, wound material (paper, fabric',\n",
    "    '73 Heavy vegetation not crop, including trees': '73 Heavy vegetation no crops, inc. tre',\n",
    "    '76 Cooking materials, including edible materials': '76 Cooking materials, inc. Edible materi',\n",
    "    '00 Item first ignited, other': '00 Item First Ignited, Other',\n",
    "    '14 Floor covering or rug/carpet/mat, surface': '14 Floor covering or rug/carpet/mat',\n",
    "    '36 Curtain, blind, drapery, tapestry': '36 Curtains, blinds, drapery, tapestry',\n",
    "    '11 Exterior roof covering, surface, finish': '11 Exterior roof covering or finish',\n",
    "    '64 Flammable liquid/gas in container or pipe': '64 Flam liq/gas in container or pipe',\n",
    "    '72 Light vegetation not crop, including grass': '72 Light vegetation no crops, inc. gra',\n",
    "    '37 Goods not made up, including fabrics and yard goods': '37 Raw Goods, incl. fabrics and yarn',\n",
    "    '66 Pipe, duct, conduit, hose': '66 Pipe, duct, conduit or hose',\n",
    "    '61 Atomized liquid, vaporized liquid, aerosol.': '61 Atomized liq., vaporized liq.,aersol',\n",
    "    '95 Film, residue, including paint & resi': '95 Film, residue, including paint and resin',\n",
    "    '63 Flammable liquid/gas in/from final container': '63 Flam Liq/gas-in/from final container',\n",
    "    '94 Dust, fiber, lint, including sawdust and excelsior': '94 Dust/fiber/lint. inc. sawdust, excels',\n",
    "    '15 Interior wall covering excluding drapes, etc.': '15 Int. Wall cover  exclude drapes, etc.',\n",
    "    '47 Tarpaulin, tent': '47 Tarpaulin or tent',\n",
    "    '71 Agricultural crop, including fruits and vegetables': '71 Crop, incl. fruits and vegitables',\n",
    "    '82 Transformer, including transformer fluids': '82 Transformer, including transformer fl',\n",
    "    '18 Thermal, acoustical insulation within wall, partition or floor/ceiling space': '18 Insulation within structural area',\n",
    "    '40 Adornment, recreational material, signs, other': '40 Adornment, recreational mat., signs,',\n",
    "    '43 Sign, including outdoor signs such as billboards': '43 Sign, inc. outdoor sign/billboards',\n",
    "    '74 Animal living or dead': '74 Animal, living or dead',\n",
    "    '77 Feathers or fur, not on bird or anima': '77 Feathers or fur, not on bird or animal',\n",
    "    '58 Palletized material, material stored on pallets.': '58 Palletized material',\n",
    "    '54 Cord, rope, twine': '54 Cord, rope, twine, yarn'}\n",
    "\n",
    "df = df.withColumn('Item First Ignited', regexp_replace('Item First Ignited', '-', ''))\n",
    "df = df.replace(item_first_ignited_mapping, subset = ['Item First Ignited'])"
   ]
  },
  {
   "cell_type": "code",
   "execution_count": null,
   "id": "64113634-a6f8-4bef-b7ef-86ed3ab28ad2",
   "metadata": {},
   "outputs": [],
   "source": [
    "df = df.withColumn('Human Factors Associated with Ignition', regexp_replace('Human Factors Associated with Ignition', '[Â§]', ''))"
   ]
  },
  {
   "cell_type": "code",
   "execution_count": null,
   "id": "a7cc4842-3af6-42c3-b784-698a948cb7a3",
   "metadata": {},
   "outputs": [],
   "source": [
    "structure_type_mapping = {'4 Air-supported structure': '4 Air supported structure',\n",
    "                          '7 Underground structure work area': '7 Underground structure work areas'}\n",
    "df = df.withColumn('Structure Type', regexp_replace('Structure Type', '-', ''))\n",
    "df = df.replace(structure_type_mapping, subset = ['Structure Type'])"
   ]
  },
  {
   "cell_type": "code",
   "execution_count": null,
   "id": "33742458-faf4-4f9f-8bc7-3d93a148d611",
   "metadata": {},
   "outputs": [],
   "source": [
    "structure_status_mapping = {'0 Building status, other': '0 Other'}\n",
    "df = df.withColumn('Structure Status', regexp_replace('Structure Status', '-', ''))\n",
    "df = df.replace(structure_status_mapping, subset = ['Structure Status'])"
   ]
  },
  {
   "cell_type": "code",
   "execution_count": null,
   "id": "d9c04bc4-018a-4761-86ee-9ea58f0a4341",
   "metadata": {},
   "outputs": [],
   "source": [
    "fire_spread_mapping = mapping = {\n",
    "    '00 Item first ignited, other': '00 Item First Ignited, Other',\n",
    "    '11 Exterior roof covering, surface, finish': '11 Exterior roof covering or finish',\n",
    "    '66 Pipe, duct, conduit, hose': '66 Pipe, duct, conduit or hose',\n",
    "    '15 Interior wall covering excluding drapes, etc.': '15 Int. Wall cover  exclude drapes, etc.',\n",
    "    '76 Cooking materials, including edible materials': '76 Cooking materials, inc. Edible materia',\n",
    "    '94 Dust/fiber/lint. inc. sawdust, excelsi': '94 Dust/fiber/lint. inc. sawdust, excelsi',\n",
    "    '96 Rubbish, trash, or waste': '96 Rubbish, trash, waste',\n",
    "    '61 Atomized liq., vaporized liq.,aersol': '61 Atomized liquid, vaporized liquid, aerosol.'\n",
    "}\n",
    "df = df.withColumn('Fire Spread', regexp_replace('Fire Spread', '-', ''))\n",
    "df = df.replace(fire_spread_mapping, subset = ['Fire Spread'])"
   ]
  },
  {
   "cell_type": "code",
   "execution_count": null,
   "id": "4a399b7a-f82c-4d29-886a-a241981c9e66",
   "metadata": {},
   "outputs": [],
   "source": [
    "no_flame_spread_mapping = {\n",
    "    'NO': '0',\n",
    "    'N': '0',\n",
    "    'False': '0',\n",
    "    'YES': '1',\n",
    "    'Y': '1',\n",
    "    'True': '1'\n",
    "}\n",
    "df = df.replace(no_flame_spread_mapping, subset = ['No Flame Spread'])"
   ]
  },
  {
   "cell_type": "code",
   "execution_count": null,
   "id": "c803b6e2-83ae-4dfb-af6a-42e4e16e9d0e",
   "metadata": {},
   "outputs": [],
   "source": [
    "detectors_present_mapping = {\n",
    "    'N None present': 'N Not present'\n",
    "}\n",
    "df = df.withColumn('Detectors Present', regexp_replace('Detectors Present', '-', ''))\n",
    "df = df.replace(detectors_present_mapping, subset = ['Detectors Present'])"
   ]
  },
  {
   "cell_type": "code",
   "execution_count": null,
   "id": "f25949db-d282-4204-8c7a-4ceebf9cf1c8",
   "metadata": {},
   "outputs": [],
   "source": [
    "detector_type_mapping = {\n",
    "    '3 Combination smoke and heat in a single unit':'3 Combination smoke & heat in single unit'\n",
    "}\n",
    "df = df.withColumn('Detector Type', regexp_replace('Detector Type', '-', ''))\n",
    "df = df.replace(detector_type_mapping, subset = ['Detector Type'])"
   ]
  },
  {
   "cell_type": "code",
   "execution_count": null,
   "id": "849ef9b7-4960-40a4-8abc-d435248f3253",
   "metadata": {},
   "outputs": [],
   "source": [
    "df = df.withColumn('Detector Operation', regexp_replace('Detector Operation', '-', ''))"
   ]
  },
  {
   "cell_type": "code",
   "execution_count": null,
   "id": "91f611fa-4026-4490-9914-d5e6d1d1600b",
   "metadata": {},
   "outputs": [],
   "source": [
    "detectors_effectiveness_mapping = {'2 Alerted occupants-occ. failed to resond' : '2 Detector alerted occupants, occupants failed to respond',\n",
    "                                   '4 Failed to alert occupants' : '4 Detector failed to alert occupants'}\n",
    "df = df.withColumn('Detector Effectiveness', regexp_replace('Detector Effectiveness', '-', ''))\n",
    "df = df.replace(detectors_effectiveness_mapping, subset = ['Detector Effectiveness'])"
   ]
  },
  {
   "cell_type": "code",
   "execution_count": null,
   "id": "7a42e445-c0f2-4139-80d8-f353baeebbdd",
   "metadata": {},
   "outputs": [],
   "source": [
    "detector_failure_reason_mapping = {\n",
    "    '0 -Detector failure reason, other': '0 Detector failure reason, other',\n",
    "    '6 -Battery discharged or dead': '6 Battery discharged or dead',\n",
    "    '5 -Battery missing or disconnected': '5 Battery missing or disconnected',\n",
    "    '1 -Power fail/shutoff or disconnected dete': '1 Power failure, hardwired det. shut off, disconnect',\n",
    "    '3 -Defective': '3 Defective',\n",
    "    '4 -Lack of maintenance, inc. not cleaning': '4 Lack of maintenance, includes not cleaning',\n",
    "    '2 -Improper installation or placement': '2 Improper installation or placement of detector'\n",
    "}\n",
    "df = df.replace(detector_failure_reason_mapping, subset = ['Detector Failure Reason'])"
   ]
  },
  {
   "cell_type": "code",
   "execution_count": null,
   "id": "d62d2890-4da6-4ad5-ab0c-ebd009112061",
   "metadata": {},
   "outputs": [],
   "source": [
    "df = df.withColumn('Automatic Extinguishing System Present', regexp_replace('Automatic Extinguishing System Present', '-', ''))"
   ]
  },
  {
   "cell_type": "code",
   "execution_count": null,
   "id": "ed960e55-a856-4cde-a898-712bd4de5cb9",
   "metadata": {},
   "outputs": [],
   "source": [
    "aes_type_mapping = {\n",
    "    '1 Wet-pipe sprinkler' : '1 Wet-pipe sprinkler system',\n",
    "    '6 Halogen-type system': 'Halogen type system'\n",
    "}\n",
    "df = df.withColumn('Automatic Extinguishing Sytem Type', regexp_replace('Automatic Extinguishing Sytem Type', '-', ''))\n",
    "df = df.replace(aes_type_mapping, subset = ['Automatic Extinguishing Sytem Type'])"
   ]
  },
  {
   "cell_type": "code",
   "execution_count": null,
   "id": "1e1b8750-cb33-43e7-a874-117f427f7d1e",
   "metadata": {},
   "outputs": [],
   "source": [
    "df = df.withColumn('Automatic Extinguishing Sytem Perfomance', regexp_replace('Automatic Extinguishing Sytem Perfomance', '-', ''))"
   ]
  },
  {
   "cell_type": "code",
   "execution_count": null,
   "id": "8b6b58aa-c5f0-4f83-978e-7398a67802eb",
   "metadata": {},
   "outputs": [],
   "source": [
    "aes_failure_reason_mapping = {\n",
    "    'Reason system not effective, other': '0 Reason system not effective, other',\n",
    "    'System shut off' : '1 System shut off',\n",
    "    'Not enough agent discharged to control the fire':'2 Not enough agent discharged to control the fire',\n",
    "    'Agent discharged, but did not reach the fire': '3 Agent discharged, did not reach the fire',\n",
    "    '3 Agent discharged, did not reach the fir': '3 Agent discharged, did not reach the fire',\n",
    "    'Inappropriate system for the type of fire': '4 Inappropriate system for the type of fire',\n",
    "    'Fire not in area protected by the system': '5 Fire not in area protected by the system',\n",
    "}\n",
    "df = df.withColumn('Automatic Extinguishing Sytem Failure Reason', regexp_replace('Automatic Extinguishing Sytem Failure Reason', '-', ''))\n",
    "df = df.replace(aes_failure_reason_mapping, subset = ['Automatic Extinguishing Sytem Failure Reason'])"
   ]
  },
  {
   "cell_type": "markdown",
   "id": "63162268-0a3f-4b2a-8f99-037206254552",
   "metadata": {},
   "source": [
    "## Duplicate Data"
   ]
  },
  {
   "cell_type": "code",
   "execution_count": null,
   "id": "771a0c34-cbcf-4b57-87eb-a0519f598aa5",
   "metadata": {},
   "outputs": [],
   "source": [
    "df = df.drop_duplicates()"
   ]
  },
  {
   "cell_type": "markdown",
   "id": "aaee45bd-5885-48c6-a4e9-56f7752f96b4",
   "metadata": {},
   "source": [
    "## Feature Engineering"
   ]
  },
  {
   "cell_type": "code",
   "execution_count": 7,
   "id": "ed3a442a-e06b-4b38-9128-0cb4c400a1d2",
   "metadata": {},
   "outputs": [],
   "source": [
    "# Extract latitude and longitude using regex\n",
    "df = df.withColumn('Latitude', regexp_extract('point', '\\(-?\\d+\\.\\d+', 0))\n",
    "df = df.withColumn('Longitude', regexp_extract('point', '-?\\d+\\.\\d+\\)', 0))\n",
    "\n",
    "# Removing open and closing brackets\n",
    "df = df.withColumn('Latitude', regexp_replace('Latitude', '\\(', ''))\n",
    "df = df.withColumn('Longitude', regexp_replace('Longitude', '\\)', ''))\n",
    "\n",
    "# Casting latitude and longitude into float type\n",
    "df = df.withColumn('Latitude', col(\"Latitude\").cast(\"float\"))\n",
    "df = df.withColumn('Longitude', col(\"Longitude\").cast(\"float\"))\n",
    "\n",
    "#Drop point column\n",
    "df = df.drop('point')"
   ]
  },
  {
   "cell_type": "code",
   "execution_count": null,
   "id": "dd03add2-96fa-4f2c-8551-542760bbe3c2",
   "metadata": {},
   "outputs": [],
   "source": [
    "df = df.withColumn('Chute Time', (unix_timestamp(col(\"Arrival DtTm\")) - unix_timestamp(col(\"Alarm DtTm\")))/60) # In minutes\n",
    "df = df.withColumn('Chute Time', round(col('Chute Time'), 2))\n",
    "\n",
    "df = df.withColumn('Supression Time',(unix_timestamp(col(\"Close DtTm\")) - unix_timestamp(col(\"Arrival DtTm\")))/60) # In minutes\n",
    "df = df.withColumn('Supression Time', round(col('Supression Time'), 2))"
   ]
  },
  {
   "cell_type": "code",
   "execution_count": null,
   "id": "03edaa3f-0a7e-4ced-8a2d-4bf2778d825a",
   "metadata": {
    "scrolled": true
   },
   "outputs": [],
   "source": [
    "df.show()"
   ]
  },
  {
   "cell_type": "markdown",
   "id": "f7385728-7d2b-4d1c-9a69-9ed645931f0b",
   "metadata": {},
   "source": [
    "## Load Data into PostgreSQL"
   ]
  },
  {
   "cell_type": "code",
   "execution_count": 11,
   "id": "29c86caf-133e-48a3-8900-b210e5e630e0",
   "metadata": {
    "scrolled": true
   },
   "outputs": [
    {
     "ename": "Py4JJavaError",
     "evalue": "An error occurred while calling o83.jdbc.\n: org.postgresql.util.PSQLException: FATAL: password authentication failed for user \"root\"\n\tat org.postgresql.core.v3.ConnectionFactoryImpl.doAuthentication(ConnectionFactoryImpl.java:698)\n\tat org.postgresql.core.v3.ConnectionFactoryImpl.tryConnect(ConnectionFactoryImpl.java:207)\n\tat org.postgresql.core.v3.ConnectionFactoryImpl.openConnectionImpl(ConnectionFactoryImpl.java:262)\n\tat org.postgresql.core.ConnectionFactory.openConnection(ConnectionFactory.java:54)\n\tat org.postgresql.jdbc.PgConnection.<init>(PgConnection.java:273)\n\tat org.postgresql.Driver.makeConnection(Driver.java:446)\n\tat org.postgresql.Driver.connect(Driver.java:298)\n\tat org.apache.spark.sql.execution.datasources.jdbc.connection.BasicConnectionProvider.getConnection(BasicConnectionProvider.scala:49)\n\tat org.apache.spark.sql.execution.datasources.jdbc.connection.ConnectionProviderBase.create(ConnectionProvider.scala:102)\n\tat org.apache.spark.sql.jdbc.JdbcDialect.$anonfun$createConnectionFactory$1(JdbcDialects.scala:123)\n\tat org.apache.spark.sql.jdbc.JdbcDialect.$anonfun$createConnectionFactory$1$adapted(JdbcDialects.scala:119)\n\tat org.apache.spark.sql.execution.datasources.jdbc.JdbcRelationProvider.createRelation(JdbcRelationProvider.scala:50)\n\tat org.apache.spark.sql.execution.datasources.SaveIntoDataSourceCommand.run(SaveIntoDataSourceCommand.scala:47)\n\tat org.apache.spark.sql.execution.command.ExecutedCommandExec.sideEffectResult$lzycompute(commands.scala:75)\n\tat org.apache.spark.sql.execution.command.ExecutedCommandExec.sideEffectResult(commands.scala:73)\n\tat org.apache.spark.sql.execution.command.ExecutedCommandExec.executeCollect(commands.scala:84)\n\tat org.apache.spark.sql.execution.QueryExecution$$anonfun$eagerlyExecuteCommands$1.$anonfun$applyOrElse$1(QueryExecution.scala:98)\n\tat org.apache.spark.sql.execution.SQLExecution$.$anonfun$withNewExecutionId$6(SQLExecution.scala:118)\n\tat org.apache.spark.sql.execution.SQLExecution$.withSQLConfPropagated(SQLExecution.scala:195)\n\tat org.apache.spark.sql.execution.SQLExecution$.$anonfun$withNewExecutionId$1(SQLExecution.scala:103)\n\tat org.apache.spark.sql.SparkSession.withActive(SparkSession.scala:827)\n\tat org.apache.spark.sql.execution.SQLExecution$.withNewExecutionId(SQLExecution.scala:65)\n\tat org.apache.spark.sql.execution.QueryExecution$$anonfun$eagerlyExecuteCommands$1.applyOrElse(QueryExecution.scala:98)\n\tat org.apache.spark.sql.execution.QueryExecution$$anonfun$eagerlyExecuteCommands$1.applyOrElse(QueryExecution.scala:94)\n\tat org.apache.spark.sql.catalyst.trees.TreeNode.$anonfun$transformDownWithPruning$1(TreeNode.scala:512)\n\tat org.apache.spark.sql.catalyst.trees.CurrentOrigin$.withOrigin(TreeNode.scala:104)\n\tat org.apache.spark.sql.catalyst.trees.TreeNode.transformDownWithPruning(TreeNode.scala:512)\n\tat org.apache.spark.sql.catalyst.plans.logical.LogicalPlan.org$apache$spark$sql$catalyst$plans$logical$AnalysisHelper$$super$transformDownWithPruning(LogicalPlan.scala:31)\n\tat org.apache.spark.sql.catalyst.plans.logical.AnalysisHelper.transformDownWithPruning(AnalysisHelper.scala:267)\n\tat org.apache.spark.sql.catalyst.plans.logical.AnalysisHelper.transformDownWithPruning$(AnalysisHelper.scala:263)\n\tat org.apache.spark.sql.catalyst.plans.logical.LogicalPlan.transformDownWithPruning(LogicalPlan.scala:31)\n\tat org.apache.spark.sql.catalyst.plans.logical.LogicalPlan.transformDownWithPruning(LogicalPlan.scala:31)\n\tat org.apache.spark.sql.catalyst.trees.TreeNode.transformDown(TreeNode.scala:488)\n\tat org.apache.spark.sql.execution.QueryExecution.eagerlyExecuteCommands(QueryExecution.scala:94)\n\tat org.apache.spark.sql.execution.QueryExecution.commandExecuted$lzycompute(QueryExecution.scala:81)\n\tat org.apache.spark.sql.execution.QueryExecution.commandExecuted(QueryExecution.scala:79)\n\tat org.apache.spark.sql.execution.QueryExecution.assertCommandExecuted(QueryExecution.scala:133)\n\tat org.apache.spark.sql.DataFrameWriter.runCommand(DataFrameWriter.scala:856)\n\tat org.apache.spark.sql.DataFrameWriter.saveToV1Source(DataFrameWriter.scala:387)\n\tat org.apache.spark.sql.DataFrameWriter.saveInternal(DataFrameWriter.scala:360)\n\tat org.apache.spark.sql.DataFrameWriter.save(DataFrameWriter.scala:247)\n\tat org.apache.spark.sql.DataFrameWriter.jdbc(DataFrameWriter.scala:753)\n\tat java.base/jdk.internal.reflect.NativeMethodAccessorImpl.invoke0(Native Method)\n\tat java.base/jdk.internal.reflect.NativeMethodAccessorImpl.invoke(NativeMethodAccessorImpl.java:77)\n\tat java.base/jdk.internal.reflect.DelegatingMethodAccessorImpl.invoke(DelegatingMethodAccessorImpl.java:43)\n\tat java.base/java.lang.reflect.Method.invoke(Method.java:568)\n\tat py4j.reflection.MethodInvoker.invoke(MethodInvoker.java:244)\n\tat py4j.reflection.ReflectionEngine.invoke(ReflectionEngine.java:374)\n\tat py4j.Gateway.invoke(Gateway.java:282)\n\tat py4j.commands.AbstractCommand.invokeMethod(AbstractCommand.java:132)\n\tat py4j.commands.CallCommand.execute(CallCommand.java:79)\n\tat py4j.ClientServerConnection.waitForCommands(ClientServerConnection.java:182)\n\tat py4j.ClientServerConnection.run(ClientServerConnection.java:106)\n\tat java.base/java.lang.Thread.run(Thread.java:840)\n",
     "output_type": "error",
     "traceback": [
      "\u001b[0;31m---------------------------------------------------------------------------\u001b[0m",
      "\u001b[0;31mPy4JJavaError\u001b[0m                             Traceback (most recent call last)",
      "Cell \u001b[0;32mIn[11], line 8\u001b[0m\n\u001b[1;32m      6\u001b[0m mode \u001b[38;5;241m=\u001b[39m \u001b[38;5;124m'\u001b[39m\u001b[38;5;124moverwrite\u001b[39m\u001b[38;5;124m'\u001b[39m\n\u001b[1;32m      7\u001b[0m url \u001b[38;5;241m=\u001b[39m \u001b[38;5;124m'\u001b[39m\u001b[38;5;124mjdbc:postgresql://postgres-db:5432/fire-incident-db\u001b[39m\u001b[38;5;124m'\u001b[39m\n\u001b[0;32m----> 8\u001b[0m \u001b[43mdf\u001b[49m\u001b[38;5;241;43m.\u001b[39;49m\u001b[43mwrite\u001b[49m\u001b[38;5;241;43m.\u001b[39;49m\u001b[43mjdbc\u001b[49m\u001b[43m(\u001b[49m\u001b[43murl\u001b[49m\u001b[38;5;241;43m=\u001b[39;49m\u001b[43murl\u001b[49m\u001b[43m,\u001b[49m\u001b[43m \u001b[49m\u001b[43mtable\u001b[49m\u001b[38;5;241;43m=\u001b[39;49m\u001b[38;5;124;43m'\u001b[39;49m\u001b[38;5;124;43mfire-incident\u001b[39;49m\u001b[38;5;124;43m'\u001b[39;49m\u001b[43m,\u001b[49m\u001b[43m \u001b[49m\u001b[43mmode\u001b[49m\u001b[38;5;241;43m=\u001b[39;49m\u001b[43mmode\u001b[49m\u001b[43m,\u001b[49m\u001b[43m \u001b[49m\u001b[43mproperties\u001b[49m\u001b[38;5;241;43m=\u001b[39;49m\u001b[43mproperties\u001b[49m\u001b[43m)\u001b[49m\n",
      "File \u001b[0;32m/opt/spark/python/pyspark/sql/readwriter.py:1919\u001b[0m, in \u001b[0;36mDataFrameWriter.jdbc\u001b[0;34m(self, url, table, mode, properties)\u001b[0m\n\u001b[1;32m   1917\u001b[0m \u001b[38;5;28;01mfor\u001b[39;00m k \u001b[38;5;129;01min\u001b[39;00m properties:\n\u001b[1;32m   1918\u001b[0m     jprop\u001b[38;5;241m.\u001b[39msetProperty(k, properties[k])\n\u001b[0;32m-> 1919\u001b[0m \u001b[38;5;28;43mself\u001b[39;49m\u001b[38;5;241;43m.\u001b[39;49m\u001b[43mmode\u001b[49m\u001b[43m(\u001b[49m\u001b[43mmode\u001b[49m\u001b[43m)\u001b[49m\u001b[38;5;241;43m.\u001b[39;49m\u001b[43m_jwrite\u001b[49m\u001b[38;5;241;43m.\u001b[39;49m\u001b[43mjdbc\u001b[49m\u001b[43m(\u001b[49m\u001b[43murl\u001b[49m\u001b[43m,\u001b[49m\u001b[43m \u001b[49m\u001b[43mtable\u001b[49m\u001b[43m,\u001b[49m\u001b[43m \u001b[49m\u001b[43mjprop\u001b[49m\u001b[43m)\u001b[49m\n",
      "File \u001b[0;32m/usr/local/lib/python3.11/site-packages/py4j/java_gateway.py:1322\u001b[0m, in \u001b[0;36mJavaMember.__call__\u001b[0;34m(self, *args)\u001b[0m\n\u001b[1;32m   1316\u001b[0m command \u001b[38;5;241m=\u001b[39m proto\u001b[38;5;241m.\u001b[39mCALL_COMMAND_NAME \u001b[38;5;241m+\u001b[39m\\\n\u001b[1;32m   1317\u001b[0m     \u001b[38;5;28mself\u001b[39m\u001b[38;5;241m.\u001b[39mcommand_header \u001b[38;5;241m+\u001b[39m\\\n\u001b[1;32m   1318\u001b[0m     args_command \u001b[38;5;241m+\u001b[39m\\\n\u001b[1;32m   1319\u001b[0m     proto\u001b[38;5;241m.\u001b[39mEND_COMMAND_PART\n\u001b[1;32m   1321\u001b[0m answer \u001b[38;5;241m=\u001b[39m \u001b[38;5;28mself\u001b[39m\u001b[38;5;241m.\u001b[39mgateway_client\u001b[38;5;241m.\u001b[39msend_command(command)\n\u001b[0;32m-> 1322\u001b[0m return_value \u001b[38;5;241m=\u001b[39m \u001b[43mget_return_value\u001b[49m\u001b[43m(\u001b[49m\n\u001b[1;32m   1323\u001b[0m \u001b[43m    \u001b[49m\u001b[43manswer\u001b[49m\u001b[43m,\u001b[49m\u001b[43m \u001b[49m\u001b[38;5;28;43mself\u001b[39;49m\u001b[38;5;241;43m.\u001b[39;49m\u001b[43mgateway_client\u001b[49m\u001b[43m,\u001b[49m\u001b[43m \u001b[49m\u001b[38;5;28;43mself\u001b[39;49m\u001b[38;5;241;43m.\u001b[39;49m\u001b[43mtarget_id\u001b[49m\u001b[43m,\u001b[49m\u001b[43m \u001b[49m\u001b[38;5;28;43mself\u001b[39;49m\u001b[38;5;241;43m.\u001b[39;49m\u001b[43mname\u001b[49m\u001b[43m)\u001b[49m\n\u001b[1;32m   1325\u001b[0m \u001b[38;5;28;01mfor\u001b[39;00m temp_arg \u001b[38;5;129;01min\u001b[39;00m temp_args:\n\u001b[1;32m   1326\u001b[0m     \u001b[38;5;28;01mif\u001b[39;00m \u001b[38;5;28mhasattr\u001b[39m(temp_arg, \u001b[38;5;124m\"\u001b[39m\u001b[38;5;124m_detach\u001b[39m\u001b[38;5;124m\"\u001b[39m):\n",
      "File \u001b[0;32m/opt/spark/python/pyspark/errors/exceptions/captured.py:169\u001b[0m, in \u001b[0;36mcapture_sql_exception.<locals>.deco\u001b[0;34m(*a, **kw)\u001b[0m\n\u001b[1;32m    167\u001b[0m \u001b[38;5;28;01mdef\u001b[39;00m \u001b[38;5;21mdeco\u001b[39m(\u001b[38;5;241m*\u001b[39ma: Any, \u001b[38;5;241m*\u001b[39m\u001b[38;5;241m*\u001b[39mkw: Any) \u001b[38;5;241m-\u001b[39m\u001b[38;5;241m>\u001b[39m Any:\n\u001b[1;32m    168\u001b[0m     \u001b[38;5;28;01mtry\u001b[39;00m:\n\u001b[0;32m--> 169\u001b[0m         \u001b[38;5;28;01mreturn\u001b[39;00m \u001b[43mf\u001b[49m\u001b[43m(\u001b[49m\u001b[38;5;241;43m*\u001b[39;49m\u001b[43ma\u001b[49m\u001b[43m,\u001b[49m\u001b[43m \u001b[49m\u001b[38;5;241;43m*\u001b[39;49m\u001b[38;5;241;43m*\u001b[39;49m\u001b[43mkw\u001b[49m\u001b[43m)\u001b[49m\n\u001b[1;32m    170\u001b[0m     \u001b[38;5;28;01mexcept\u001b[39;00m Py4JJavaError \u001b[38;5;28;01mas\u001b[39;00m e:\n\u001b[1;32m    171\u001b[0m         converted \u001b[38;5;241m=\u001b[39m convert_exception(e\u001b[38;5;241m.\u001b[39mjava_exception)\n",
      "File \u001b[0;32m/usr/local/lib/python3.11/site-packages/py4j/protocol.py:326\u001b[0m, in \u001b[0;36mget_return_value\u001b[0;34m(answer, gateway_client, target_id, name)\u001b[0m\n\u001b[1;32m    324\u001b[0m value \u001b[38;5;241m=\u001b[39m OUTPUT_CONVERTER[\u001b[38;5;28mtype\u001b[39m](answer[\u001b[38;5;241m2\u001b[39m:], gateway_client)\n\u001b[1;32m    325\u001b[0m \u001b[38;5;28;01mif\u001b[39;00m answer[\u001b[38;5;241m1\u001b[39m] \u001b[38;5;241m==\u001b[39m REFERENCE_TYPE:\n\u001b[0;32m--> 326\u001b[0m     \u001b[38;5;28;01mraise\u001b[39;00m Py4JJavaError(\n\u001b[1;32m    327\u001b[0m         \u001b[38;5;124m\"\u001b[39m\u001b[38;5;124mAn error occurred while calling \u001b[39m\u001b[38;5;132;01m{0}\u001b[39;00m\u001b[38;5;132;01m{1}\u001b[39;00m\u001b[38;5;132;01m{2}\u001b[39;00m\u001b[38;5;124m.\u001b[39m\u001b[38;5;130;01m\\n\u001b[39;00m\u001b[38;5;124m\"\u001b[39m\u001b[38;5;241m.\u001b[39m\n\u001b[1;32m    328\u001b[0m         \u001b[38;5;28mformat\u001b[39m(target_id, \u001b[38;5;124m\"\u001b[39m\u001b[38;5;124m.\u001b[39m\u001b[38;5;124m\"\u001b[39m, name), value)\n\u001b[1;32m    329\u001b[0m \u001b[38;5;28;01melse\u001b[39;00m:\n\u001b[1;32m    330\u001b[0m     \u001b[38;5;28;01mraise\u001b[39;00m Py4JError(\n\u001b[1;32m    331\u001b[0m         \u001b[38;5;124m\"\u001b[39m\u001b[38;5;124mAn error occurred while calling \u001b[39m\u001b[38;5;132;01m{0}\u001b[39;00m\u001b[38;5;132;01m{1}\u001b[39;00m\u001b[38;5;132;01m{2}\u001b[39;00m\u001b[38;5;124m. Trace:\u001b[39m\u001b[38;5;130;01m\\n\u001b[39;00m\u001b[38;5;132;01m{3}\u001b[39;00m\u001b[38;5;130;01m\\n\u001b[39;00m\u001b[38;5;124m\"\u001b[39m\u001b[38;5;241m.\u001b[39m\n\u001b[1;32m    332\u001b[0m         \u001b[38;5;28mformat\u001b[39m(target_id, \u001b[38;5;124m\"\u001b[39m\u001b[38;5;124m.\u001b[39m\u001b[38;5;124m\"\u001b[39m, name, value))\n",
      "\u001b[0;31mPy4JJavaError\u001b[0m: An error occurred while calling o83.jdbc.\n: org.postgresql.util.PSQLException: FATAL: password authentication failed for user \"root\"\n\tat org.postgresql.core.v3.ConnectionFactoryImpl.doAuthentication(ConnectionFactoryImpl.java:698)\n\tat org.postgresql.core.v3.ConnectionFactoryImpl.tryConnect(ConnectionFactoryImpl.java:207)\n\tat org.postgresql.core.v3.ConnectionFactoryImpl.openConnectionImpl(ConnectionFactoryImpl.java:262)\n\tat org.postgresql.core.ConnectionFactory.openConnection(ConnectionFactory.java:54)\n\tat org.postgresql.jdbc.PgConnection.<init>(PgConnection.java:273)\n\tat org.postgresql.Driver.makeConnection(Driver.java:446)\n\tat org.postgresql.Driver.connect(Driver.java:298)\n\tat org.apache.spark.sql.execution.datasources.jdbc.connection.BasicConnectionProvider.getConnection(BasicConnectionProvider.scala:49)\n\tat org.apache.spark.sql.execution.datasources.jdbc.connection.ConnectionProviderBase.create(ConnectionProvider.scala:102)\n\tat org.apache.spark.sql.jdbc.JdbcDialect.$anonfun$createConnectionFactory$1(JdbcDialects.scala:123)\n\tat org.apache.spark.sql.jdbc.JdbcDialect.$anonfun$createConnectionFactory$1$adapted(JdbcDialects.scala:119)\n\tat org.apache.spark.sql.execution.datasources.jdbc.JdbcRelationProvider.createRelation(JdbcRelationProvider.scala:50)\n\tat org.apache.spark.sql.execution.datasources.SaveIntoDataSourceCommand.run(SaveIntoDataSourceCommand.scala:47)\n\tat org.apache.spark.sql.execution.command.ExecutedCommandExec.sideEffectResult$lzycompute(commands.scala:75)\n\tat org.apache.spark.sql.execution.command.ExecutedCommandExec.sideEffectResult(commands.scala:73)\n\tat org.apache.spark.sql.execution.command.ExecutedCommandExec.executeCollect(commands.scala:84)\n\tat org.apache.spark.sql.execution.QueryExecution$$anonfun$eagerlyExecuteCommands$1.$anonfun$applyOrElse$1(QueryExecution.scala:98)\n\tat org.apache.spark.sql.execution.SQLExecution$.$anonfun$withNewExecutionId$6(SQLExecution.scala:118)\n\tat org.apache.spark.sql.execution.SQLExecution$.withSQLConfPropagated(SQLExecution.scala:195)\n\tat org.apache.spark.sql.execution.SQLExecution$.$anonfun$withNewExecutionId$1(SQLExecution.scala:103)\n\tat org.apache.spark.sql.SparkSession.withActive(SparkSession.scala:827)\n\tat org.apache.spark.sql.execution.SQLExecution$.withNewExecutionId(SQLExecution.scala:65)\n\tat org.apache.spark.sql.execution.QueryExecution$$anonfun$eagerlyExecuteCommands$1.applyOrElse(QueryExecution.scala:98)\n\tat org.apache.spark.sql.execution.QueryExecution$$anonfun$eagerlyExecuteCommands$1.applyOrElse(QueryExecution.scala:94)\n\tat org.apache.spark.sql.catalyst.trees.TreeNode.$anonfun$transformDownWithPruning$1(TreeNode.scala:512)\n\tat org.apache.spark.sql.catalyst.trees.CurrentOrigin$.withOrigin(TreeNode.scala:104)\n\tat org.apache.spark.sql.catalyst.trees.TreeNode.transformDownWithPruning(TreeNode.scala:512)\n\tat org.apache.spark.sql.catalyst.plans.logical.LogicalPlan.org$apache$spark$sql$catalyst$plans$logical$AnalysisHelper$$super$transformDownWithPruning(LogicalPlan.scala:31)\n\tat org.apache.spark.sql.catalyst.plans.logical.AnalysisHelper.transformDownWithPruning(AnalysisHelper.scala:267)\n\tat org.apache.spark.sql.catalyst.plans.logical.AnalysisHelper.transformDownWithPruning$(AnalysisHelper.scala:263)\n\tat org.apache.spark.sql.catalyst.plans.logical.LogicalPlan.transformDownWithPruning(LogicalPlan.scala:31)\n\tat org.apache.spark.sql.catalyst.plans.logical.LogicalPlan.transformDownWithPruning(LogicalPlan.scala:31)\n\tat org.apache.spark.sql.catalyst.trees.TreeNode.transformDown(TreeNode.scala:488)\n\tat org.apache.spark.sql.execution.QueryExecution.eagerlyExecuteCommands(QueryExecution.scala:94)\n\tat org.apache.spark.sql.execution.QueryExecution.commandExecuted$lzycompute(QueryExecution.scala:81)\n\tat org.apache.spark.sql.execution.QueryExecution.commandExecuted(QueryExecution.scala:79)\n\tat org.apache.spark.sql.execution.QueryExecution.assertCommandExecuted(QueryExecution.scala:133)\n\tat org.apache.spark.sql.DataFrameWriter.runCommand(DataFrameWriter.scala:856)\n\tat org.apache.spark.sql.DataFrameWriter.saveToV1Source(DataFrameWriter.scala:387)\n\tat org.apache.spark.sql.DataFrameWriter.saveInternal(DataFrameWriter.scala:360)\n\tat org.apache.spark.sql.DataFrameWriter.save(DataFrameWriter.scala:247)\n\tat org.apache.spark.sql.DataFrameWriter.jdbc(DataFrameWriter.scala:753)\n\tat java.base/jdk.internal.reflect.NativeMethodAccessorImpl.invoke0(Native Method)\n\tat java.base/jdk.internal.reflect.NativeMethodAccessorImpl.invoke(NativeMethodAccessorImpl.java:77)\n\tat java.base/jdk.internal.reflect.DelegatingMethodAccessorImpl.invoke(DelegatingMethodAccessorImpl.java:43)\n\tat java.base/java.lang.reflect.Method.invoke(Method.java:568)\n\tat py4j.reflection.MethodInvoker.invoke(MethodInvoker.java:244)\n\tat py4j.reflection.ReflectionEngine.invoke(ReflectionEngine.java:374)\n\tat py4j.Gateway.invoke(Gateway.java:282)\n\tat py4j.commands.AbstractCommand.invokeMethod(AbstractCommand.java:132)\n\tat py4j.commands.CallCommand.execute(CallCommand.java:79)\n\tat py4j.ClientServerConnection.waitForCommands(ClientServerConnection.java:182)\n\tat py4j.ClientServerConnection.run(ClientServerConnection.java:106)\n\tat java.base/java.lang.Thread.run(Thread.java:840)\n"
     ]
    }
   ],
   "source": [
    "properties = {\n",
    "    'username':'user',\n",
    "    'password':'password',\n",
    "    'driver': 'org.postgresql.Driver'\n",
    "}\n",
    "mode = 'overwrite'\n",
    "url = 'jdbc:postgresql://postgres-db:5432/fire-incident-db'\n",
    "df.write.jdbc(url=url, table='fire-incident', mode=mode, properties=properties)"
   ]
  },
  {
   "cell_type": "code",
   "execution_count": 12,
   "id": "a7d84a0e-2061-459c-ae6f-b66133f8d946",
   "metadata": {},
   "outputs": [
    {
     "name": "stdout",
     "output_type": "stream",
     "text": [
      "Collecting psycopg2\n",
      "  Downloading psycopg2-2.9.9.tar.gz (384 kB)\n",
      "\u001b[2K     \u001b[90m━━━━━━━━━━━━━━━━━━━━━━━━━━━━━━━━━━━━━━━\u001b[0m \u001b[32m384.9/384.9 kB\u001b[0m \u001b[31m1.2 MB/s\u001b[0m eta \u001b[36m0:00:00\u001b[0m00:01\u001b[0m00:01\u001b[0m\n",
      "\u001b[?25h  Preparing metadata (setup.py) ... \u001b[?25ldone\n",
      "\u001b[?25hBuilding wheels for collected packages: psycopg2\n",
      "  Building wheel for psycopg2 (setup.py) ... \u001b[?25ldone\n",
      "\u001b[?25h  Created wheel for psycopg2: filename=psycopg2-2.9.9-cp311-cp311-linux_x86_64.whl size=494965 sha256=21961d3121e103168c334d82b9e4405b819df584c4ed077e02c261237262c102\n",
      "  Stored in directory: /root/.cache/pip/wheels/ab/34/b9/78ebef1b3220b4840ee482461e738566c3c9165d2b5c914f51\n",
      "Successfully built psycopg2\n",
      "Installing collected packages: psycopg2\n",
      "Successfully installed psycopg2-2.9.9\n",
      "\u001b[33mWARNING: Running pip as the 'root' user can result in broken permissions and conflicting behaviour with the system package manager. It is recommended to use a virtual environment instead: https://pip.pypa.io/warnings/venv\u001b[0m\u001b[33m\n",
      "\u001b[0m\n",
      "\u001b[1m[\u001b[0m\u001b[34;49mnotice\u001b[0m\u001b[1;39;49m]\u001b[0m\u001b[39;49m A new release of pip is available: \u001b[0m\u001b[31;49m24.0\u001b[0m\u001b[39;49m -> \u001b[0m\u001b[32;49m24.1.2\u001b[0m\n",
      "\u001b[1m[\u001b[0m\u001b[34;49mnotice\u001b[0m\u001b[1;39;49m]\u001b[0m\u001b[39;49m To update, run: \u001b[0m\u001b[32;49mpip install --upgrade pip\u001b[0m\n"
     ]
    }
   ],
   "source": [
    "!pip install psycopg2"
   ]
  }
 ],
 "metadata": {
  "kernelspec": {
   "display_name": "Python 3 (ipykernel)",
   "language": "python",
   "name": "python3"
  },
  "language_info": {
   "codemirror_mode": {
    "name": "ipython",
    "version": 3
   },
   "file_extension": ".py",
   "mimetype": "text/x-python",
   "name": "python",
   "nbconvert_exporter": "python",
   "pygments_lexer": "ipython3",
   "version": "3.11.9"
  }
 },
 "nbformat": 4,
 "nbformat_minor": 5
}
